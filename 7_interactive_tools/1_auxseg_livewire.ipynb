{
 "cells": [
  {
   "cell_type": "markdown",
   "metadata": {
    "collapsed": true,
    "pycharm": {
     "name": "#%% md\n"
    }
   },
   "source": [
    "# 1.Auxiliary segmentation (AuxSeg): an interactive tool for ROI segmentation\n",
    "\n",
    "AuxSeg is designed to select the regions of interest (e.g., an entire tissue or a tumor core) in any \n",
    "arbitrary geometrical shape based on simple mouse clicks (instead of a pure-manual boundary drawing).\n",
    "\n",
    "**AuxSeg is implemented with three modes:**"
   ]
  },
  {
   "cell_type": "markdown",
   "metadata": {},
   "source": [
    "### (1) Livewire mode (a simplified magic wand tool in Photoshop). \n",
    "\n",
    "This allows the user to compute a ‘best’ path, with a minimum color gradient cost (see technicals), \n",
    "from a seed point to the next seed point. When these seed points land on the boundaries of a tissue \n",
    "in sequence, the livewire will snap on the tissue boundaries in the image.\n",
    "\n",
    "Related mouse and keyboard operation:\n",
    "1. Plot a seed point: Left mouse button single click;\n",
    "2. Draw a line: Mouse movement. In the livewire mode, the predicted path will be pre-showed on the image."
   ]
  },
  {
   "cell_type": "markdown",
   "metadata": {},
   "source": [
    "![jupyter](./screenshot/1_livewire_demo.png)"
   ]
  },
  {
   "cell_type": "markdown",
   "metadata": {},
   "source": [
    "### (2) Straight-line mode. \n",
    "This allows the user to draw the straight line between two seed points, when the livewire does not \n",
    "give the accurate prediction along some fuzzy edges, or the use just want to generate a straight \n",
    "regular border.\n",
    "\n",
    "Related mouse and keyboard operation:\n",
    "1. Switch to straight-line mode: Keyboard ‘s’."
   ]
  },
  {
   "cell_type": "markdown",
   "metadata": {},
   "source": [
    "![jupyter](./screenshot/2_straightline_demo.png)"
   ]
  },
  {
   "cell_type": "markdown",
   "metadata": {},
   "source": [
    "### (3) Withdraw mode. \n",
    "This allows the user to cancel the last operation.\n",
    "\n",
    "Related mouse and keyboard operation:\n",
    "1. Withdraw: Keyboard ‘z’."
   ]
  },
  {
   "cell_type": "markdown",
   "metadata": {},
   "source": [
    "**See our breif tutorial video here**: https://www.dropbox.com/s/oy87fpazivg85iw/livewire_tissue_seg.mp4?dl=0"
   ]
  },
  {
   "cell_type": "markdown",
   "metadata": {
    "collapsed": false,
    "pycharm": {
     "name": "#%% md\n"
    }
   },
   "source": [
    "## Code demo"
   ]
  },
  {
   "cell_type": "code",
   "execution_count": null,
   "metadata": {
    "collapsed": false,
    "pycharm": {
     "name": "#%%\n"
    }
   },
   "outputs": [],
   "source": [
    "# import packages\n",
    "import spateo as st\n",
    "import numpy as np\n",
    "import matplotlib.pyplot as plt\n",
    "\n",
    "\n",
    "# raw binning data, which contains spot/bins from the whole chip\n",
    "# bin50_h5ad: https://www.dropbox.com/s/vtapwsccpi885l2/mousebrain_bin50_raw.h5ad?dl=0\n",
    "fname_bin50 = \"mousebrain_bin50_raw.h5ad\"\n",
    "adata_bin50 = st.sample_data.mousebrain(fname_bin50)\n",
    "\n",
    "\n",
    "# rescale spatial coordinates to generate UMI image\n",
    "coor = np.column_stack((adata_bin50.obsm['spatial'], adata_bin50.X.sum(axis=1).A)).astype('int')\n",
    "coor[:, 0] = ((coor[:, 0] - 25) / 50).astype('int')\n",
    "coor[:, 1] = ((coor[:, 1] - 25) / 50).astype('int')\n",
    "img = np.zeros(shape=[max(coor[:, 0]) + 1, max(coor[:, 1]) + 1], dtype='int')\n",
    "for line in coor:\n",
    "    img[line[0], line[1]] = 20 if line[2] > 2000 else int(line[2] / 100)\n",
    "\n",
    "\n",
    "# perform interactive tissue cut (interactive process, see tutorial video)\n",
    "tissue_seg = st.pp.auxseg.LiveWireSegmentation(img, smooth_image=False, threshold_gradient_image=False)\n",
    "plt.scatter(coor[:, 1], coor[:, 0], c=coor[:, 2], s=30)\n",
    "tissue_seg.connect()\n",
    "plt.show()\n",
    "\n",
    "\n",
    "# subset adata to tissue area only\n",
    "tissue_area = [x.tolist() in tissue_seg.rst.tolist() for x in adata_bin50.obsm['spatial'].astype('int')]\n",
    "adata_bin50 = adata_bin50[tissue_area,: ]\n",
    "adata_bin50"
   ]
  }
 ],
 "metadata": {
  "kernelspec": {
   "display_name": "Python 3.9.6 64-bit",
   "language": "python",
   "name": "python3"
  },
  "language_info": {
   "codemirror_mode": {
    "name": "ipython",
    "version": 2
   },
   "file_extension": ".py",
   "mimetype": "text/x-python",
   "name": "python",
   "nbconvert_exporter": "python",
   "pygments_lexer": "ipython2",
   "version": "3.9.6"
  },
  "vscode": {
   "interpreter": {
    "hash": "31f2aee4e71d21fbe5cf8b01ff0e069b9275f58929596ceb00d14d90e3e16cd6"
   }
  }
 },
 "nbformat": 4,
 "nbformat_minor": 0
}
