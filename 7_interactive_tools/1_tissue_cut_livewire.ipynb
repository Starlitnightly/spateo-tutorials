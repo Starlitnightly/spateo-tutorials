{
 "cells": [
  {
   "cell_type": "markdown",
   "metadata": {
    "collapsed": true,
    "pycharm": {
     "name": "#%% md\n"
    }
   },
   "source": [
    "# 1.Interactive tissue cut using livewire lasso\n",
    "\n",
    "This notebook demonstrates the tissue cut process, in which we filter out spots/cells outside of the tissue area.\n",
    "\n",
    "See our breif tutorial video here: https://www.dropbox.com/s/oy87fpazivg85iw/livewire_tissue_cut.mp4?dl=0\n",
    "\n",
    "Mouse-keyboard mapping\n",
    "1. Left mouse button single click: plot point\n",
    "2. Mouse movement: draw lines attached to tissue boundary\n",
    "3. Keyboard 'z': draw straight lines instead\n",
    "4. Keyboard 'Ctrl+C': cancel last operation\n",
    "5. Repeat above operations and plot on the starting point to end drawing."
   ]
  },
  {
   "cell_type": "markdown",
   "metadata": {
    "collapsed": false,
    "pycharm": {
     "name": "#%% md\n"
    }
   },
   "source": [
    "## Packages"
   ]
  },
  {
   "cell_type": "code",
   "execution_count": null,
   "metadata": {
    "collapsed": false,
    "pycharm": {
     "name": "#%%\n"
    }
   },
   "outputs": [],
   "source": [
    "import spateo as st\n",
    "import numpy as np\n",
    "\n",
    "import matplotlib.pyplot as plt"
   ]
  },
  {
   "cell_type": "markdown",
   "metadata": {
    "collapsed": false,
    "pycharm": {
     "name": "#%% md\n"
    }
   },
   "source": [
    "## Data source\n",
    "\n",
    "**bin50_h5ad**: https://www.dropbox.com/s/vtapwsccpi885l2/mousebrain_bin50_raw.h5ad?dl=0\n"
   ]
  },
  {
   "cell_type": "code",
   "execution_count": null,
   "metadata": {
    "collapsed": false,
    "pycharm": {
     "name": "#%%\n"
    }
   },
   "outputs": [],
   "source": [
    "# raw binning data, which contains spot/bins from the whole chip\n",
    "fname_bin50 = \"mousebrain_bin50_raw.h5ad\"\n",
    "adata_bin50 = st.sample_data.mousebrain(fname_bin50)"
   ]
  },
  {
   "cell_type": "markdown",
   "metadata": {},
   "source": [
    "## Interactive tissue cut"
   ]
  },
  {
   "cell_type": "code",
   "execution_count": null,
   "metadata": {},
   "outputs": [],
   "source": [
    "# rescale spatial coordinates to generate UMI image\n",
    "coor = np.column_stack((adata_bin50.obsm['spatial'], adata_bin50.X.sum(axis=1).A)).astype('int')\n",
    "coor[:, 0] = ((coor[:, 0] - 25) / 50).astype('int')\n",
    "coor[:, 1] = ((coor[:, 1] - 25) / 50).astype('int')\n",
    "img = np.zeros(shape=[max(coor[:, 0]) + 1, max(coor[:, 1]) + 1], dtype='int')\n",
    "for line in coor:\n",
    "    img[line[0], line[1]] = 20 if line[2] > 2000 else int(line[2] / 100)"
   ]
  },
  {
   "cell_type": "code",
   "execution_count": null,
   "metadata": {},
   "outputs": [],
   "source": [
    "# perform interactive tissue cut (interactive process, see tutorial video)\n",
    "tissue_cut = st.pp.tissue_cut.LiveWireSegmentation(img, smooth_image=False, threshold_gradient_image=False)\n",
    "plt.scatter(coor[:, 1], coor[:, 0], c=coor[:, 2], s=30)\n",
    "tissue_cut.connect()\n",
    "plt.show()"
   ]
  },
  {
   "cell_type": "code",
   "execution_count": null,
   "metadata": {},
   "outputs": [],
   "source": [
    "# subset adata to tissue area only\n",
    "tissue_area = [x.tolist() in tissue_cut.rst.tolist() for x in adata_bin50.obsm['spatial'].astype('int')]\n",
    "adata_bin50 = adata_bin50[tissue_area,: ]\n",
    "\n",
    "adata_bin50"
   ]
  }
 ],
 "metadata": {
  "kernelspec": {
   "display_name": "Python 3.9.6 64-bit",
   "language": "python",
   "name": "python3"
  },
  "language_info": {
   "codemirror_mode": {
    "name": "ipython",
    "version": 2
   },
   "file_extension": ".py",
   "mimetype": "text/x-python",
   "name": "python",
   "nbconvert_exporter": "python",
   "pygments_lexer": "ipython2",
   "version": "3.9.6"
  },
  "vscode": {
   "interpreter": {
    "hash": "31f2aee4e71d21fbe5cf8b01ff0e069b9275f58929596ceb00d14d90e3e16cd6"
   }
  }
 },
 "nbformat": 4,
 "nbformat_minor": 0
}
