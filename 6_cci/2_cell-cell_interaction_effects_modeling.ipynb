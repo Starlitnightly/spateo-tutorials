{
 "cells": [
  {
   "cell_type": "markdown",
   "id": "e09a6940-3f36-46d7-842d-db9b2b48bd26",
   "metadata": {
    "pycharm": {
     "name": "#%% md\n"
    }
   },
   "source": [
    "# Inference of cell-cell interaction effects"
   ]
  },
  {
   "cell_type": "markdown",
   "id": "aca17861-b9c6-4a33-b550-0be251c6ef21",
   "metadata": {
    "pycharm": {
     "name": "#%% md\n"
    }
   },
   "source": [
    "#### This notebook provides a basic tutorial on selecting target genes from spatially-variable genes and using Spateo's models to infer the effect on intercellular interaction on expression of these genes"
   ]
  },
  {
   "cell_type": "code",
   "execution_count": 1,
   "id": "4d016da5-2315-4eb4-8365-bc4003ae0743",
   "metadata": {
    "pycharm": {
     "name": "#%%\n"
    },
    "tags": []
   },
   "outputs": [
    {
     "name": "stderr",
     "output_type": "stream",
     "text": [
      "2024-06-25 18:15:49.844308: W tensorflow/stream_executor/platform/default/dso_loader.cc:64] Could not load dynamic library 'libcudart.so.11.0'; dlerror: libcudart.so.11.0: cannot open shared object file: No such file or directory\n",
      "2024-06-25 18:15:49.844362: I tensorflow/stream_executor/cuda/cudart_stub.cc:29] Ignore above cudart dlerror if you do not have a GPU set up on your machine.\n"
     ]
    }
   ],
   "source": [
    "import os\n",
    "import anndata\n",
    "import spateo as st\n",
    "import matplotlib.pyplot as plt\n",
    "import seaborn as sns\n",
    "import pandas as pd\n",
    "import numpy as np\n",
    "import scipy"
   ]
  },
  {
   "cell_type": "code",
   "execution_count": 2,
   "id": "0473a829-9abf-4230-9c00-df4607d762ee",
   "metadata": {
    "pycharm": {
     "name": "#%%\n"
    },
    "tags": []
   },
   "outputs": [],
   "source": [
    "%config InlineBackend.print_figure_kwargs={'dpi': 300.0}"
   ]
  },
  {
   "cell_type": "markdown",
   "id": "a1d08d31-da0f-4744-b217-bc2cfedcd6ae",
   "metadata": {
    "pycharm": {
     "name": "#%% md\n"
    }
   },
   "source": [
    "## Load data: the CosMx lung cancer sample can be found: https://drive.google.com/drive/folders/1nAea9yg1OBlfb5eX-jLqWz3GyC8BMwlT?usp=sharing"
   ]
  },
  {
   "cell_type": "code",
   "execution_count": null,
   "id": "456b9ba3-d4ef-4e23-be59-698f04a8e189",
   "metadata": {
    "pycharm": {
     "name": "#%%\n"
    },
    "tags": []
   },
   "outputs": [],
   "source": [
    "# Replace with the directory the FOV 4 AnnData object was downloaded to\n",
    "nanostring_dir = \"/mnt/d/SCData/NSCLC_CosMx/Lung5_Rep1-Flat_files_and_images\""
   ]
  },
  {
   "cell_type": "code",
   "execution_count": null,
   "id": "c5fa9f70-3815-4078-95cb-6614d000c309",
   "metadata": {
    "pycharm": {
     "name": "#%%\n"
    },
    "tags": []
   },
   "outputs": [],
   "source": [
    "lung5_rep1_fov = anndata.read_h5ad(os.path.join(nanostring_dir, \"fov_4.h5ad\"))\n",
    "lung5_rep1_fov"
   ]
  },
  {
   "cell_type": "code",
   "execution_count": null,
   "id": "d2c6a7a1-ce5e-4fcc-927a-94f8c6c4efdb",
   "metadata": {
    "pycharm": {
     "name": "#%%\n"
    }
   },
   "outputs": [],
   "source": [
    "# Getting an idea of the scale of the spatial coordinates:\n",
    "print(np.min(lung5_rep1_fov.obsm[\"spatial\"][:, 0]))\n",
    "print(np.min(lung5_rep1_fov.obsm[\"spatial\"][:, 1]))\n",
    "print(np.max(lung5_rep1_fov.obsm[\"spatial\"][:, 0]))\n",
    "print(np.max(lung5_rep1_fov.obsm[\"spatial\"][:, 1]))"
   ]
  },
  {
   "cell_type": "code",
   "execution_count": null,
   "id": "cc3d569b-fdcd-4c25-bc11-69ee0ae65afb",
   "metadata": {
    "pycharm": {
     "name": "#%%\n"
    }
   },
   "outputs": [],
   "source": [
    "#st.pl.geo(lung5_rep1_fov, color=[\"predicted_celltypes\"], show_legend='upper left', save_show_or_return='show', figsize=(5, 3), color_key=lung5_rep1_fov.uns[\"celltype_colors\"])"
   ]
  },
  {
   "cell_type": "code",
   "execution_count": null,
   "id": "6f28c809-59e2-4baf-b468-4f0b8d24868d",
   "metadata": {
    "pycharm": {
     "name": "#%%\n"
    }
   },
   "outputs": [],
   "source": [
    "st.pp.normalize_total(lung5_rep1_fov, target_sum=1000)"
   ]
  },
  {
   "cell_type": "markdown",
   "id": "6867d3f3-2490-47d5-a07a-1af59b19227c",
   "metadata": {
    "pycharm": {
     "name": "#%% md\n"
    }
   },
   "source": [
    "### L:R interaction database- all contents of this database can be found here, to be saved to a local folder: https://drive.google.com/drive/folders/16gDhE71F5Ap_QGnejLfY2xVmsoHjSKMP?usp=sharing "
   ]
  },
  {
   "cell_type": "code",
   "execution_count": null,
   "id": "49080d48-0451-434d-95de-7f1d3a26dfae",
   "metadata": {
    "pycharm": {
     "name": "#%%\n"
    }
   },
   "outputs": [],
   "source": [
    "cci_dir = \"/mnt/c/Users/danie/Desktop/Jupyter-Notebooks/Spateo-CCI-example/database\"\n",
    "lr_db = pd.read_csv(os.path.join(cci_dir, \"lr_db_human.csv\"), index_col=0)"
   ]
  },
  {
   "cell_type": "code",
   "execution_count": null,
   "id": "cc1b2a1e-c549-4e9a-b9ca-96b62771100a",
   "metadata": {
    "pycharm": {
     "name": "#%%\n"
    }
   },
   "outputs": [],
   "source": [
    "all_ligands = list(set(lr_db[\"from\"]))\n",
    "all_receptors = list(set(lr_db[\"to\"]))\n",
    "\n",
    "all_receptors = [item for sublist in all_receptors for item in sublist.split(\"_\")]"
   ]
  },
  {
   "cell_type": "markdown",
   "id": "48b25997-fa67-40cf-880a-73e18ed7bc6a",
   "metadata": {
    "pycharm": {
     "name": "#%% md\n"
    }
   },
   "source": [
    "## Identify target genes, ligands and receptors\n",
    "\n",
    "Genes for modeling can be obtained a number of ways- in this example, utilizing the spatial context, we can ask which interactions may drive expression of particular spatially-specific expression patterns."
   ]
  },
  {
   "cell_type": "markdown",
   "id": "ec7c657e-fd3a-4e6c-a38b-43a551761585",
   "metadata": {
    "pycharm": {
     "name": "#%% md\n"
    }
   },
   "source": [
    "### Input directory- change to the name of the folder you would like to save input information (lists of ligands, receptors, targets) to"
   ]
  },
  {
   "cell_type": "code",
   "execution_count": null,
   "id": "f7ee7179-4ee8-4d1e-a913-5ef8a4b4f5c7",
   "metadata": {
    "pycharm": {
     "name": "#%%\n"
    }
   },
   "outputs": [],
   "source": [
    "input_dir = \"/mnt/c/Users/danie/Desktop/Jupyter-Notebooks/Spateo-CCI-example/inputs\""
   ]
  },
  {
   "cell_type": "markdown",
   "id": "cce3c953-b651-49e9-be32-e8d9983f995c",
   "metadata": {
    "pycharm": {
     "name": "#%% md\n"
    }
   },
   "source": [
    "### Find spatially-variable genes (only need to run once)"
   ]
  },
  {
   "cell_type": "code",
   "execution_count": null,
   "id": "3f125ca2-3640-46b4-a410-5f31116c9be6",
   "metadata": {
    "pycharm": {
     "name": "#%%\n"
    }
   },
   "outputs": [],
   "source": [
    "# Compute Moran's I:\n",
    "m_fov = st.tl.moran_i(lung5_rep1_fov, n_jobs=30, permutations=1000)\n",
    "m_filter = m_fov[(m_fov.moran_q_val < 0.05)].sort_values(by=['moran_i'],ascending=False)\n",
    "if m_filter.empty:\n",
    "    m_fov = m_fov.sort_values(by=['moran_i'], ascending=False)\n",
    "    m_filter = m_fov.head(100)\n",
    "    \n",
    "m_filter.to_csv(f\"/mnt/c/Users/danie/Desktop/Jupyter Notebooks/Spateo-CCI-example/cosmx_lung5_rep1_fov{fov_idx}_moran.csv\")"
   ]
  },
  {
   "cell_type": "markdown",
   "id": "2c170c01-1d8d-43c7-9bda-8a7b07f46815",
   "metadata": {
    "pycharm": {
     "name": "#%% md\n"
    }
   },
   "source": [
    "### Load spatially-variable genes & further process"
   ]
  },
  {
   "cell_type": "code",
   "execution_count": null,
   "id": "79266442-1c95-4414-af1e-6e8e356877aa",
   "metadata": {
    "pycharm": {
     "name": "#%%\n"
    }
   },
   "outputs": [],
   "source": [
    "moran_genes = pd.read_csv(f\"/mnt/c/Users/danie/Desktop/Jupyter Notebooks/Spateo-CCI-example/cosmx_lung5_rep1_fov{fov_idx}_moran.csv\", index_col=0)\n",
    "moran_genes"
   ]
  },
  {
   "cell_type": "code",
   "execution_count": null,
   "id": "4f042d30-a39e-455d-aaa4-d321cc749494",
   "metadata": {
    "pycharm": {
     "name": "#%%\n"
    }
   },
   "outputs": [],
   "source": [
    "# Filter to those with particularly high moran's I:\n",
    "moran_genes = moran_genes[moran_genes[\"moran_i\"] > 0.3]"
   ]
  },
  {
   "cell_type": "code",
   "execution_count": null,
   "id": "88a32595-6232-410e-b9f2-6349b69fc8f0",
   "metadata": {
    "pycharm": {
     "name": "#%%\n"
    }
   },
   "outputs": [],
   "source": [
    "# Filter to genes that are not ligands/receptors (ligands/receptors can also be used, but in this case we will look at the subset of genes that do not overlap w/ signaling molecules):\n",
    "moran_genes = moran_genes.loc[[g for g in moran_genes.index if g not in all_ligands and g not in all_receptors]]"
   ]
  },
  {
   "cell_type": "code",
   "execution_count": null,
   "id": "d9dc142f-10e3-4f16-a084-c8ea0e90a1e5",
   "metadata": {
    "pycharm": {
     "name": "#%%\n"
    }
   },
   "outputs": [],
   "source": [
    "with open(os.path.join(input_dir, \"cosmx_lung5_rep1_fov4_targets.txt\"), \"w\") as file:\n",
    "    for g in moran_genes.index:\n",
    "        file.write(\"%s\\n\" % g)"
   ]
  },
  {
   "cell_type": "markdown",
   "id": "caca0697-41f1-4e6b-880e-776ee611c59a",
   "metadata": {
    "pycharm": {
     "name": "#%% md\n"
    }
   },
   "source": [
    "## Get ligands & receptors to use"
   ]
  },
  {
   "cell_type": "code",
   "execution_count": null,
   "id": "5bbafd82-dc08-425c-88c6-ecaac089724b",
   "metadata": {
    "pycharm": {
     "name": "#%%\n"
    }
   },
   "outputs": [],
   "source": [
    "# Find ligands and receptors expressed in greater than 5% of cells:\n",
    "combined = set(all_ligands + all_receptors)\n",
    "\n",
    "# Split elements containing '_'\n",
    "split_elements = [item.split('_') for item in combined if '_' in item]\n",
    "flat_list = [item for sublist in split_elements for item in sublist]\n",
    "\n",
    "# Add split elements to combined set\n",
    "combined.update(flat_list)\n",
    "\n",
    "# Remove the elements containing '_' as they are already split\n",
    "combined = {x for x in combined if '_' not in x}\n",
    "print(len(combined))\n",
    "\n",
    "unique_l = [item.split('_') for item in all_ligands]\n",
    "unique_l = set([item for sublist in unique_l for item in sublist])\n",
    "print(len(unique_l))\n",
    "unique_r = [item.split('_') for item in all_receptors]\n",
    "unique_r = set([item for sublist in unique_r for item in sublist])\n",
    "print(len(unique_r))"
   ]
  },
  {
   "cell_type": "code",
   "execution_count": null,
   "id": "89ad9867-c991-406a-8d9d-efaf30782834",
   "metadata": {
    "pycharm": {
     "name": "#%%\n"
    }
   },
   "outputs": [],
   "source": [
    "combined_sub = [g for g in combined if g in lung5_rep1_fov.var_names]\n",
    "print(len(combined_sub))\n",
    "\n",
    "unique_l = [g for g in unique_l if g in lung5_rep1_fov.var_names]\n",
    "print(len(unique_l))\n",
    "\n",
    "unique_r = [g for g in unique_r if g in lung5_rep1_fov.var_names]\n",
    "print(len(unique_r))"
   ]
  },
  {
   "cell_type": "code",
   "execution_count": null,
   "id": "bf50f828-6f4c-4966-994a-611ff9ccb79b",
   "metadata": {
    "pycharm": {
     "name": "#%%\n"
    }
   },
   "outputs": [],
   "source": [
    "df_expression = pd.DataFrame(lung5_rep1_fov.X.toarray(), index=lung5_rep1_fov.obs_names, columns=lung5_rep1_fov.var_names)"
   ]
  },
  {
   "cell_type": "code",
   "execution_count": null,
   "id": "66755434-9819-4a7d-b46d-94e7ef4e6cb4",
   "metadata": {
    "pycharm": {
     "name": "#%%\n"
    }
   },
   "outputs": [],
   "source": [
    "# Save ligands and receptors expressed in over n cells:\n",
    "n = int(0.1 * lung5_rep1_fov.n_obs)\n",
    "gene_counts = (df_expression > 0).sum()\n",
    "\n",
    "# Filter ligands and receptors\n",
    "expressed_ligands = gene_counts[unique_l][gene_counts > n].index.tolist()\n",
    "expressed_receptors = gene_counts[unique_r][gene_counts > n].index.tolist()\n",
    "\n",
    "len(expressed_ligands), len(expressed_receptors)"
   ]
  },
  {
   "cell_type": "code",
   "execution_count": null,
   "id": "1fc97b48-d6b9-41ec-a5df-700019196c45",
   "metadata": {
    "pycharm": {
     "name": "#%%\n"
    }
   },
   "outputs": [],
   "source": [
    "with open(os.path.join(input_dir, \"cosmx_lung5_rep1_fov4_ligands.txt\"), \"w\") as file:\n",
    "    for g in expressed_ligands:\n",
    "        file.write(\"%s\\n\" % g)"
   ]
  },
  {
   "cell_type": "code",
   "execution_count": null,
   "id": "7e0399df-0b79-4f50-8689-570f3ad4c3c2",
   "metadata": {
    "pycharm": {
     "name": "#%%\n"
    }
   },
   "outputs": [],
   "source": [
    "with open(os.path.join(input_dir, \"cosmx_lung5_rep1_fov4_receptors.txt\"), \"w\") as file:\n",
    "    for g in expressed_receptors:\n",
    "        file.write(\"%s\\n\" % g)"
   ]
  },
  {
   "cell_type": "markdown",
   "id": "c23fafb4-d3f9-45a4-880a-8f6ebe19ca1a",
   "metadata": {
    "pycharm": {
     "name": "#%% md\n"
    }
   },
   "source": [
    "## Run model"
   ]
  },
  {
   "cell_type": "code",
   "execution_count": null,
   "id": "ce9076f2-f497-421d-8c19-0499127000c3",
   "metadata": {
    "pycharm": {
     "name": "#%%\n"
    }
   },
   "outputs": [],
   "source": [
    "# To skip running these, \"cci_lower_bound\" is 121.5, \"cci_upper_bound\" is 338.5"
   ]
  },
  {
   "cell_type": "code",
   "execution_count": null,
   "id": "f284a978-2154-413a-80c9-5c161f381308",
   "metadata": {
    "pycharm": {
     "name": "#%%\n"
    },
    "tags": []
   },
   "outputs": [],
   "source": [
    "# Use on average the 9 nearest neighbors for membrane-bound ligands:\n",
    "cci_lower_bound = st.tl.find_neighbors.find_bw_for_n_neighbors(\n",
    "    lung5_rep1_fov,\n",
    "    coords_key=\"spatial\",\n",
    "    target_n_neighbors=9,\n",
    "    initial_bw=200,\n",
    "    exclude_self=True\n",
    ")\n",
    "cci_lower_bound"
   ]
  },
  {
   "cell_type": "code",
   "execution_count": null,
   "id": "89e70ef4-0594-4703-ad67-b27584d093a6",
   "metadata": {
    "pycharm": {
     "name": "#%%\n"
    },
    "tags": []
   },
   "outputs": [],
   "source": [
    "# For secreted ligands, a 250um diameter is the rule of thumb: https://www.pnas.org/doi/full/10.1073/pnas.94.23.12258\n",
    "# Assuming ~20um distance between cells on average (https://www.nature.com/articles/nrn1824, https://www.liebertpub.com/doi/10.1089/ten.teb.2009.0352), this is equivalent to 70 cells\n",
    "cci_upper_bound = st.tl.find_neighbors.find_bw_for_n_neighbors(\n",
    "    lung5_rep1_fov,\n",
    "    coords_key=\"spatial\",\n",
    "    target_n_neighbors=70,\n",
    "    initial_bw=200,\n",
    "    exclude_self=True\n",
    ")\n",
    "cci_upper_bound"
   ]
  },
  {
   "cell_type": "code",
   "execution_count": null,
   "id": "ab90fda2-4e21-486e-b28e-b6ea201acbbf",
   "metadata": {
    "pycharm": {
     "name": "#%%\n"
    }
   },
   "outputs": [],
   "source": [
    "# Use 1.5 times the lower bound as the lower bandwidth limit (arbitrarily chosen) and 1.5 times the upper bound as the upper bandwidth limit:"
   ]
  },
  {
   "cell_type": "markdown",
   "id": "419ccef4-5dda-4c95-92af-b8668e211e96",
   "metadata": {
    "pycharm": {
     "name": "#%% md\n"
    }
   },
   "source": [
    "### Define inputs. Change file paths to those of your AnnData object and CCI database folder, the folder you would like outputs to be saved to (this should be form {}/output_folder/run_ID.csv), and the paths of the .txt files created above"
   ]
  },
  {
   "cell_type": "code",
   "execution_count": 4,
   "id": "1c07c490-dfac-43a4-bd9f-6592875737cd",
   "metadata": {
    "pycharm": {
     "name": "#%%\n"
    },
    "tags": []
   },
   "outputs": [],
   "source": [
    "# Define inputs:\n",
    "adata_path = \"/mnt/d/SCData/NSCLC_CosMx/Lung5_Rep1-Flat_files_and_images/fov_4.h5ad\"\n",
    "output_path = \"/mnt/c/Users/danie/Desktop/Jupyter-Notebooks/Spateo-CCI-example/outputs/lung_fov4_example.csv\"\n",
    "# Use the ligand/receptor paths from the model fitting:\n",
    "ligand_path = \"/mnt/c/Users/danie/Desktop/Jupyter-Notebooks/Spateo-CCI-example/inputs/cosmx_lung5_rep1_fov4_ligands.txt\"\n",
    "receptor_path = \"/mnt/c/Users/danie/Desktop/Jupyter-Notebooks/Spateo-CCI-example/inputs/cosmx_lung5_rep1_fov4_receptors.txt\"\n",
    "target_path = \"/mnt/c/Users/danie/Desktop/Jupyter-Notebooks/Spateo-CCI-example/inputs/cosmx_lung5_rep1_fov4_targets.txt\"\n",
    "cci_dir_path = \"/mnt/c/Users/danie/Desktop/Jupyter-Notebooks/Spateo-CCI-example/database\"\n",
    "mod_type = \"lr\"\n",
    "species = \"human\"\n",
    "\n",
    "# Key storing cell type information\n",
    "group_key = \"predicted_celltypes\"\n",
    "\n",
    "# Key storing your spatial coordinates\n",
    "coords_key = \"spatial\"\n",
    "distance_membrane_bound = cci_lower_bound\n",
    "n_neighbors_membrane_bound = 6\n",
    "distance_secreted = cci_upper_bound\n",
    "n_neighbors_secreted = 70\n",
    "minbw = cci_lower_bound * 1.5\n",
    "maxbw = cci_upper_bound * 1.5\n",
    "\n",
    "if not os.path.exists(os.path.dirname(output_path)):\n",
    "    os.makedirs(os.path.dirname(output_path))"
   ]
  },
  {
   "cell_type": "code",
   "execution_count": 5,
   "id": "8d83f616-1e51-40bc-a9f3-65a2f4f2d660",
   "metadata": {
    "pycharm": {
     "name": "#%%\n"
    },
    "tags": []
   },
   "outputs": [],
   "source": [
    "parser, args_list = st.tl.define_spateo_argparse(\n",
    "    adata_path=adata_path,\n",
    "    custom_lig_path=ligand_path,\n",
    "    custom_rec_path=receptor_path,\n",
    "    targets_path=target_path,\n",
    "    cci_dir=cci_dir_path,\n",
    "    mod_type=mod_type,\n",
    "    species=species,\n",
    "    group_key=group_key,\n",
    "    coords_key=coords_key,\n",
    "    distance_membrane_bound=distance_membrane_bound,\n",
    "    n_neighbors_membrane_bound=n_neighbors_membrane_bound,\n",
    "    distance_secreted=distance_secreted,\n",
    "    n_neighbors_secreted=n_neighbors_secreted,\n",
    "    minbw=minbw,\n",
    "    maxbw=maxbw,\n",
    "    output_path=output_path,\n",
    ")"
   ]
  },
  {
   "cell_type": "code",
   "execution_count": null,
   "id": "d10ac10e-b04d-41af-b72d-df592c64ef51",
   "metadata": {
    "pycharm": {
     "name": "#%%\n"
    }
   },
   "outputs": [],
   "source": [
    "import time\n",
    "\n",
    "t1 = time.time()\n",
    "\n",
    "swr_model = st.tl.MuSIC(parser, args_list)\n",
    "swr_model._set_up_model()\n",
    "swr_model.fit()\n",
    "swr_model.predict_and_save()\n",
    "\n",
    "t_last = time.time()\n",
    "\n",
    "print(\"Total Time Elapsed:\", np.round(t_last - t1, 2), \"seconds\")\n",
    "print(\"-\" * 60)"
   ]
  },
  {
   "cell_type": "markdown",
   "id": "212b3f0a-277e-4a52-9875-04b410359f06",
   "metadata": {
    "pycharm": {
     "name": "#%% md\n"
    }
   },
   "source": [
    "### Diagnostics- check model fit"
   ]
  },
  {
   "cell_type": "code",
   "execution_count": null,
   "id": "8f04b576-e37f-4fcd-81c7-0fbbfb8aca49",
   "metadata": {
    "pycharm": {
     "name": "#%%\n"
    }
   },
   "outputs": [],
   "source": [
    "output_folder = os.path.dirname(output_path)"
   ]
  },
  {
   "cell_type": "code",
   "execution_count": null,
   "id": "1e61417c-e6fb-422c-b0eb-85f321b6d963",
   "metadata": {
    "pycharm": {
     "name": "#%%\n"
    }
   },
   "outputs": [],
   "source": [
    "all_pred = pd.read_csv(os.path.join(output_folder, \"predictions.csv\"), index_col=0)"
   ]
  },
  {
   "cell_type": "code",
   "execution_count": null,
   "id": "6f990cdc-1139-4bcc-a39c-d304d22446b6",
   "metadata": {
    "pycharm": {
     "name": "#%%\n"
    }
   },
   "outputs": [],
   "source": [
    "adata_pred = anndata.AnnData(all_pred.values)\n",
    "adata_pred.obs_names = all_pred.index\n",
    "adata_pred.var_names = [f\"{g}_pred\" for g in all_pred.columns]\n",
    "adata_pred.obsm = lung5_rep1_fov.obsm\n",
    "adata_pred.uns[\"__type\"] = \"UMI\""
   ]
  },
  {
   "cell_type": "code",
   "execution_count": null,
   "id": "0a6b1726-8019-4d87-a25e-f88f0fabc393",
   "metadata": {
    "pycharm": {
     "name": "#%%\n"
    }
   },
   "outputs": [],
   "source": [
    "from scipy.stats import pearsonr, spearmanr\n",
    "\n",
    "for gene in all_pred.columns:\n",
    "    y = lung5_rep1_fov[:, gene].X.toarray().reshape(-1)\n",
    "    all_pred_target = all_pred[gene].values.reshape(-1)\n",
    "    \n",
    "    rp, _ = pearsonr(y, all_pred_target)\n",
    "    r, _ = spearmanr(y, all_pred_target)\n",
    "    \n",
    "    print(f\"Pearson r for {gene}: {rp}\")\n",
    "    print(f\"Spearman r for {gene}: {r}\")"
   ]
  },
  {
   "cell_type": "markdown",
   "id": "5dfbb3de-4339-4abe-9a0a-d908d33b92c5",
   "metadata": {
    "pycharm": {
     "name": "#%% md\n"
    }
   },
   "source": [
    "### Downstream analysis- visualize spatial location of effect"
   ]
  },
  {
   "cell_type": "code",
   "execution_count": null,
   "id": "26333a78-8321-4903-8e75-d73b37a2a845",
   "metadata": {
    "pycharm": {
     "name": "#%%\n"
    }
   },
   "outputs": [],
   "source": [
    "interaction = \"TGFB1:TGFBR1\""
   ]
  },
  {
   "cell_type": "code",
   "execution_count": null,
   "id": "fea06aaf-c93c-4a3d-8b97-4defbe4ef73a",
   "metadata": {
    "pycharm": {
     "name": "#%%\n"
    }
   },
   "outputs": [],
   "source": [
    "gene = \"MMP1\" "
   ]
  },
  {
   "cell_type": "code",
   "execution_count": null,
   "id": "336ee17f-40cc-4605-9e99-e8f21a3fabb9",
   "metadata": {
    "tags": [],
    "pycharm": {
     "name": "#%%\n"
    }
   },
   "outputs": [],
   "source": [
    "# Comments:\n",
    "# Change \"save_path\" to the full path where you would like the figure to save to\n",
    "# \"pcutoff\" sets the vmax, as a percentage of the maximum value\n",
    "# \"size\" sets the size of each point"
   ]
  },
  {
   "cell_type": "code",
   "execution_count": null,
   "id": "c0736c9c-ec2d-4bc9-a3fb-1a256af9f1de",
   "metadata": {
    "pycharm": {
     "name": "#%%\n"
    }
   },
   "outputs": [],
   "source": [
    "dirname, filename = os.path.split(output_path)\n",
    "basename = filename[:-4]\n",
    "gene_filename = f\"{basename}_{gene}.csv\""
   ]
  },
  {
   "cell_type": "code",
   "execution_count": null,
   "id": "fb7aac92-c8db-4743-a71e-68dce60e637e",
   "metadata": {
    "pycharm": {
     "name": "#%%\n"
    }
   },
   "outputs": [],
   "source": [
    "target_file = pd.read_csv(os.path.join(dirname, gene_filename), index_col=0)"
   ]
  },
  {
   "cell_type": "code",
   "execution_count": null,
   "id": "d9581f7a-8417-4239-a55a-6f66997d4438",
   "metadata": {
    "tags": [],
    "pycharm": {
     "name": "#%%\n"
    }
   },
   "outputs": [],
   "source": [
    "lung5_rep1_fov.obs[f\"{interaction} effect on {gene}\"] = target_file[f\"b_{interaction}\"]"
   ]
  },
  {
   "cell_type": "code",
   "execution_count": null,
   "id": "ba5f0285-c95e-4659-bd34-649a4e3f732d",
   "metadata": {
    "pycharm": {
     "name": "#%%\n"
    }
   },
   "outputs": [],
   "source": [
    "st.pl.geo(lung5_rep1_fov, color=[f\"{interaction} effect on {gene}\"], show_legend='upper left', save_show_or_return='show', figsize=(5, 3), cmap=\"magma\")"
   ]
  },
  {
   "cell_type": "markdown",
   "id": "8de64f29-fac9-4d18-a7f3-ea1b87c46e7d",
   "metadata": {
    "pycharm": {
     "name": "#%% md\n"
    }
   },
   "source": [
    "### Downstream analysis- top interactions for a given target gene"
   ]
  },
  {
   "cell_type": "code",
   "execution_count": null,
   "id": "0b157f68-a50b-4860-86a4-2971c79fd6ef",
   "metadata": {
    "tags": [],
    "pycharm": {
     "name": "#%%\n"
    }
   },
   "outputs": [],
   "source": [
    "# To know the parameters, output folder path, etc. used by the upstream CCI modeling, we use the same parser:\n",
    "downstream_model = st.tl.MuSIC_Interpreter(parser, args_list)"
   ]
  },
  {
   "cell_type": "code",
   "execution_count": null,
   "id": "fb8c006d-c96b-4208-a615-4193b0fe3980",
   "metadata": {
    "pycharm": {
     "name": "#%%\n"
    }
   },
   "outputs": [],
   "source": [
    "gene = \"MMP1\""
   ]
  },
  {
   "cell_type": "code",
   "execution_count": null,
   "id": "59b8d895-887b-493f-b234-00ea3e4f4b0b",
   "metadata": {
    "pycharm": {
     "name": "#%%\n"
    }
   },
   "outputs": [],
   "source": [
    "# Comments:\n",
    "# \"plot_type\" set to \"proportion\" visualizes the proportion of target-expressing cells (i.e. \"gene\") that are predicted to be affected by particular interaction.\n",
    "# \"plot_type\" set to \"average\" visualizes the average effect size of the interaction for target-expressing cells\n",
    "# \"top_n\" visualizes the top 15 interactions for the given target"
   ]
  },
  {
   "cell_type": "code",
   "execution_count": null,
   "id": "a66204e7-4e2d-4659-a626-e4ea78fca3fd",
   "metadata": {
    "pycharm": {
     "name": "#%%\n"
    }
   },
   "outputs": [],
   "source": [
    "downstream_model.enriched_interactions_barplot(\n",
    "    targets=[gene],\n",
    "    plot_type=\"proportion\",\n",
    "    # This \n",
    "    top_n=15,\n",
    "    fontsize=14,\n",
    "    cmap=\"Blues\",\n",
    "    # If \"save\", will need to provide \"path\" argument to \"save_kwargs\"- uncomment the following line to add this:\n",
    "    # save_kwargs = {},\n",
    "    save_show_or_return=\"show\"\n",
    ")"
   ]
  },
  {
   "cell_type": "markdown",
   "id": "a1fd40f9-db96-4e49-a9ec-8224a8c0c6c3",
   "metadata": {
    "pycharm": {
     "name": "#%% md\n"
    }
   },
   "source": [
    "### Downstream analysis- specificity of interactions on target expression"
   ]
  },
  {
   "cell_type": "markdown",
   "id": "33511dbe-e820-41df-97e0-c4d698ddd7b7",
   "metadata": {
    "pycharm": {
     "name": "#%% md\n"
    }
   },
   "source": [
    "#### Based on our model predictions, we will get an idea of how specific each interaction is for each target, i.e. whether the target gene is expressed in cells that don't express a given receptor or in cells without ligand-expressing neighbors)"
   ]
  },
  {
   "cell_type": "code",
   "execution_count": null,
   "id": "060b2574-8fec-48b9-83c1-cf9c85b6edcd",
   "metadata": {
    "pycharm": {
     "name": "#%%\n"
    }
   },
   "outputs": [],
   "source": [
    "# Comments:\n",
    "# The cancer cells are spatially clustered here, so in this case the genes discovered with Moran's I are largely all cancer markers- as a result, the outputs of the following analyses \n",
    "# will be similar for each target gene. \n",
    "\n",
    "# \"target_type\" is used to specify where to search for the target genes to proces (this function can be used for CCI models or downstream models, which are not covered in this \n",
    "# tutorial- soon to come!)- for CCI models, this will always be set to \"target_gene\", which is also the default. \n",
    "\n",
    "# \"to_plot\" set to \"specificity\" finds the proportion of cells that express a given receptor and are surrounded by cells that express a given ligand for which the interaction is \n",
    "# predicted to affect a specific target.\n",
    "# \"to_plot\" set to \"proportion\" finds plot the proportion of cells expressing the target that are affected by each interaction\n",
    "\n",
    "# \"order_interactions\" hierarchically sorts the y-axis/interactions (L:R pairs)\n",
    "# \"order_targets\" hierarchically sorts the x-axis/target genes\n",
    "\n",
    "# \"remove_rows_and_cols_threshold\" sets the number of nonzero elements each row/column must have- columns and rows with all zero values are not displayed."
   ]
  },
  {
   "cell_type": "code",
   "execution_count": null,
   "id": "04f6c092-b048-4f98-a3bd-4fa806ac72ec",
   "metadata": {
    "pycharm": {
     "name": "#%%\n"
    }
   },
   "outputs": [],
   "source": [
    "downstream_model.deg_effect_heatmap(\n",
    "    target_type=\"target_gene\", \n",
    "    figsize=(10, 30), \n",
    "    to_plot=\"specificity\", \n",
    "    fontsize=16, \n",
    "    cmap=\"magma\", \n",
    "    order_interactions=True, \n",
    "    order_targets=True, \n",
    "    remove_rows_and_cols_threshold=6\n",
    ")"
   ]
  },
  {
   "cell_type": "markdown",
   "id": "867d886c-3f41-4341-ae95-0ae32a41d825",
   "metadata": {
    "pycharm": {
     "name": "#%% md\n"
    }
   },
   "source": [
    "### Downstream analysis- locational enrichment of interaction effects from top to bottom of the sample"
   ]
  },
  {
   "cell_type": "code",
   "execution_count": null,
   "id": "07ee7091-3785-47c6-b096-eb90ac719e65",
   "metadata": {
    "pycharm": {
     "name": "#%%\n"
    }
   },
   "outputs": [],
   "source": [
    "# Comments:\n",
    "# \"position_key\" refers to the key in .obsm that stores the spatial coordinates- for the CosMx cancer sample, this is \"spatial\". \n",
    "# \"interaction_subset\" can be used to specify the specific interactions (e.g. [\"TGFB1:TGFBR1\"], etc.) to consider. \n",
    "# \"coord_column\" is the index of the column in the spatial coordinates array to use (i.e. \"0\" is typically the x-axis, \"1\" is typically the y-axis, etc.)\n",
    "# \"sort_by_target\" orders the y-axis of the plot in terms of the identity of the target gene. Incompatible with \"neatly_arrange_y\"\n",
    "\n",
    "# \"neatly_arrange_y\" orders the y-axis of the plot in terms of how early along the position axis the max z-scores for each row occur in. Used for a more uniform plot where \n",
    "# similarly patterned interaction-target pairs are grouped together.\n",
    "\n",
    "# \"recompute\": each run of this function will save results to the output folder, and by default when this is called more than once, will search for previous saved results. \n",
    "# Setting this to True will recompute the enrichment results each time. \n",
    "\n",
    "# \"window_size\": Sets the size of the window to use for smoothing the enrichment scores. "
   ]
  },
  {
   "cell_type": "code",
   "execution_count": null,
   "id": "5ac440fc-4ba1-4d3b-8b45-be9940cda230",
   "metadata": {
    "pycharm": {
     "name": "#%%\n"
    }
   },
   "outputs": [],
   "source": [
    "downstream_model.effect_distribution_heatmap(\n",
    "    position_key=\"spatial\",\n",
    "    #interaction_subset=interaction_subset,\n",
    "    coord_column=1,\n",
    "    sort_by_target=False,\n",
    "    neatly_arrange_y=False,\n",
    "    recompute=True,\n",
    "    window_size=15,\n",
    "    cmap=\"bwr\",\n",
    "    title=\"Signaling effect distribution\",\n",
    "    fontsize=12,\n",
    ")"
   ]
  }
 ],
 "metadata": {
  "kernelspec": {
   "display_name": "spateo_env",
   "language": "python",
   "name": "spateo_env"
  },
  "language_info": {
   "codemirror_mode": {
    "name": "ipython",
    "version": 3
   },
   "file_extension": ".py",
   "mimetype": "text/x-python",
   "name": "python",
   "nbconvert_exporter": "python",
   "pygments_lexer": "ipython3",
   "version": "3.8.10"
  }
 },
 "nbformat": 4,
 "nbformat_minor": 5
}