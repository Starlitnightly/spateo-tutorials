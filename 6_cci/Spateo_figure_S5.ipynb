{
 "cells": [
  {
   "cell_type": "markdown",
   "id": "4b32c40b-410a-4f99-87ba-746d681434ff",
   "metadata": {},
   "source": [
    "# Notebook containing code used for manuscript supplementary figure 5"
   ]
  },
  {
   "cell_type": "markdown",
   "id": "eb80ee02-b2a8-4987-96b1-0f7af32bc587",
   "metadata": {},
   "source": [
    "### Note that most paths will need to be changed based on where the files were saved to your local folder. Note also that R will need to be installed for one portion of the digitization benchmarking"
   ]
  },
  {
   "cell_type": "code",
   "execution_count": null,
   "id": "49f469cf-82be-4f9e-a7e6-3323374e3bd5",
   "metadata": {},
   "outputs": [],
   "source": [
    "import anndata\n",
    "import matplotlib.pyplot as plt\n",
    "import plotly.express as px\n",
    "import plotly.io as pio\n",
    "pio.renderers.default='iframe'\n",
    "import seaborn as sns\n",
    "import numpy as np\n",
    "import pandas as pd\n",
    "import statsmodels.api as sm\n",
    "from scipy import stats\n",
    "from scipy.sparse import csr_matrix\n",
    "from sklearn import linear_model\n",
    "\n",
    "import cv2\n",
    "from skimage.segmentation import find_boundaries\n",
    "\n",
    "import commot as ct\n",
    "import spateo as st\n",
    "import dynamo as dyn\n",
    "import ncem\n",
    "from ncem.data import get_data_custom, customLoader\n",
    "\n",
    "import torch\n",
    "from torch import nn\n",
    "\n",
    "import pickle\n",
    "import os\n",
    "import sys\n",
    "from tqdm import tqdm\n",
    "\n",
    "from scipy.spatial import KDTree"
   ]
  },
  {
   "cell_type": "code",
   "execution_count": null,
   "id": "c44b5abb-4b51-4786-843e-2508a2d34100",
   "metadata": {},
   "outputs": [],
   "source": [
    "np.random.seed(0)"
   ]
  },
  {
   "cell_type": "markdown",
   "id": "c85ab079-8302-40df-a20d-b91e33a7bcb9",
   "metadata": {},
   "source": [
    "# Digitization"
   ]
  },
  {
   "cell_type": "markdown",
   "id": "c12a9b5a-c38e-4f4c-a723-413785515eca",
   "metadata": {},
   "source": [
    "## Resources used for the digitization benchmark (simulated data, macaque cortex data, Visium mouse brain, MERFISH U2-OS, and MERFISH mouse cortex) can all be found here: https://www.dropbox.com/scl/fo/4tyq5nbex7e2yo3anuemy/AA2p0y9ZAnN6oLWgAtoWA-0?rlkey=jdnxyg8jwx17iexxyn8dvqi7y&st=rsf779qu&dl=0\n",
    "\n",
    "## The fitEC R package and slideseq_helpers file can also be found in folders within this Dropbox folder "
   ]
  },
  {
   "cell_type": "code",
   "execution_count": null,
   "id": "da02f59a-1baf-4957-8c52-aa1c3186d910",
   "metadata": {},
   "outputs": [],
   "source": [
    "# Add slideseq_helpers folder to path\n",
    "sys.path.insert(0, '/mnt/d/SCAnalysis/raphael-group-belayer-bb7b493/src')"
   ]
  },
  {
   "cell_type": "markdown",
   "id": "e92f832a-8f2e-4763-914b-c51b6c5b6cfa",
   "metadata": {},
   "source": [
    "### Figure S5a- simulated case 1"
   ]
  },
  {
   "cell_type": "code",
   "execution_count": null,
   "id": "55abdbb6-aeaf-41e1-a9ef-2406b33a8c8d",
   "metadata": {},
   "outputs": [],
   "source": [
    "one_slice_adata = st.read_h5ad(\"/mnt/d/SCData/digitization/simulated/half_circle_only_coor.h5ad\")\n",
    "one_slice_adata.obs['label'] = \"Simulated\"\n",
    "one_slice_adata"
   ]
  },
  {
   "cell_type": "markdown",
   "id": "02e72dc3-95ff-4125-9cf5-24cf11648248",
   "metadata": {},
   "source": [
    "#### Perform Spateo digitization"
   ]
  },
  {
   "cell_type": "code",
   "execution_count": null,
   "id": "141d35fb-365d-4a24-9185-283714d27929",
   "metadata": {},
   "outputs": [],
   "source": [
    "cluster_label_image_lowres = st.dd.gen_cluster_image(one_slice_adata, bin_size=1, spatial_key=\"spatial\", cluster_key='label', show=False)\n",
    "cluster_label_list = np.unique(one_slice_adata.obs[\"cluster_img_label\"])\n",
    "contours, cluster_image_close, cluster_image_contour = st.dd.extract_cluster_contours(cluster_label_image_lowres, cluster_label_list, bin_size=1, k_size=1, show=False)"
   ]
  },
  {
   "cell_type": "code",
   "execution_count": null,
   "id": "57adeffa-07e5-41b4-b358-4e306f9cbe69",
   "metadata": {},
   "outputs": [],
   "source": [
    "px.imshow(cluster_image_contour)"
   ]
  },
  {
   "cell_type": "code",
   "execution_count": null,
   "id": "88912944-3000-48a7-9ee6-e61d8d39a4c1",
   "metadata": {},
   "outputs": [],
   "source": [
    "# User input to specify a gridding direction\n",
    "pnt_xY = (116,273)\n",
    "pnt_xy = (47,273)\n",
    "pnt_Xy = (308,273)\n",
    "pnt_XY = (243,273)\n",
    "\n",
    "# Digitize the area of interest\n",
    "st.dd.digitize(\n",
    "    adata=one_slice_adata,\n",
    "    ctrs=contours,\n",
    "    ctr_idx=0,\n",
    "    pnt_xy=pnt_xy,\n",
    "    pnt_xY=pnt_xY,\n",
    "    pnt_Xy=pnt_Xy,\n",
    "    pnt_XY=pnt_XY,\n",
    "    spatial_key=\"spatial\"\n",
    ")"
   ]
  },
  {
   "cell_type": "markdown",
   "id": "24065d37-9e26-41fd-852d-a02e9e6eb432",
   "metadata": {},
   "source": [
    "#### Run Belayer (for comparison in benchmarking)"
   ]
  },
  {
   "cell_type": "code",
   "execution_count": null,
   "id": "c5f8fbea-55d2-4a03-9a91-1ee9d74a7f56",
   "metadata": {},
   "outputs": [],
   "source": [
    "import networkx as nx\n",
    "from slideseq_helpers import alpha_shape, harmonic_slideseq"
   ]
  },
  {
   "cell_type": "code",
   "execution_count": null,
   "id": "0d480f82-b5ee-4550-adcc-e947c55f3f05",
   "metadata": {},
   "outputs": [],
   "source": [
    "coords = one_slice_adata.obsm['spatial'] * 10\n",
    "edges = list(alpha_shape(coords, alpha=10, only_outer=True))\n",
    "G = nx.DiGraph(edges)\n",
    "\n",
    "edge_pt=list(nx.simple_cycles(G))\n",
    "edge_pts=[(coords[e,0],coords[e,1]) for e in edge_pt[0]]\n",
    "len(edge_pts)"
   ]
  },
  {
   "cell_type": "code",
   "execution_count": null,
   "id": "e4b7f95b-065d-45f3-a9dd-7e6f54c7154c",
   "metadata": {},
   "outputs": [],
   "source": [
    "len(edge_pts)\n",
    "#%%\n",
    "fig, ax = plt.subplots(figsize=(3,5))\n",
    "for i, j in edges:\n",
    "    plt.plot(coords[[i, j], 0], coords[[i, j], 1], color='grey', ls='-',alpha=0.5)\n",
    "\n",
    "plt.scatter(coords[:,0],coords[:,1],s=2,color='white')\n",
    "\n",
    "\n",
    "x, y = edge_pts[162]\n",
    "plt.scatter(x, y, s=10, color='red')\n",
    "\n",
    "x, y = edge_pts[231]\n",
    "plt.scatter(x, y, s=10, color='red')\n",
    "\n",
    "x, y = edge_pts[396]\n",
    "plt.scatter(x, y, s=10, color='red')\n",
    "\n",
    "x, y = edge_pts[461]\n",
    "plt.scatter(x, y, s=10, color='red')"
   ]
  },
  {
   "cell_type": "code",
   "execution_count": null,
   "id": "4624412a-afe1-491f-9754-73d9285ccdfa",
   "metadata": {},
   "outputs": [],
   "source": [
    "plt.scatter(x, y, s=10, color='red')\n",
    "#%%\n",
    "boundary_array = []\n",
    "\n",
    "bound_2 = edge_pts[461:646]\n",
    "bound_2 = bound_2+edge_pts[0:162+1]\n",
    "boundary_array.append(np.array([[i[0], i[1]] for i in bound_2]))\n",
    "\n",
    "boundary_array.append(np.array([[i[0], i[1]] for i in edge_pts[231:396+1]]))\n",
    "\n",
    "one_slice_adata.obs['belayer'] = harmonic_slideseq(coords, boundary_array, grid_spacing=25, radius=1)"
   ]
  },
  {
   "cell_type": "code",
   "execution_count": null,
   "id": "555ac51b-9a73-40aa-858a-b982ab2a3a3d",
   "metadata": {},
   "outputs": [],
   "source": [
    "boundary_array = []\n",
    "\n",
    "boundary_array.append(np.array([[i[0], i[1]] for i in edge_pts[162:231+1]]))\n",
    "\n",
    "bound_2 = edge_pts[396:461+1]\n",
    "boundary_array.append(np.array([[i[0], i[1]] for i in bound_2]))\n",
    "\n",
    "one_slice_adata.obs['belayer_column'] = harmonic_slideseq(coords, boundary_array, grid_spacing=25, radius=10)"
   ]
  },
  {
   "cell_type": "code",
   "execution_count": null,
   "id": "5c0bc094-2eba-4832-bdd5-1d765fd8994c",
   "metadata": {},
   "outputs": [],
   "source": [
    "one_slice_adata.obs['digital_layer'] = one_slice_adata.obs['digital_layer']/one_slice_adata.obs['digital_layer'].max() * 100 // 1\n",
    "one_slice_adata.obs['belayer'] = one_slice_adata.obs['belayer']/one_slice_adata.obs['belayer'].max() * 100 // 1"
   ]
  },
  {
   "cell_type": "code",
   "execution_count": null,
   "id": "23951f49-987a-4dec-87e4-06bdeb0db850",
   "metadata": {},
   "outputs": [],
   "source": [
    "one_slice_adata.obs['digital_layer_5'] = (one_slice_adata.obs['digital_layer']-1)//20\n",
    "one_slice_adata.obs['belayer_5'] = (one_slice_adata.obs['belayer'])//20 \n",
    "one_slice_adata.obs['digital_layer_5'] = one_slice_adata.obs['digital_layer_5'].astype(str)\n",
    "one_slice_adata.obs['belayer_5'] = one_slice_adata.obs['belayer_5'].astype(str)\n",
    "st.pl.space(\n",
    "    one_slice_adata,\n",
    "    color=['digital_layer_5', 'belayer_5'],\n",
    "    ncols=2,\n",
    "    pointsize=0.1,\n",
    "    show_legend=\"upper left\",\n",
    "    figsize=(4, 5),\n",
    "    color_key_cmap = \"RdBu_r\",\n",
    ")"
   ]
  },
  {
   "cell_type": "code",
   "execution_count": null,
   "id": "b232f84f-2dd1-4666-b3df-4b314bf3103d",
   "metadata": {},
   "outputs": [],
   "source": [
    "one_slice_adata.obs['digital_column'] = one_slice_adata.obs['digital_column']/one_slice_adata.obs['digital_column'].max() * 100 // 1\n",
    "one_slice_adata.obs['belayer_column'] = one_slice_adata.obs['belayer_column']/one_slice_adata.obs['belayer_column'].max() * 100 // 1"
   ]
  },
  {
   "cell_type": "code",
   "execution_count": null,
   "id": "a8850091-ee1b-499c-bcd7-21e38c3c6f62",
   "metadata": {},
   "outputs": [],
   "source": [
    "one_slice_adata.obs['digital_column_10'] = (one_slice_adata.obs['digital_column']-1)//10\n",
    "one_slice_adata.obs['belayer_column_10'] = (one_slice_adata.obs['belayer_column'])//10 \n",
    "one_slice_adata.obs['digital_column_10'] = one_slice_adata.obs['digital_column_10'].astype(str)\n",
    "one_slice_adata.obs['belayer_column_10'] = one_slice_adata.obs['belayer_column_10'].astype(str)\n",
    "st.pl.space(\n",
    "    one_slice_adata,\n",
    "    color=['digital_column_10', 'belayer_column_10'],\n",
    "    ncols=2,\n",
    "    pointsize=0.1,\n",
    "    show_legend=\"upper left\",\n",
    "    figsize=(4, 5),\n",
    "    color_key_cmap = \"RdBu_r\",\n",
    ")"
   ]
  },
  {
   "cell_type": "markdown",
   "id": "41355a12-ab0e-4f31-bd5d-34d8d5c278fc",
   "metadata": {},
   "source": [
    "### Figure S5b- simulated case 2"
   ]
  },
  {
   "cell_type": "code",
   "execution_count": null,
   "id": "5aa1c8eb-6ffd-4d8c-b8e0-9528597ee7ed",
   "metadata": {},
   "outputs": [],
   "source": [
    "one_slice_adata = st.read_h5ad(\"/mnt/d/SCData/digitization/simulated/fanshape_only_coor.h5ad\")\n",
    "one_slice_adata.obs['label'] = \"Simulated\"\n",
    "one_slice_adata"
   ]
  },
  {
   "cell_type": "markdown",
   "id": "7f768eb2-943b-452b-9784-07510ff9e4ee",
   "metadata": {},
   "source": [
    "#### Perform Spateo digitization"
   ]
  },
  {
   "cell_type": "code",
   "execution_count": null,
   "id": "12aa57cf-42d4-49b8-a4ed-35b5939ae69b",
   "metadata": {},
   "outputs": [],
   "source": [
    "cluster_label_image_lowres = st.dd.gen_cluster_image(one_slice_adata, bin_size=1, spatial_key=\"spatial\", cluster_key='label', show=False)\n",
    "cluster_label_list = np.unique(one_slice_adata.obs[\"cluster_img_label\"])\n",
    "contours, cluster_image_close, cluster_image_contour = st.dd.extract_cluster_contours(cluster_label_image_lowres, cluster_label_list, bin_size=1, k_size=1, show=False)"
   ]
  },
  {
   "cell_type": "code",
   "execution_count": null,
   "id": "dd646fe2-f1e9-46dd-a75b-cec95cfea486",
   "metadata": {},
   "outputs": [],
   "source": [
    "px.imshow(cluster_image_contour)"
   ]
  },
  {
   "cell_type": "code",
   "execution_count": null,
   "id": "1dc51050-3192-409a-9cd2-3e4860886ad4",
   "metadata": {},
   "outputs": [],
   "source": [
    "# User input to specify a gridding direction\n",
    "pnt_xY = (172,213)\n",
    "pnt_xy = (141,164)\n",
    "pnt_Xy = (214,164)\n",
    "pnt_XY = (184,213)\n",
    "\n",
    "# Digitize the area of interest\n",
    "st.dd.digitize(\n",
    "    adata=one_slice_adata,\n",
    "    ctrs=contours,\n",
    "    ctr_idx=0,\n",
    "    pnt_xy=pnt_xy,\n",
    "    pnt_xY=pnt_xY,\n",
    "    pnt_Xy=pnt_Xy,\n",
    "    pnt_XY=pnt_XY,\n",
    "    spatial_key=\"spatial\"\n",
    ")"
   ]
  },
  {
   "cell_type": "markdown",
   "id": "7b524262-757f-41d3-9a11-6f806b57434d",
   "metadata": {},
   "source": [
    "#### Run Belayer (for comparison in benchmarking)"
   ]
  },
  {
   "cell_type": "code",
   "execution_count": null,
   "id": "b6601b5a-2651-4967-a952-466e72369ad6",
   "metadata": {},
   "outputs": [],
   "source": [
    "import networkx as nx\n",
    "from slideseq_helpers import alpha_shape, harmonic_slideseq"
   ]
  },
  {
   "cell_type": "code",
   "execution_count": null,
   "id": "65b91934-fc5f-470c-afa2-2c151b459622",
   "metadata": {},
   "outputs": [],
   "source": [
    "coords = one_slice_adata.obsm['spatial'] * 10\n",
    "edges = list(alpha_shape(coords, alpha=10, only_outer=True))\n",
    "G = nx.DiGraph(edges)\n",
    "\n",
    "edge_pt=list(nx.simple_cycles(G))\n",
    "edge_pts=[(coords[e,0],coords[e,1]) for e in edge_pt[0]]\n",
    "len(edge_pts)"
   ]
  },
  {
   "cell_type": "code",
   "execution_count": null,
   "id": "bd402396-a76d-4d9e-965b-442fc1542930",
   "metadata": {},
   "outputs": [],
   "source": [
    "fig, ax = plt.subplots(figsize=(2,2.5))\n",
    "for i, j in edges:\n",
    "    plt.plot(coords[[i, j], 0], coords[[i, j], 1], color='grey', ls='-',alpha=0.5)\n",
    "\n",
    "plt.scatter(coords[:,0],coords[:,1],s=2,color='white')\n",
    "\n",
    "\n",
    "x, y = edge_pts[49]\n",
    "plt.scatter(x, y, s=10, color='red')\n",
    "\n",
    "x, y = edge_pts[61]\n",
    "plt.scatter(x, y, s=10, color='red')\n",
    "\n",
    "x, y = edge_pts[110]\n",
    "plt.scatter(x, y, s=10, color='red')\n",
    "\n",
    "x, y = edge_pts[0]\n",
    "plt.scatter(x, y, s=10, color='red')"
   ]
  },
  {
   "cell_type": "code",
   "execution_count": null,
   "id": "04d53fed-2bfe-4378-8e3c-1a8b0cf5b99e",
   "metadata": {},
   "outputs": [],
   "source": [
    "boundary_array = []\n",
    "\n",
    "bound_2 = edge_pts[110:183]\n",
    "bound_2 = bound_2+edge_pts[0:0+1]\n",
    "boundary_array.append(np.array([[i[0], i[1]] for i in bound_2]))\n",
    "\n",
    "boundary_array.append(np.array([[i[0], i[1]] for i in edge_pts[49:61+1]]))\n",
    "\n",
    "one_slice_adata.obs['belayer'] = harmonic_slideseq(coords, boundary_array, grid_spacing=25, radius=1)"
   ]
  },
  {
   "cell_type": "code",
   "execution_count": null,
   "id": "f321debb-11ff-43fd-98f6-09d071474f31",
   "metadata": {},
   "outputs": [],
   "source": [
    "boundary_array = []\n",
    "\n",
    "boundary_array.append(np.array([[i[0], i[1]] for i in edge_pts[0:49+1]]))\n",
    "\n",
    "bound_2 = edge_pts[61:110+1]\n",
    "boundary_array.append(np.array([[i[0], i[1]] for i in bound_2]))\n",
    "\n",
    "one_slice_adata.obs['belayer_column'] = harmonic_slideseq(coords, boundary_array, grid_spacing=25, radius=1)"
   ]
  },
  {
   "cell_type": "code",
   "execution_count": null,
   "id": "7c0e1e21-2c80-41e1-b958-4b15aab5dfb8",
   "metadata": {},
   "outputs": [],
   "source": [
    "one_slice_adata.obs['digital_layer'] = one_slice_adata.obs['digital_layer']/one_slice_adata.obs['digital_layer'].max() * 100 // 1\n",
    "one_slice_adata.obs['belayer'] = one_slice_adata.obs['belayer']/one_slice_adata.obs['belayer'].max() * 100 // 1"
   ]
  },
  {
   "cell_type": "code",
   "execution_count": null,
   "id": "8673c282-b8e6-4597-8552-ffaf0624dfcf",
   "metadata": {},
   "outputs": [],
   "source": [
    "one_slice_adata.obs['digital_layer_5'] = (one_slice_adata.obs['digital_layer']-1)//20\n",
    "one_slice_adata.obs['belayer_5'] = (one_slice_adata.obs['belayer'])//20 \n",
    "one_slice_adata.obs['digital_layer_5'] = one_slice_adata.obs['digital_layer_5'].astype(str)\n",
    "one_slice_adata.obs['belayer_5'] = one_slice_adata.obs['belayer_5'].astype(str)\n",
    "st.pl.space(\n",
    "    one_slice_adata,\n",
    "    color=['digital_layer_5', 'belayer_5'],\n",
    "    ncols=2,\n",
    "    pointsize=0.2,\n",
    "    show_legend=\"upper left\",\n",
    "    figsize=(4, 5),\n",
    "    color_key_cmap = \"RdBu_r\",\n",
    ")"
   ]
  },
  {
   "cell_type": "code",
   "execution_count": null,
   "id": "8e757b6a-a293-47ee-8426-c78c601ca63f",
   "metadata": {},
   "outputs": [],
   "source": [
    "one_slice_adata.obs['digital_column'] = one_slice_adata.obs['digital_column']/one_slice_adata.obs['digital_column'].max() * 100 // 1\n",
    "one_slice_adata.obs['belayer_column'] = one_slice_adata.obs['belayer_column']/one_slice_adata.obs['belayer_column'].max() * 100 // 1"
   ]
  },
  {
   "cell_type": "code",
   "execution_count": null,
   "id": "7ec748b0-7341-47ec-b996-6c527c113805",
   "metadata": {},
   "outputs": [],
   "source": [
    "one_slice_adata.obs['digital_column_10'] = (one_slice_adata.obs['digital_column']-1)//10\n",
    "one_slice_adata.obs['belayer_column_10'] = (one_slice_adata.obs['belayer_column'])//10 \n",
    "one_slice_adata.obs['digital_column_10'] = one_slice_adata.obs['digital_column_10'].astype(str)\n",
    "one_slice_adata.obs['belayer_column_10'] = one_slice_adata.obs['belayer_column_10'].astype(str)\n",
    "st.pl.space(\n",
    "    one_slice_adata,\n",
    "    color=['digital_column_10', 'belayer_column_10'],\n",
    "    ncols=2,\n",
    "    pointsize=0.2,\n",
    "    show_legend=\"upper left\",\n",
    "    figsize=(4, 5),\n",
    "    color_key_cmap = \"RdBu_r\",\n",
    ")"
   ]
  },
  {
   "cell_type": "markdown",
   "id": "3fb2e29e-fa0d-4f40-9248-7a028accd139",
   "metadata": {},
   "source": [
    "### Figure 5c- macaque cortex"
   ]
  },
  {
   "cell_type": "code",
   "execution_count": null,
   "id": "a15d035e-1a13-4656-a324-0c1fb01d9e33",
   "metadata": {},
   "outputs": [],
   "source": [
    "one_slice_adata = st.read_h5ad(\"/mnt/d/SCData/digitization/macaque_cortex/T40_adata_only_coor.h5ad\")\n",
    "one_slice_adata.obs['label'] = \"T40\"\n",
    "one_slice_adata"
   ]
  },
  {
   "cell_type": "markdown",
   "id": "4a2acd72-be98-4791-8a30-a22bf64f9f86",
   "metadata": {},
   "source": [
    "#### Perform Spateo digitization"
   ]
  },
  {
   "cell_type": "code",
   "execution_count": null,
   "id": "44883a0c-8ea9-4d74-8a1e-1b700bccdaf3",
   "metadata": {},
   "outputs": [],
   "source": [
    "one_slice_adata.obsm['spatial_bin50'] = one_slice_adata.obsm['spatial']//50\n",
    "subset = one_slice_adata[one_slice_adata.obs['cell_type'].isin(['L2','L2/3','L2/3/4','L3/4','L3/4/5','L4','L4/5','L4/5/6','L5/6','L6']), :].copy()"
   ]
  },
  {
   "cell_type": "code",
   "execution_count": null,
   "id": "2ad7a146-eb91-4c42-bb9f-20cb300bf755",
   "metadata": {},
   "outputs": [],
   "source": [
    "cluster_label_image_lowres = st.dd.gen_cluster_image(subset, bin_size=1, spatial_key=\"spatial_bin50\", cluster_key='cell_type', show=False)\n",
    "cluster_label_list = np.unique(subset.obs[\"cluster_img_label\"])"
   ]
  },
  {
   "cell_type": "code",
   "execution_count": null,
   "id": "1ac83545-fe2f-479b-9130-7b8299647989",
   "metadata": {},
   "outputs": [],
   "source": [
    "from skimage import morphology\n",
    "\n",
    "close_kernel=cv2.MORPH_ELLIPSE\n",
    "bin_size=1\n",
    "k_size = 9\n",
    "min_area = 9000\n",
    "cluster_label_image = cluster_label_image_lowres\n",
    "cluster_labels = cluster_label_list\n",
    "\n",
    "cluster_image_close = cluster_label_image.copy()\n",
    "if type(cluster_labels) == int:\n",
    "    cluster_image_close = np.where(cluster_image_close == cluster_labels, cluster_image_close, 0)\n",
    "else:\n",
    "    cluster_image_close = np.where(np.isin(cluster_image_close, cluster_labels), cluster_image_close, 0)\n",
    "\n",
    "kernal = cv2.getStructuringElement(close_kernel, (k_size, k_size))\n",
    "cluster_image_close = cv2.morphologyEx(cluster_image_close, cv2.MORPH_CLOSE, kernal)\n",
    "\n",
    "cluster_image_close = morphology.remove_small_objects(\n",
    "    cluster_image_close.astype(bool),\n",
    "    min_area,\n",
    "    connectivity=2,\n",
    ").astype(np.uint8)\n",
    "\n",
    "\n",
    "ksize=3\n",
    "kernal = np.ones((k_size, k_size),np.uint8)\n",
    "cluster_image_close = cv2.erode(cluster_image_close, kernal)\n",
    "ksize=5\n",
    "kernal = np.ones((k_size, k_size),np.uint8)\n",
    "cluster_image_close = cv2.dilate(cluster_image_close, kernal)\n",
    "px.imshow(cluster_image_close)"
   ]
  },
  {
   "cell_type": "code",
   "execution_count": null,
   "id": "53fcf6fd-ed56-4c07-8635-aa4c4dac809e",
   "metadata": {},
   "outputs": [],
   "source": [
    "cluster_image_close[1139:1147,248:312] = 0\n",
    "px.imshow(cluster_image_close)"
   ]
  },
  {
   "cell_type": "code",
   "execution_count": null,
   "id": "9f8c1a3a-9c30-48e3-b5c4-77f40116465f",
   "metadata": {},
   "outputs": [],
   "source": [
    "contours, _ = cv2.findContours(cluster_image_close, cv2.RETR_LIST , cv2.CHAIN_APPROX_NONE)\n",
    "\n",
    "cluster_image_contour = np.zeros((cluster_label_image.shape[0], cluster_label_image.shape[1]))\n",
    "for i in range(len(contours)):\n",
    "    cv2.drawContours(cluster_image_contour, contours, i, i + 1, bin_size)\n",
    "px.imshow(cluster_image_contour)"
   ]
  },
  {
   "cell_type": "code",
   "execution_count": null,
   "id": "57618bd1-98d6-4568-b0f6-f522fc29c717",
   "metadata": {},
   "outputs": [],
   "source": [
    "# User input to specify a gridding direction\n",
    "pnt_xY = (1324,895)\n",
    "pnt_xy = (1287,909)\n",
    "pnt_Xy = (832,1110)\n",
    "pnt_XY = (798,1103)\n",
    "\n",
    "# Digitize the area of interest\n",
    "st.dd.digitize(\n",
    "    adata=one_slice_adata,\n",
    "    ctrs=contours,\n",
    "    ctr_idx=0,\n",
    "    pnt_xy=pnt_xy,\n",
    "    pnt_xY=pnt_xY,\n",
    "    pnt_Xy=pnt_Xy,\n",
    "    pnt_XY=pnt_XY,\n",
    "    spatial_key=\"spatial_bin50\"\n",
    ")"
   ]
  },
  {
   "cell_type": "markdown",
   "id": "1f50cd5b-f91a-44b5-a9fe-417dc0113e25",
   "metadata": {},
   "source": [
    "#### Run Belayer (for comparison in benchmarking)"
   ]
  },
  {
   "cell_type": "code",
   "execution_count": null,
   "id": "bd1e5060-ec71-4412-a497-2985fc2e2aab",
   "metadata": {},
   "outputs": [],
   "source": [
    "import networkx as nx\n",
    "from slideseq_helpers import alpha_shape, harmonic_slideseq"
   ]
  },
  {
   "cell_type": "code",
   "execution_count": null,
   "id": "e6e80642-00c2-4d5b-9503-2cb0471b1fa9",
   "metadata": {},
   "outputs": [],
   "source": [
    "one_slice_adata.obsm['spatial_bin50'] = one_slice_adata.obsm['spatial']//50\n",
    "subset = one_slice_adata[one_slice_adata.obs['cell_type'].isin(['L2','L2/3','L2/3/4','L3/4','L3/4/5','L4','L4/5','L4/5/6','L5/6','L6']), :].copy()\n",
    "coords = subset.obsm['spatial_bin50']\n",
    "\n",
    "edges = list(alpha_shape(coords, alpha=4, only_outer=True))\n",
    "G = nx.DiGraph(edges)\n",
    "\n",
    "edge_pt=list(nx.simple_cycles(G))\n",
    "edge_pts=[(coords[e,0],coords[e,1]) for e in edge_pt[50]]"
   ]
  },
  {
   "cell_type": "code",
   "execution_count": null,
   "id": "c62ae364-a74c-40db-8e40-54ce02b3827e",
   "metadata": {},
   "outputs": [],
   "source": [
    "fig, ax = plt.subplots(figsize=(8,10))\n",
    "for i, j in edges:\n",
    "    plt.plot(coords[[i, j], 0], coords[[i, j], 1], color='grey', ls='-',alpha=0.5)\n",
    "\n",
    "plt.scatter(coords[:,0],coords[:,1],s=2,color='white')\n",
    "\n",
    "x, y = edge_pts[315]\n",
    "plt.scatter(x, y, s=10, color='red')\n",
    "\n",
    "x, y = edge_pts[1945]\n",
    "plt.scatter(x, y, s=10, color='red')\n",
    "\n",
    "x, y = edge_pts[1957]\n",
    "plt.scatter(x, y, s=10, color='red')\n",
    "\n",
    "x, y = edge_pts[303]\n",
    "plt.scatter(x, y, s=10, color='red')"
   ]
  },
  {
   "cell_type": "code",
   "execution_count": null,
   "id": "40eada69-1b5e-4794-9078-f57f0a28a905",
   "metadata": {},
   "outputs": [],
   "source": [
    "boundary_array = []\n",
    "boundary_array.append(np.array([[i[0], i[1]] for i in edge_pts[315:1945+1]]))\n",
    "\n",
    "bound_2 = edge_pts[1957:3753]\n",
    "bound_2 = bound_2+edge_pts[0:303]\n",
    "boundary_array.append(np.array([[i[0], i[1]] for i in bound_2]))\n",
    "\n",
    "subset.obs['belayer'] = harmonic_slideseq(coords, boundary_array, grid_spacing=10, radius=10)"
   ]
  },
  {
   "cell_type": "code",
   "execution_count": null,
   "id": "3410a7c3-05a0-436c-8a44-79bf6c5302e9",
   "metadata": {},
   "outputs": [],
   "source": [
    "one_slice_adata.obs['digital_layer_5'] = (one_slice_adata.obs['digital_layer']-1)//10\n",
    "one_slice_adata.obs['belayer_5'] = (one_slice_adata.obs['belayer'])//10 \n",
    "one_slice_adata.obs['digital_layer_5'] = one_slice_adata.obs['digital_layer_5'].astype(str)\n",
    "one_slice_adata.obs['belayer_5'] = one_slice_adata.obs['belayer_5'].astype(str)\n",
    "st.pl.space(\n",
    "    one_slice_adata,\n",
    "    color=['digital_layer_5', 'belayer_5'],\n",
    "    ncols=2,\n",
    "    pointsize=0.1,\n",
    "    show_legend=\"upper left\",\n",
    "    figsize=(4, 5),\n",
    "    color_key_cmap = \"RdBu_r\",\n",
    ")"
   ]
  },
  {
   "cell_type": "markdown",
   "id": "f4a4cc9a-472e-49a5-896d-2017fb2aa1e4",
   "metadata": {},
   "source": [
    "### Figure S5d- Visium mouse brain"
   ]
  },
  {
   "cell_type": "code",
   "execution_count": null,
   "id": "66f641bd-d10e-46b3-92d3-96cd281f7df7",
   "metadata": {},
   "outputs": [],
   "source": [
    "adata = st.read_h5ad(\"/mnt/d/SCData/digitization/visium_mouse/visium_adata.h5ad\")\n",
    "adata.uns['__type'] = \"UMI\"\n",
    "adata"
   ]
  },
  {
   "cell_type": "code",
   "execution_count": null,
   "id": "3cd62ff5-a584-4563-ac6f-eea07ad0dfe4",
   "metadata": {},
   "outputs": [],
   "source": [
    "st.pl.space(adata=adata, color='cluster', pointsize=0.5, show_legend=\"upper left\")"
   ]
  },
  {
   "cell_type": "code",
   "execution_count": null,
   "id": "f6430ad1-e9e6-4d6c-a21e-9e961c7c57cf",
   "metadata": {},
   "outputs": [],
   "source": [
    "adata.obsm['spatial_bin30'] = adata.obsm['spatial']//100\n",
    "cluster_label_image_lowres = st.dd.gen_cluster_image(adata, bin_size=1, spatial_key=\"spatial_bin30\", cluster_key='cluster', show=False)\n",
    "cluster_label_list = np.unique(adata[adata.obs['cluster'].isin(['1', '3']), :].obs[\"cluster_img_label\"])\n",
    "contours, cluster_image_close, cluster_image_contour = st.dd.extract_cluster_contours(cluster_label_image_lowres, cluster_label_list, bin_size=1, k_size=3, show=False, min_area=1000)\n",
    "px.imshow(cluster_image_contour, width=500, height=500)"
   ]
  },
  {
   "cell_type": "code",
   "execution_count": null,
   "id": "589c9e5f-482e-4054-9ec7-b4755e96220b",
   "metadata": {},
   "outputs": [],
   "source": [
    "# User input to specify a gridding direction\n",
    "pnt_xY = (10,63)\n",
    "pnt_xy = (14,59)\n",
    "pnt_Xy = (76,98)\n",
    "pnt_XY = (64,98)\n",
    "\n",
    "# Digitize the area of interest\n",
    "st.dd.digitize(\n",
    "    adata=adata,\n",
    "    ctrs=contours,\n",
    "    ctr_idx=0,\n",
    "    pnt_xy=pnt_xy,\n",
    "    pnt_xY=pnt_xY,\n",
    "    pnt_Xy=pnt_Xy,\n",
    "    pnt_XY=pnt_XY,\n",
    "    spatial_key=\"spatial_bin30\"\n",
    ")"
   ]
  },
  {
   "cell_type": "code",
   "execution_count": null,
   "id": "26c072b5-da75-4eac-8ec0-d0d9f55e7b99",
   "metadata": {},
   "outputs": [],
   "source": [
    "st.pl.space(adata, color=\"digital_column\", cmap = \"RdBu_r\")"
   ]
  },
  {
   "cell_type": "markdown",
   "id": "bbb1e08a-a6ab-4539-aa87-a87a64bc197a",
   "metadata": {},
   "source": [
    "### Figure S5e- Gradients along the mouse cortex A-P axis"
   ]
  },
  {
   "cell_type": "code",
   "execution_count": null,
   "id": "098e62b1-c795-4e55-b9f3-0d463888f421",
   "metadata": {},
   "outputs": [],
   "source": [
    "adata.uns['pp'] = {}\n",
    "dyn.pp.normalize_cell_expr_by_size_factors(adata)"
   ]
  },
  {
   "cell_type": "code",
   "execution_count": null,
   "id": "b423fa3f-7dec-4268-8b90-dd2705fcd923",
   "metadata": {},
   "outputs": [],
   "source": [
    "def polarity(\n",
    "    adata,\n",
    "    gene_dict: dict,\n",
    "    region_key: str,\n",
    "    palette: list,\n",
    "    mode: str = \"density\",\n",
    "    itv_rpt: int = 1,\n",
    "    width: int = 5,\n",
    "    height: int = 3.5,\n",
    "):\n",
    "    \"\"\"Simple function to visualize expression level varies along regions.\n",
    "\n",
    "    Args:\n",
    "        adata (AnnData): _description_\n",
    "        gene_dict (dict): _description_\n",
    "        region_key (str): _description_\n",
    "        mode (str, optional): _description_. Defaults to \"density\".\n",
    "\n",
    "    Returns:\n",
    "        _type_: _description_\n",
    "    \"\"\"\n",
    "\n",
    "    import scipy.stats as stat\n",
    "    digi_region = np.array([])\n",
    "    gene_list = np.array([])\n",
    "    gene_mean = np.array([])\n",
    "    gene_mean_low = np.array([])\n",
    "    gene_mean_high = np.array([])\n",
    "\n",
    "\n",
    "    if mode == \"exp\":\n",
    "        for i in np.unique(adata.obs[region_key]):\n",
    "            adata_tmp = adata[adata.obs[region_key] == i, :]\n",
    "            for anno in list(gene_dict.keys()):\n",
    "                for gene in gene_dict[anno]:\n",
    "                    gene_mean_tmp = adata_tmp[:, gene].X.toarray().T[0]\n",
    "                    digi_region = np.append(digi_region, np.repeat(i,len(adata_tmp)))\n",
    "                    gene_list = np.append(gene_list, np.repeat(gene + \" \" + anno,len(adata_tmp)))\n",
    "                    gene_mean = np.append(gene_mean, gene_mean_tmp)\n",
    "        df_plt = pd.DataFrame({region_key: digi_region, \"Gene\": gene_list, \"Mean expression\": gene_mean})\n",
    "        ax = sns.relplot(data=df_plt, x=region_key, y=\"Mean expression\", hue=\"Gene\")\n",
    "    elif mode == \"density\":\n",
    "        for i in np.unique(adata.obs[region_key]):\n",
    "            adata_tmp = adata[adata.obs[region_key] == i, :]\n",
    "            for anno in list(gene_dict.keys()):\n",
    "                for gene in gene_dict[anno]:\n",
    "                        digi_region = np.append(digi_region, i)\n",
    "                        gene_list = np.append(gene_list, gene + \" \" + anno)\n",
    "                        gene_mean = np.append(gene_mean, np.mean(adata_tmp[:, gene].X))\n",
    "                        data = adata_tmp[:, gene].X.toarray().T[0]\n",
    "                        data = np.repeat(data,itv_rpt)\n",
    "                        l, h = stat.t.interval(alpha=0.90, df=len(data)-1, loc=np.mean(data), scale=stat.sem(data))\n",
    "                        if np.isnan(l):\n",
    "                            l = np.mean(data)\n",
    "                        if np.isnan(h):\n",
    "                            h = np.mean(data)\n",
    "                        gene_mean_low = np.append(gene_mean_low, max(0,l))\n",
    "                        gene_mean_high = np.append(gene_mean_high,h)\n",
    "        gene_mean_low = gene_mean_low + 1e-10\n",
    "        gene_mean_high = gene_mean_high + 1e-10\n",
    "        df_plt = pd.DataFrame({region_key: digi_region, \"Gene\": gene_list, \"Mean expression\": gene_mean})\n",
    "        plt.figure()\n",
    "        p1 = sns.kdeplot(data=df_plt, x=region_key,common_norm=False, weights=\"Mean expression\", hue=\"Gene\")\n",
    "        #p1.set_xlim(0, max(adata.obs[region_key]))\n",
    "        plt.close()\n",
    "        df_plt = pd.DataFrame({region_key: digi_region, \"Gene\": gene_list, \"Mean expression\": gene_mean_low})\n",
    "        plt.figure()\n",
    "        p2 = sns.kdeplot(data=df_plt, x=region_key,common_norm=False, weights=\"Mean expression\", hue=\"Gene\")\n",
    "        #p2.set_xlim(0, max(adata.obs[region_key]))\n",
    "        plt.close()\n",
    "        df_plt = pd.DataFrame({region_key: digi_region, \"Gene\": gene_list, \"Mean expression\": gene_mean_high})\n",
    "        plt.figure()\n",
    "        p3 = sns.kdeplot(data=df_plt, x=region_key,common_norm=False, weights=\"Mean expression\", hue=\"Gene\")\n",
    "        #p3.set_xlim(0, max(adata.obs[region_key]))\n",
    "        plt.close()\n",
    "        fig, ax = plt.subplots()\n",
    "        fig.set_size_inches((width,height))\n",
    "        uq_gl = np.unique(gene_list)\n",
    "        for k in range(len(uq_gl)):\n",
    "            ax.plot(p1.get_children()[k].get_data()[0], p1.get_children()[k].get_data()[1], '-', color=palette[len(palette)-k-1])\n",
    "            ax.fill_between(\n",
    "                p1.get_children()[k].get_data()[0],\n",
    "                p2.get_children()[k].get_data()[1]*np.sum(gene_mean_low[gene_list==uq_gl[-(k+1)]]) / np.sum(gene_mean[gene_list==uq_gl[-(k+1)]]),\n",
    "                p3.get_children()[k].get_data()[1]*np.sum(gene_mean_high[gene_list==uq_gl[-(k+1)]])/ np.sum(gene_mean[gene_list==uq_gl[-(k+1)]]), color=palette[len(palette)-k-1], alpha=0.1)\n",
    "    return ax"
   ]
  },
  {
   "cell_type": "code",
   "execution_count": null,
   "id": "06345d75-b126-4d08-bcaa-fb050316de3b",
   "metadata": {},
   "outputs": [],
   "source": [
    "gene_dict = {\n",
    "    '1': ['Epha7'],\n",
    "    '2': ['Epha5'],\n",
    "    '3': ['Cntnap2'],\n",
    "    '4': ['Nr2f1'],\n",
    "    '5': ['Lhx2'],\n",
    "}\n",
    "\n",
    "import matplotlib as mpl\n",
    "palette = [mpl.colors.to_hex(i) for i in sns.color_palette(\"tab10\",n_colors=len(gene_dict))]"
   ]
  },
  {
   "cell_type": "code",
   "execution_count": null,
   "id": "363dfe03-5774-4ae2-8121-228e15541a97",
   "metadata": {},
   "outputs": [],
   "source": [
    "adata.obs['digital_column_25'] = adata.obs['digital_column'] // 2\n",
    "ax = polarity(adata, gene_dict, region_key=\"digital_column_25\", palette=palette,)\n",
    "ax.tick_params(direction=\"out\")\n",
    "plt.xlim([10,40])"
   ]
  },
  {
   "cell_type": "markdown",
   "id": "68b78efb-16c0-40ca-a996-5f7b05c004ed",
   "metadata": {},
   "source": [
    "### Figure S5f- Nuclear boundary-enriched genes in the MERFISH U2-OS dataset"
   ]
  },
  {
   "cell_type": "markdown",
   "id": "2066f666-e51f-4932-954e-e9724ebc5e09",
   "metadata": {},
   "source": [
    "#### Digitization"
   ]
  },
  {
   "cell_type": "code",
   "execution_count": null,
   "id": "dcc3a0dc-3f79-4d56-b333-ac2172604123",
   "metadata": {},
   "outputs": [],
   "source": [
    "spot_adata = st.read_h5ad(\"/mnt/d/SCData/digitization/subcellular/subcellular_by_scc/spot.h5ad\")\n",
    "spot_adata"
   ]
  },
  {
   "cell_type": "code",
   "execution_count": null,
   "id": "a329a89c-c34f-4cb7-9140-c7cfa2bc102b",
   "metadata": {},
   "outputs": [],
   "source": [
    "def digital_loop(a, cell_bound, cell_shape, nucleus_labels, eps=1e4):\n",
    "    a_pre = a.copy()\n",
    "    while True:\n",
    "        a_pri = conv_and_deal_with_non_cell(a_pre, 51, cell_shape, cell_bound, nucleus_labels)\n",
    "        # print(abs(np.sum(a_pri - a_pre)))\n",
    "        if abs(np.sum(a_pri - a_pre)) > eps:\n",
    "            a_pre = a_pri.copy()\n",
    "        else:\n",
    "            break\n",
    "    \n",
    "    while True:     \n",
    "        a_pri = conv_and_deal_with_non_cell(a_pre, 7, cell_shape, cell_bound, nucleus_labels)\n",
    "        # print(abs(np.sum(a_pri - a_pre)))\n",
    "        if abs(np.sum(a_pri - a_pre)) > eps:\n",
    "            a_pre = a_pri.copy()\n",
    "        else:\n",
    "            return a_pri\n",
    "        \n",
    "def conv2d_by_torch(a, k=5, avg=False):\n",
    "    assert k % 2 == 1\n",
    "    a = a.astype(np.float32)\n",
    "    a = torch.from_numpy(a[None,:])\n",
    "    cov = nn.Conv2d(1, 1, kernel_size=k, stride=1, padding=int((k-1)/2),  bias=False)\n",
    "    cov.weight = torch.nn.Parameter(torch.ones_like(cov.weight))\n",
    "    c = cov(a)\n",
    "    number= k*k if avg else 1\n",
    "    return c.detach().numpy()[0]/number\n",
    "    \n",
    "def conv_and_deal_with_non_cell(a_pre, k, cell_shape, cell_bound, nucleus_labels):\n",
    "    a_pri = conv2d_by_torch(a_pre, k=k, avg=True)\n",
    "    a_pri = np.where(cell_shape==0, 100, a_pri) # non-cell: 100\n",
    "    a_pri[np.where(cell_bound==1)] = 100 # cell boundary: 100\n",
    "    a_pri[np.where(nucleus_labels>0)] = 0   # nuclear: 0\n",
    "    return a_pri\n",
    "    \n",
    "def digital_adata(adata, cell_layer, nucleus_layer, out_layer, eps=1e3):\n",
    "    id_of_cells_have_nucleus = np.unique(adata.layers[cell_layer][adata.layers[nucleus_layer]>0])\n",
    "    cell_shape = np.where(np.isin(adata.layers[cell_layer], id_of_cells_have_nucleus), adata.layers[cell_layer], 0)\n",
    "    cell_bound = find_boundaries(cell_shape, mode=\"inner\").astype(np.uint8)\n",
    "    nucleus_shape = adata.layers[nucleus_layer]\n",
    "    dig_circle_init = np.where(cell_shape>0, 50, 100)\n",
    "    dig_circle_init = np.where(nucleus_shape>0, 0, dig_circle_init)\n",
    "    digital = digital_loop(dig_circle_init, cell_bound, cell_shape, nucleus_shape, eps)\n",
    "    digital = np.where(cell_shape>0, digital, -1)\n",
    "    adata.layers[out_layer] = digital"
   ]
  },
  {
   "cell_type": "code",
   "execution_count": null,
   "id": "ed23aa0f-85de-4e3d-bb77-f624910b6d5e",
   "metadata": {},
   "outputs": [],
   "source": [
    "digital_adata(spot_adata, 'batch0_cell_shape', 'batch0_nucleus_shape', out_layer='batch0_nucleus_to_mem_digital', eps=10)"
   ]
  },
  {
   "cell_type": "code",
   "execution_count": null,
   "id": "36a09276-3929-4145-9138-cac68e06fcc5",
   "metadata": {},
   "outputs": [],
   "source": [
    "plt.imshow(spot_adata.layers['batch0_nucleus_to_mem_digital'])\n",
    "cax = plt.axes([0.85, 0.2, 0.075, 0.6])\n",
    "plt.colorbar(cax=cax)"
   ]
  },
  {
   "cell_type": "code",
   "execution_count": null,
   "id": "96103fff-8196-4e08-95c4-2829d7aa6ffc",
   "metadata": {},
   "outputs": [],
   "source": [
    "adata = st.read_h5ad(\"/mnt/d/SCData/digitization/subcellular/subcellular_by_scc/u2os_merfish.h5ad\")\n",
    "adata"
   ]
  },
  {
   "cell_type": "code",
   "execution_count": null,
   "id": "254d2a5b-605e-439d-b17a-9cf466b58996",
   "metadata": {},
   "outputs": [],
   "source": [
    "def generate_long_matrix_df(adata, batch):\n",
    "    df = adata.uns['points'].copy()\n",
    "    df = df[df['batch']==batch]\n",
    "    df['x_int'] = df['x'].astype(np.int32)\n",
    "    df['y_int'] = df['y'].astype(np.int32)\n",
    "    df = df[df['gene'].str.count('notarget')==0]\n",
    "    df['count'] = 1\n",
    "    return df\n",
    "\n",
    "def generate_X_for_one_gene(df, gene):\n",
    "    df = df.copy()\n",
    "    df['cell_ids'] = df['cell'].cat.codes + 1\n",
    "    df = df[df['gene'] == gene]\n",
    "    X = csr_matrix((df['count'], (df['y_int'], df['x_int']))).toarray()\n",
    "    return X\n",
    "\n",
    "def reg_one_gene(df, spot_adata, digital_layer, gene):\n",
    "    digital_one_gene_df = get_digital_info_for_one_gene(df, spot_adata, digital_layer, gene)\n",
    "    clf = linear_model.LinearRegression() # LinearRegression PoissonRegressor\n",
    "    clf.fit(y=digital_one_gene_df['expression'], X=digital_one_gene_df['digital_layer'][:,None])\n",
    "    var = clf.score(y=digital_one_gene_df['expression'], X=digital_one_gene_df['digital_layer'][:,None])\n",
    "    return var\n",
    "\n",
    "def get_digital_info_for_one_gene(df, spot_adata, digital_layer, gene):\n",
    "    X = generate_X_for_one_gene(df, gene)\n",
    "    cell_ids = spot_adata.layers['batch0_cell_shape'][0:X.shape[0], 0:X.shape[1]]\n",
    "    digital_one_gene = digital_layer[0:X.shape[0], 0:X.shape[1]]//10\n",
    "    digital_one_gene_df = pd.DataFrame({'expression': X.flatten(), 'digital_layer': digital_one_gene.flatten(), 'cell_ids': cell_ids.flatten()})\n",
    "    digital_one_gene_df = digital_one_gene_df[digital_one_gene_df['digital_layer']>0]\n",
    "    digital_one_gene_df = digital_one_gene_df.groupby(['digital_layer', 'cell_ids']).agg('mean').reset_index()\n",
    "    digital_one_gene_df['gene'] = gene\n",
    "    return digital_one_gene_df"
   ]
  },
  {
   "cell_type": "code",
   "execution_count": null,
   "id": "5cd00bfe-2ebe-4d6b-bfb3-939eef62307f",
   "metadata": {},
   "outputs": [],
   "source": [
    "df = generate_long_matrix_df(adata, 0)\n",
    "df"
   ]
  },
  {
   "cell_type": "code",
   "execution_count": null,
   "id": "89b81dd4-2a9e-4a52-a37f-9770e1419e59",
   "metadata": {},
   "outputs": [],
   "source": [
    "digital_layer = spot_adata.layers['batch0_nucleus_to_mem_digital'].astype(np.int32)"
   ]
  },
  {
   "cell_type": "code",
   "execution_count": null,
   "id": "6e8a2aee-2bd9-4ac6-90ba-d211bc1720da",
   "metadata": {},
   "outputs": [],
   "source": [
    "vars = []\n",
    "for gene in np.unique(df['gene']):\n",
    "    vars.append(reg_one_gene(df, spot_adata, digital_layer, gene))\n",
    "\n",
    "var_df = pd.DataFrame({'var': vars, 'gene': np.unique(df['gene'])})"
   ]
  },
  {
   "cell_type": "code",
   "execution_count": null,
   "id": "7ff761aa-7cfa-4569-a9e4-d5d8491fa989",
   "metadata": {},
   "outputs": [],
   "source": [
    "digital_6_gene_dfs = []\n",
    "for gene in var_df.sort_values(by='var', ascending=False).head(3)['gene']:\n",
    "    digital_6_gene_dfs.append(get_digital_info_for_one_gene(df, spot_adata, digital_layer, gene))\n",
    "for gene in var_df.sort_values(by='var', ascending=False).tail(3)['gene']:\n",
    "    digital_6_gene_dfs.append(get_digital_info_for_one_gene(df, spot_adata, digital_layer, gene))\n",
    "digital_6_gene_df = pd.concat(digital_6_gene_dfs, ignore_index=True)\n",
    "\n",
    "digital_6_gene_df"
   ]
  },
  {
   "cell_type": "code",
   "execution_count": null,
   "id": "0bf0a5ee-1bb5-4082-9b22-dc7c4f71ee56",
   "metadata": {},
   "outputs": [],
   "source": [
    "sns.relplot(data=digital_6_gene_df, x='digital_layer', y='expression', kind=\"line\", hue='gene', palette=['red', 'darkorange', 'darkred', 'dodgerblue', 'royalblue', 'blue'])"
   ]
  },
  {
   "cell_type": "markdown",
   "id": "38d81d98-e8e5-4d8b-a14a-cfdd0bb8bf2a",
   "metadata": {},
   "source": [
    "### Figure S5g- Nuclear centroid-enriched genes in the MERFISH U2-OS dataset"
   ]
  },
  {
   "cell_type": "code",
   "execution_count": null,
   "id": "36936b0a-d126-49b2-a364-78edd0f9d606",
   "metadata": {},
   "outputs": [],
   "source": [
    "df = generate_long_matrix_df(adata, 0)\n",
    "df.x = df.x.astype(int)\n",
    "df.y = df.y.astype(int)\n",
    "\n",
    "df_tttmp = df.iloc[:1,:]\n",
    "df_tttmp.x = 1\n",
    "df_tttmp.y = 1\n",
    "\n",
    "df = pd.concat([df,df_tttmp], axis=0)\n",
    "df['MIDCount'] = df['count'].copy()\n",
    "df['geneID'] = df['gene'].copy()\n",
    "df.to_csv(\"tmp.csv\",index=False,sep=\"\\t\")\n",
    "df"
   ]
  },
  {
   "cell_type": "code",
   "execution_count": null,
   "id": "258a968f-d146-4e90-97cc-47a08d9fbd92",
   "metadata": {},
   "outputs": [],
   "source": [
    "spot_adata.layers['img_digital'] = np.zeros_like(spot_adata.layers['batch0_nucleus_shape'])\n",
    "\n",
    "for cell_n in np.unique(spot_adata.layers['batch0_nucleus_shape']):\n",
    "    if cell_n==0:\n",
    "        continue\n",
    "    spot_adata.layers['tmp_img'] = spot_adata.layers['batch0_nucleus_shape'].copy()\n",
    "    spot_adata.layers['tmp_img'][spot_adata.layers['tmp_img']!=cell_n] = 0\n",
    "    st.cs.utils.get_cell_shape(spot_adata, layer=\"tmp_img\", thickness=1)\n",
    "    \n",
    "    aa = np.array(np.where(spot_adata.layers['tmp_img_boundary'] == 255)).T\n",
    "\n",
    "    import os\n",
    "    os.environ['R_HOME'] = '/home/jingzh/.conda/envs/spaco_dev/lib/R'\n",
    "\n",
    "    from rpy2.robjects.packages import importr\n",
    "    from rpy2 import robjects\n",
    "    fitEC = importr(\"fitEC\")\n",
    "\n",
    "    import rpy2.robjects.numpy2ri\n",
    "    rpy2.robjects.numpy2ri.activate()\n",
    "\n",
    "    X = aa\n",
    "    efit = fitEC.fit_ellipse(X)\n",
    "\n",
    "    a = efit[2][0]\n",
    "    b = efit[3][0]\n",
    "    c = np.sqrt(a**2 - b**2)\n",
    "\n",
    "    f1_dis = np.zeros_like(spot_adata.layers['tmp_img_boundary'])\n",
    "    f1_dis[:] = 1\n",
    "\n",
    "    x1= int(efit[1][0]-a*np.sin(efit[4][0]))\n",
    "    y1= int(efit[1][1]+a*np.cos(efit[4][0]))\n",
    "\n",
    "    x2= int(efit[1][0]+a*np.sin(efit[4][0]))\n",
    "    y2= int(efit[1][1]-a*np.cos(efit[4][0]))\n",
    "    f1_dis = cv2.line(f1_dis,(y1,x1), (y2,x2), (0),1)\n",
    "    f1_dis = cv2.distanceTransform(f1_dis,cv2.DIST_L2,cv2.DIST_MASK_PRECISE)\n",
    "\n",
    "    f1_dis = f1_dis / b * a\n",
    "\n",
    "    f2_dis = np.zeros_like(spot_adata.layers['tmp_img_boundary'])\n",
    "    f2_dis[:] = 1\n",
    "\n",
    "    x1= int(efit[1][0]-a*np.cos(efit[4][0]))\n",
    "    y1= int(efit[1][1]-a*np.sin(efit[4][0]))\n",
    "\n",
    "    x2= int(efit[1][0]+a*np.cos(efit[4][0]))\n",
    "    y2= int(efit[1][1]+a*np.sin(efit[4][0]))\n",
    "    f2_dis = cv2.line(f2_dis,(y1,x1), (y2,x2), (0),1)\n",
    "    f2_dis = cv2.distanceTransform(f2_dis,cv2.DIST_L2,cv2.DIST_MASK_PRECISE)\n",
    "\n",
    "    digi_field = np.sqrt(f1_dis**2+f2_dis**2) - np.min(np.sqrt(f1_dis**2+f2_dis**2))\n",
    "\n",
    "    spot_adata.layers['tmp_img_digital'] = np.where(spot_adata.layers['tmp_img']!=0, digi_field, 0)\n",
    "\n",
    "    spot_adata.layers['tmp_img_digital'] = spot_adata.layers['tmp_img_digital'] / np.max(spot_adata.layers['tmp_img_digital']) * 100\n",
    "\n",
    "\n",
    "    #plt.figure(figsize=(30,30))\n",
    "    #plt.imshow(spot_adata.layers['tmp_img_digital'], cmap=\"Reds\")\n",
    "    \n",
    "    spot_adata.layers['img_digital'] = spot_adata.layers['img_digital'] + spot_adata.layers['tmp_img_digital']\n",
    "\n",
    "    \n",
    "plt.figure(figsize=(10,10))\n",
    "plt.imshow(spot_adata.layers['img_digital'], cmap=\"RdBu_r\")"
   ]
  },
  {
   "cell_type": "code",
   "execution_count": null,
   "id": "9fbf2d5f-e840-4e17-95c8-75d37a322beb",
   "metadata": {},
   "outputs": [],
   "source": [
    "dilate_kernel = np.ones((3, 3), np.uint8)\n",
    "spot_adata.layers['batch0_cell_shape_boundary_dilate'] = cv2.dilate(spot_adata.layers['batch0_cell_shape_boundary'], dilate_kernel, iterations=1)\n",
    "\n",
    "plt.imshow(np.where(spot_adata.layers['batch0_cell_shape_boundary']!=0,50,spot_adata.layers['img_digital']), cmap=\"RdBu_r\")"
   ]
  },
  {
   "cell_type": "code",
   "execution_count": null,
   "id": "5df37684-b95b-4d03-a647-66a0a98042bf",
   "metadata": {},
   "outputs": [],
   "source": [
    "df = generate_long_matrix_df(adata, 0)\n",
    "df"
   ]
  },
  {
   "cell_type": "code",
   "execution_count": null,
   "id": "adecd6b6-8776-4733-bd44-58f2fb31c5c4",
   "metadata": {},
   "outputs": [],
   "source": [
    "digital_layer = spot_adata.layers['img_digital'].astype(np.int32)"
   ]
  },
  {
   "cell_type": "code",
   "execution_count": null,
   "id": "5d43f873-5aa2-4046-a0d4-2c13d1a1433d",
   "metadata": {},
   "outputs": [],
   "source": [
    "vars = []\n",
    "for gene in np.unique(df['gene']):\n",
    "    vars.append(reg_one_gene(df, spot_adata, digital_layer, gene))\n",
    "\n",
    "var_df = pd.DataFrame({'var': vars, 'gene': np.unique(df['gene'])})"
   ]
  },
  {
   "cell_type": "code",
   "execution_count": null,
   "id": "6359c5bd-921b-4cfb-ad5f-72f9b8e8f9fb",
   "metadata": {},
   "outputs": [],
   "source": [
    "digital_6_gene_dfs = []\n",
    "for gene in var_df.sort_values(by='var', ascending=False).head(3)['gene']:\n",
    "    digital_6_gene_dfs.append(get_digital_info_for_one_gene(df, spot_adata, digital_layer, gene))\n",
    "for gene in var_df.sort_values(by='var', ascending=False).tail(3)['gene']:\n",
    "    digital_6_gene_dfs.append(get_digital_info_for_one_gene(df, spot_adata, digital_layer, gene))\n",
    "digital_6_gene_df = pd.concat(digital_6_gene_dfs, ignore_index=True)\n",
    "\n",
    "digital_6_gene_df"
   ]
  },
  {
   "cell_type": "code",
   "execution_count": null,
   "id": "b92781f6-618b-4565-b4be-2a4f56db7d2c",
   "metadata": {},
   "outputs": [],
   "source": [
    "sns.relplot(data=digital_6_gene_df, x='digital_layer', y='expression', kind=\"line\", hue='gene', palette=['red', 'darkorange', 'darkred', 'dodgerblue', 'royalblue', 'blue'])"
   ]
  },
  {
   "cell_type": "markdown",
   "id": "68028dc2-a7ce-4ef3-88c4-a77a71852cd8",
   "metadata": {},
   "source": [
    "### Figure S5h-k- Digitization benchmark on the MERFISH mouse cortex sample"
   ]
  },
  {
   "cell_type": "code",
   "execution_count": null,
   "id": "2bcd9f18-9837-48ed-b32d-81988f080f1f",
   "metadata": {},
   "outputs": [],
   "source": [
    "one_slice_adata = st.read_h5ad(\"/mnt/d/SCData/digitization/merfish/one_slice_digitization.h5ad\")\n",
    "one_slice_adata"
   ]
  },
  {
   "cell_type": "code",
   "execution_count": null,
   "id": "c960aff2-0acc-4e95-b9f9-86b6221bef26",
   "metadata": {},
   "outputs": [],
   "source": [
    "st.pl.space(adata=one_slice_adata, color='subclass', pointsize=0.5, show_legend=\"upper left\")"
   ]
  },
  {
   "cell_type": "markdown",
   "id": "338a390b-8323-4628-9a4e-ae99969e07da",
   "metadata": {},
   "source": [
    "#### Spateo digitization"
   ]
  },
  {
   "cell_type": "code",
   "execution_count": null,
   "id": "697e270d-13ca-42a8-a423-9166be16babb",
   "metadata": {},
   "outputs": [],
   "source": [
    "one_slice_adata.obsm['spatial_bin30'] = one_slice_adata.obsm['spatial']//30\n",
    "cluster_label_image_lowres = st.dd.gen_cluster_image(one_slice_adata, bin_size=1, spatial_key=\"spatial_bin30\", cluster_key='class_label', show=False)\n",
    "cluster_label_list = np.unique(one_slice_adata[one_slice_adata.obs['class_label'].isin(['Glutamatergic','GABAergic', 'Other']), :].obs[\"cluster_img_label\"])\n",
    "contours, cluster_image_close, cluster_image_contour = st.dd.extract_cluster_contours(cluster_label_image_lowres, cluster_label_list, bin_size=1, k_size=6, show=False)\n",
    "px.imshow(cluster_image_contour, width=500, height=500)"
   ]
  },
  {
   "cell_type": "code",
   "execution_count": null,
   "id": "0502e397-00fc-4e0b-9abc-ea814929475d",
   "metadata": {},
   "outputs": [],
   "source": [
    "# User input to specify a gridding direction\n",
    "pnt_xY = (41,133)\n",
    "pnt_xy = (0,107)\n",
    "pnt_Xy = (70,91)\n",
    "pnt_XY = (53,133)\n",
    "\n",
    "# Digitize the area of interest\n",
    "st.dd.digitize(\n",
    "    adata=one_slice_adata,\n",
    "    ctrs=contours,\n",
    "    ctr_idx=0,\n",
    "    pnt_xy=pnt_xy,\n",
    "    pnt_xY=pnt_xY,\n",
    "    pnt_Xy=pnt_Xy,\n",
    "    pnt_XY=pnt_XY,\n",
    "    spatial_key=\"spatial_bin30\"\n",
    ")"
   ]
  },
  {
   "cell_type": "code",
   "execution_count": null,
   "id": "5f1cb8f6-0c6f-4ce2-b289-36b4a2bddd69",
   "metadata": {},
   "outputs": [],
   "source": [
    "# Visualize digitized layers and columns\n",
    "one_slice_adata.obs['digital_layer_5'] = (one_slice_adata.obs['digital_layer']-1)//20\n",
    "one_slice_adata.obs['digital_layer_5'] = one_slice_adata.obs['digital_layer_5'].astype(str)\n",
    "\n",
    "st.pl.space(\n",
    "    one_slice_adata[one_slice_adata.obs['digital_layer']!=0],\n",
    "    color=['digital_layer','digital_layer_5'],\n",
    "    ncols=2,\n",
    "    pointsize=0.1,\n",
    "    show_legend=\"upper left\",\n",
    "    color_key_cmap=\"tab20\",\n",
    "    figsize=(4, 5),\n",
    ")"
   ]
  },
  {
   "cell_type": "markdown",
   "id": "886c146e-d4ff-496e-bb88-b0a196d3144a",
   "metadata": {},
   "source": [
    "#### Belayer digitization"
   ]
  },
  {
   "cell_type": "code",
   "execution_count": null,
   "id": "32e4e390-2412-40d3-9c9e-762a5098224f",
   "metadata": {},
   "outputs": [],
   "source": [
    "import networkx as nx\n",
    "from slideseq_helpers import alpha_shape, harmonic_slideseq"
   ]
  },
  {
   "cell_type": "code",
   "execution_count": null,
   "id": "035d7be8-2a22-4553-aa0a-0dddd0d3e5f1",
   "metadata": {},
   "outputs": [],
   "source": [
    "coords = one_slice_adata.obsm['spatial']\n",
    "\n",
    "edges = list(alpha_shape(coords, alpha=100, only_outer=True))\n",
    "G = nx.DiGraph(edges)\n",
    "\n",
    "edge_pts=list(nx.simple_cycles(G))[0]\n",
    "edge_pts=[(coords[e,0],coords[e,1]) for e in edge_pts]"
   ]
  },
  {
   "cell_type": "code",
   "execution_count": null,
   "id": "e4951366-28bd-4e99-9428-ab17efa5bda0",
   "metadata": {},
   "outputs": [],
   "source": [
    "fig, ax = plt.subplots(figsize=(2,3))\n",
    "for i, j in edges:\n",
    "    plt.plot(coords[[i, j], 0], coords[[i, j], 1], color='grey', ls='-',alpha=0.5)\n",
    "\n",
    "plt.scatter(coords[:,0],coords[:,1],s=2,color='grey')\n",
    "\n",
    "x, y = edge_pts[48]\n",
    "plt.scatter(x, y, s=10, color='red')\n",
    "\n",
    "x, y = edge_pts[94]\n",
    "plt.scatter(x, y, s=10, color='red')\n",
    "\n",
    "x, y = edge_pts[20]\n",
    "plt.scatter(x, y, s=10, color='red')\n",
    "\n",
    "x, y = edge_pts[13]\n",
    "plt.scatter(x, y, s=10, color='red')"
   ]
  },
  {
   "cell_type": "code",
   "execution_count": null,
   "id": "1cfdfa7c-5bcc-4148-aff7-0c3f1d7364b1",
   "metadata": {},
   "outputs": [],
   "source": [
    "boundary_array = []\n",
    "boundary_array.append(np.array([[i[0], i[1]] for i in edge_pts[48:94+1]]))\n",
    "boundary_array.append(np.array([[i[0], i[1]] for i in edge_pts[13:20+1]]))\n",
    "one_slice_adata.obs['belayer'] = harmonic_slideseq(coords, boundary_array, grid_spacing=20, radius=10)"
   ]
  },
  {
   "cell_type": "code",
   "execution_count": null,
   "id": "abcb265c-3df3-40c6-9418-890473c4815f",
   "metadata": {},
   "outputs": [],
   "source": [
    "# Visualize digitized layers and columns\n",
    "one_slice_adata.obs['belayer_5'] = (one_slice_adata.obs['belayer'])//20\n",
    "one_slice_adata.obs['belayer_5'] = one_slice_adata.obs['belayer_5'].astype(str)\n",
    "\n",
    "st.pl.space(\n",
    "    one_slice_adata[one_slice_adata.obs['digital_layer']!=0],\n",
    "    color=['belayer','belayer_5'],\n",
    "    ncols=2,\n",
    "    pointsize=0.1,\n",
    "    show_legend=\"upper left\",\n",
    "    color_key_cmap=\"tab20\",\n",
    "    figsize=(4, 5),\n",
    ")"
   ]
  },
  {
   "cell_type": "markdown",
   "id": "63812286-3adb-4b76-94bf-e33cd322e70d",
   "metadata": {},
   "source": [
    "#### Distribution of layer-enriched cell types"
   ]
  },
  {
   "cell_type": "code",
   "execution_count": null,
   "id": "2c3b596d-e00f-401f-8c62-db7411cd2dd9",
   "metadata": {},
   "outputs": [],
   "source": [
    "df = one_slice_adata.obs[['subclass', 'digital_layer', 'belayer']]\n",
    "df = df[df['subclass'].isin(['L2/3 IT', 'L4/5 IT', 'L5 IT', 'L6 IT'])]\n",
    "df['subclass'] = df['subclass'].astype('str').astype('category')"
   ]
  },
  {
   "cell_type": "code",
   "execution_count": null,
   "id": "f96f5764-afa7-4b9e-8514-472e5b29234f",
   "metadata": {},
   "outputs": [],
   "source": [
    "sns.kdeplot(data=df, x='digital_layer', hue='subclass', common_norm=False)\n",
    "sns.kdeplot(data=df, x='belayer', hue='subclass', common_norm=False, linestyle=\"--\")"
   ]
  },
  {
   "cell_type": "code",
   "execution_count": null,
   "id": "55b353b6-a9b6-4526-bde4-9b9f3027c836",
   "metadata": {},
   "outputs": [],
   "source": [
    "sns.scatterplot(data=df, x='digital_layer', y='belayer', size=5, marker='x')"
   ]
  },
  {
   "cell_type": "code",
   "execution_count": null,
   "id": "ce90151e-3333-4870-b3d4-66edb078ff06",
   "metadata": {},
   "outputs": [],
   "source": [
    "if os.path.exists(\"tmp.csv\"):\n",
    "    os.remove(\"tmp.csv\")"
   ]
  },
  {
   "cell_type": "markdown",
   "id": "fb06e190-0d77-4285-a3c7-8d7bc6673396",
   "metadata": {},
   "source": [
    "# CCI"
   ]
  },
  {
   "cell_type": "code",
   "execution_count": null,
   "id": "9b055825-08ce-4efc-98fb-df2c4f9ad9cc",
   "metadata": {},
   "outputs": [],
   "source": [
    "np.random.seed(888)"
   ]
  },
  {
   "cell_type": "code",
   "execution_count": null,
   "id": "08c910bf-4724-4518-9c77-eb28440365ed",
   "metadata": {},
   "outputs": [],
   "source": [
    "%config InlineBackend.print_figure_kwargs={'dpi': 300.0}"
   ]
  },
  {
   "cell_type": "code",
   "execution_count": null,
   "id": "015065ae-8bde-42ae-8cf1-fabef2c751aa",
   "metadata": {},
   "outputs": [],
   "source": [
    "# For viewability purposes, process all \"COL\" elements to \"Collagens\": \n",
    "def replace_col_with_collagens(string):\n",
    "    parts = string.split(':')\n",
    "    elements = parts[0].split('/')\n",
    "    \n",
    "    # Flag to check if we've encountered a \"COL\" element or a \"Collagens\" element\n",
    "    encountered_col = False\n",
    "    \n",
    "    for i, element in enumerate(elements):\n",
    "        # If the element starts with \"COL\" or \"b_COL\", or if it is \"Collagens\" or \"b_Collagens\"\n",
    "        if element.startswith(\"COL\") or element.startswith(\"b_COL\") or element in [\"Collagens\", \"b_Collagens\"]:\n",
    "            # If we've already encountered a \"COL\" or \"Collagens\" element, remove this one\n",
    "            if encountered_col:\n",
    "                elements[i] = None\n",
    "            # Otherwise, replace it with \"Collagens\" or \"b_Collagens\" as appropriate\n",
    "            else:\n",
    "                if element.startswith(\"b_COL\") or element == \"b_Collagens\":\n",
    "                    elements[i] = \"b_Collagens\"\n",
    "                else:\n",
    "                    elements[i] = \"Collagens\"\n",
    "                encountered_col = True\n",
    "                \n",
    "    # Remove None elements and join the rest with slashes\n",
    "    replaced_part = '/'.join([element for element in elements if element is not None])\n",
    "    \n",
    "    # If there's a second part, add it back\n",
    "    if len(parts) > 1:\n",
    "        replaced_string = replaced_part + ':' + parts[1]\n",
    "    else:\n",
    "        replaced_string = replaced_part\n",
    "        \n",
    "    return replaced_string"
   ]
  },
  {
   "cell_type": "markdown",
   "id": "bf2c26e6-05cb-4335-98bb-39a3a0da8ab3",
   "metadata": {},
   "source": [
    "## Resources used for the CosMx sample can be found: https://www.dropbox.com/scl/fo/z3bvppoq96vg442lma0rs/ACIXLqp-FXjuYQ2ZeAeHFEA?rlkey=84h21aoigdxrpfz9yrbsyepwg&st=55ozincu&dl=0\n",
    "## Resources used for the MERFISH sample can be found: https://www.dropbox.com/scl/fo/s7mjpdgbk4f2mj1rndooo/AAkL3b4W3JazjGDn3pSKKrk?rlkey=3acd5da9bcl743x0byrrm8jxp&st=9g9b9o47&dl=0 \n",
    "## Database files used here can be found: https://www.dropbox.com/scl/fo/dcd95so9zhkb8lnjkkxep/ANwmkFeb-sgtS89leHQezlU?rlkey=saiul4j5rr1vt6lwjl4hirmwh&st=brpjqw2c&dl=0\n",
    "\n",
    "### Make sure to change each file path to the relevant local folder"
   ]
  },
  {
   "cell_type": "code",
   "execution_count": null,
   "id": "2ae71def-1325-4903-bf7c-b78fa1898e18",
   "metadata": {},
   "outputs": [],
   "source": [
    "# Set the Spateo database directory here:\n",
    "database_dir = \"/mnt/d/SCData/CCI_database\""
   ]
  },
  {
   "cell_type": "markdown",
   "id": "ff3839c1-7526-4ef8-9ef6-d08c49d32041",
   "metadata": {},
   "source": [
    "## Load MERFISH brain sample FOVs"
   ]
  },
  {
   "cell_type": "code",
   "execution_count": null,
   "id": "2318739b-b176-41ec-902e-1efe044ad08d",
   "metadata": {},
   "outputs": [],
   "source": [
    "# Two FOVs are included- use this to change which is selected (options are 153 or 162)\n",
    "fov_number = 153"
   ]
  },
  {
   "cell_type": "code",
   "execution_count": null,
   "id": "d18ce38b-2d61-4c5d-9ada-ba46acd07c59",
   "metadata": {},
   "outputs": [],
   "source": [
    "# Replace with wherever this file is stored locally\n",
    "path_to_merfish = f\"/mnt/d/SCData/Spateo_data/MERFISH_mouse_cortex/MERFISH_mouse_brain_mouse1_fov{fov_number}.h5ad\"\n",
    "# Replace with wherever the L:R database is stored locally\n",
    "lr_db = pd.read_csv(\"/mnt/c/Users/danie/Desktop/Github/Github/spateo-release-main/spateo/tools/database/lr_db_mouse.csv\", index_col=0)"
   ]
  },
  {
   "cell_type": "code",
   "execution_count": null,
   "id": "c1e7d12c-e7e8-4c01-9a52-dfeb1d981c3a",
   "metadata": {},
   "outputs": [],
   "source": [
    "merfish_fov = anndata.read_h5ad(path_to_merfish)\n",
    "merfish_fov.uns[\"__type\"] = \"UMI\""
   ]
  },
  {
   "cell_type": "markdown",
   "id": "9b799ba2-bd0b-4f6c-b017-1cb0b6c1bb23",
   "metadata": {},
   "source": [
    "### Figure S5l- spatially-resolved cell types plot"
   ]
  },
  {
   "cell_type": "code",
   "execution_count": null,
   "id": "e53ed709-e976-4f7b-93c5-e3b3853ec7c6",
   "metadata": {},
   "outputs": [],
   "source": [
    "spatial_coords = merfish_fov.obsm['spatial']\n",
    "x_coords = spatial_coords[:, 0]\n",
    "y_coords = spatial_coords[:, 1]\n",
    "cell_types = merfish_fov.obs['general_cell_type']"
   ]
  },
  {
   "cell_type": "code",
   "execution_count": null,
   "id": "ecb54ca1-6d00-4b08-9f91-59d4a63d1631",
   "metadata": {},
   "outputs": [],
   "source": [
    "unique_cell_types = np.unique(cell_types)\n",
    "color_map = {\n",
    "    'Astro': '#d70000',\n",
    "    'Endo': '#00fdcf',\n",
    "    'L23_IT': '#eeb9b9',\n",
    "    'L45_IT': '#00af8a',\n",
    "    'L56_NP': '#d38c8f',\n",
    "    'L5_ET': '#c59f72',\n",
    "    'L5_IT': '#00d6d5',\n",
    "    'L6_CT': '#a9001f',\n",
    "    'L6_IT': '#bfd57c',\n",
    "    'L45_IT_SSp': '#f46200',\n",
    "    'L6b': '#d2b75b',\n",
    "    'Lamp5': '#ad94ec',\n",
    "    'Micro': '#213400',\n",
    "    'OPC': '#fb7cff',\n",
    "    'Oligo': '#91a2ea',\n",
    "    'PVM': '#ad3b30',\n",
    "    'Peri': '#734abc',\n",
    "    'Pvalb': '#602541',\n",
    "    'SMC': '#e2b392',\n",
    "    'Sncg': '#bc94d2',\n",
    "    'Sst': '#1726ff',\n",
    "    'VLMC': '#8a1323',\n",
    "    'Vip': '#2f3ea8',\n",
    "    'striatum': '#ffa500'\n",
    "}"
   ]
  },
  {
   "cell_type": "code",
   "execution_count": null,
   "id": "7015fe99-5701-464f-8432-30607f2b3158",
   "metadata": {},
   "outputs": [],
   "source": [
    "# Scatter plot\n",
    "plt.rcParams['xtick.labelsize'] = 16\n",
    "plt.rcParams['ytick.labelsize'] = 16\n",
    "\n",
    "fig, axes = plt.subplots(1, 1, figsize=(6, 5))\n",
    "fig.suptitle(f'MERFISH mouse brain- FOV {fov_number}', fontsize=20)\n",
    "    \n",
    "for cell_type in unique_cell_types:\n",
    "    idx = cell_types == cell_type\n",
    "    axes.scatter(x_coords[idx], y_coords[idx], color=color_map[cell_type], label=cell_type, s=5)\n",
    "\n",
    "axes.set_ylim(axes.get_ylim())  # Sync y-limits with the scatter plot\n",
    "# Remove plot borders\n",
    "for spine in axes.spines.values():\n",
    "    spine.set_visible(False)\n",
    "\n",
    "# Remove tick marks and labels\n",
    "axes.tick_params(left=False, bottom=False, labelleft=False, labelbottom=False)\n",
    "axes.legend(title='Cell Type', bbox_to_anchor=(1.15, 1), loc='upper left', title_fontsize='12', fontsize='10')\n",
    "\n",
    "plt.tight_layout(rect=[0, 0, 0.95, 1])  # Adjust the layout to fit everything nicely\n",
    "plt.show()"
   ]
  },
  {
   "cell_type": "code",
   "execution_count": null,
   "id": "16e23864-c3b8-4c31-a3cf-5894c7390b66",
   "metadata": {},
   "outputs": [],
   "source": [
    "# Set to the folders that the inputs (only the targets list for this data) are contained in and that the outputs (model results) will save to:\n",
    "cci_input_directory = \"/mnt/d/SCAnalysis/Spateo_MERFISH_benchmark/CCI_inputs\"\n",
    "cci_output_directory = \"/mnt/d/SCAnalysis/Spateo_MERFISH_benchmark/CCI_outputs\"\n",
    "cci_output_id = os.path.join(cci_output_directory, f\"fov_{fov_number}_target_genes.csv\")\n",
    "cci_targets_file = os.path.join(cci_input_directory, f\"target_genes_slice{fov_number}.txt\")"
   ]
  },
  {
   "cell_type": "markdown",
   "id": "e933bf50-d691-49e6-ad1c-35d66bc139eb",
   "metadata": {},
   "source": [
    "#### Initialize and run CCI model (can skip if predictions .csv file was created locally or downloaded from the folder)"
   ]
  },
  {
   "cell_type": "code",
   "execution_count": null,
   "id": "4cb8ac37-592f-4636-9734-0412d39035d9",
   "metadata": {},
   "outputs": [],
   "source": [
    "if fov_number == 153:\n",
    "    lb = 50.0\n",
    "    ub = 139.6\n",
    "else:\n",
    "    lb = 48.9\n",
    "    ub = 136.4"
   ]
  },
  {
   "cell_type": "code",
   "execution_count": null,
   "id": "6263f07b-acb9-44f2-a330-814d07c3708d",
   "metadata": {},
   "outputs": [],
   "source": [
    "# For clarity, this is how the distance bounds are determined\n",
    "lb = st.tl.find_neighbors.find_bw_for_n_neighbors(\n",
    "    merfish_fov,\n",
    "    coords_key=\"spatial\",\n",
    "    n_anchors=2000,\n",
    "    target_n_neighbors=9,\n",
    "    initial_bw=200,\n",
    "    exclude_self=True\n",
    ")"
   ]
  },
  {
   "cell_type": "code",
   "execution_count": null,
   "id": "da5bd3ef-181f-41cc-b5ff-0f8c7fcbcf78",
   "metadata": {},
   "outputs": [],
   "source": [
    "ub = st.tl.find_neighbors.find_bw_for_n_neighbors(\n",
    "    merfish_fov,\n",
    "    coords_key=\"spatial\",\n",
    "    n_anchors=2000,\n",
    "    target_n_neighbors=70,\n",
    "    initial_bw=200,\n",
    "    exclude_self=True\n",
    ")"
   ]
  },
  {
   "cell_type": "code",
   "execution_count": null,
   "id": "dd4d8a71-f5a3-460f-a3ac-ad8178d3441b",
   "metadata": {},
   "outputs": [],
   "source": [
    "adata_path = path_to_cosmx\n",
    "output_path = cci_output_id\n",
    "target_path = cci_targets_file\n",
    "cci_dir_path = database_dir\n",
    "mod_type = \"niche\"\n",
    "distr = \"poisson\"\n",
    "species = \"mouse\"\n",
    "group_key = \"general_cell_type\"\n",
    "coords_key = \"spatial\"\n",
    "distance_membrane_bound = lb\n",
    "distance_secreted = ub\n",
    "minbw = lb\n",
    "maxbw = ub * 1.5\n",
    "\n",
    "if not os.path.exists(os.path.dirname(output_path)):\n",
    "    os.makedirs(os.path.dirname(output_path))"
   ]
  },
  {
   "cell_type": "code",
   "execution_count": null,
   "id": "f86f0632-1178-445b-ba73-db0b140d35bb",
   "metadata": {},
   "outputs": [],
   "source": [
    "parser, args_list = st.tl.define_spateo_argparse(\n",
    "    adata_path=adata_path,\n",
    "    targets_path=target_path,\n",
    "    cci_dir=cci_dir_path,\n",
    "    mod_type=mod_type,\n",
    "    distr=distr,\n",
    "    species=species,\n",
    "    group_key=group_key,\n",
    "    coords_key=coords_key,\n",
    "    distance_membrane_bound=distance_membrane_bound,\n",
    "    distance_secreted=distance_secreted,\n",
    "    minbw=minbw,\n",
    "    maxbw=maxbw,\n",
    "    output_path=output_path,\n",
    ")"
   ]
  },
  {
   "cell_type": "code",
   "execution_count": null,
   "id": "abbb1fed-fc83-4f75-8622-71b414c22ac9",
   "metadata": {},
   "outputs": [],
   "source": [
    "import time\n",
    "\n",
    "t1 = time.time()\n",
    "\n",
    "swr_model = st.tl.MuSIC(parser, args_list)\n",
    "swr_model._set_up_model()\n",
    "swr_model.fit()\n",
    "swr_model.predict_and_save()\n",
    "\n",
    "t_last = time.time()\n",
    "\n",
    "print(\"Total Time Elapsed:\", np.round(t_last - t1, 2), \"seconds\")\n",
    "print(\"-\" * 60)"
   ]
  },
  {
   "cell_type": "code",
   "execution_count": null,
   "id": "99e89eb2-13f8-49c6-b060-d30e0d4cd556",
   "metadata": {},
   "outputs": [],
   "source": [
    "# Note that the predictions.csv file is also provided in the Dropbox"
   ]
  },
  {
   "cell_type": "markdown",
   "id": "84c642f9-e828-4ddf-8c14-8aa14d48d061",
   "metadata": {},
   "source": [
    "#### Run NCEM model for the comparison (can also skip to the next section- the predictions file is included in the Dropbox folder)"
   ]
  },
  {
   "cell_type": "code",
   "execution_count": null,
   "id": "f1f8d606-1313-41ef-a532-656f5f5b0970",
   "metadata": {},
   "outputs": [],
   "source": [
    "# These are the contents of the \"target_genes\" txt files, spelled out in the form of a list\n",
    "if sample_id == 153:\n",
    "    target_genes = [\"Flt1\", \"Aqp4\", \"Parm1\", \"Rorb\", \"Syt6\", \"Calb1\", \"Prdm8\", \"Rspo1\", \"Lypd1\", \"Adamts4\", \"Vtn\", \"Lamp5\"]\n",
    "else:\n",
    "    target_genes = [\"Flt1\", \"Aqp4\", \"Parm1\", \"Rorb\", \"Syt6\", \"Calb1\", \"Prdm8\", \"Rspo1\", \"Ptpru\", \"Adamts4\", \"Vtn\", \"Lamp5\"]"
   ]
  },
  {
   "cell_type": "code",
   "execution_count": null,
   "id": "c3ffbd1b-edb7-4bd6-89cf-9c11865dee34",
   "metadata": {},
   "outputs": [],
   "source": [
    "# 6779 is prime, need to randomly drop 1 cell for NCEM- this is saved as a separate file in the MERFISH dropbox\n",
    "# Replace the file path with wherever this file is stored locally\n",
    "mouse_brain_ncem = anndata.read_h5ad(f\"/mnt/d/SCData/Spateo_data/MERFISH_mouse_cortex/MERFISH_mouse_brain_mouse1_fov{fov_number}_NCEM_processed.h5ad\")"
   ]
  },
  {
   "cell_type": "code",
   "execution_count": null,
   "id": "9e804fa8-7a89-4a7d-8da4-bfee3e595cb1",
   "metadata": {},
   "outputs": [],
   "source": [
    "# Requirement for initializing interpreter\n",
    "mouse_brain_ncem.uns[\"spatial\"] = \"Hello, world\""
   ]
  },
  {
   "cell_type": "code",
   "execution_count": null,
   "id": "22e07257-0809-4fc5-941c-3699973203cd",
   "metadata": {},
   "outputs": [],
   "source": [
    "# Use the upper distance bound as the distance parameter for NCEM\n",
    "dist = ub"
   ]
  },
  {
   "cell_type": "code",
   "execution_count": null,
   "id": "cdea210d-b6d9-44d1-bf0d-ba3b0426c340",
   "metadata": {},
   "outputs": [],
   "source": [
    "interpreter = ncem.interpretation.interpreter.InterpreterInteraction()"
   ]
  },
  {
   "cell_type": "code",
   "execution_count": null,
   "id": "dd5197d7-0c31-4e76-acaa-7fe37ee841b1",
   "metadata": {},
   "outputs": [],
   "source": [
    "interpreter.data = customLoader(\n",
    "    adata=mouse_brain_ncem, cluster='general_cell_type', patient='Batch', library_id='Batch', radius=dist,\n",
    ")\n",
    "get_data_custom(interpreter=interpreter)"
   ]
  },
  {
   "cell_type": "code",
   "execution_count": null,
   "id": "b6c3e144-b836-44ab-aa40-a3d55450957a",
   "metadata": {},
   "outputs": [],
   "source": [
    "interpreter.n_eval_nodes_per_graph = 2"
   ]
  },
  {
   "cell_type": "code",
   "execution_count": null,
   "id": "df03ba26-1e75-4d50-8a39-32b6e70cb35a",
   "metadata": {},
   "outputs": [],
   "source": [
    "interpreter.get_sender_receiver_effects()"
   ]
  },
  {
   "cell_type": "code",
   "execution_count": null,
   "id": "35bd0b69-8d5e-47d9-bdaf-e18e9d2645df",
   "metadata": {},
   "outputs": [],
   "source": [
    "# Backsolve to get the design matrix:\n",
    "img_keys = interpreter.img_keys_all\n",
    "nodes_idx = interpreter.nodes_idx_all"
   ]
  },
  {
   "cell_type": "code",
   "execution_count": null,
   "id": "16029778-d366-45ab-948a-b368c845880a",
   "metadata": {},
   "outputs": [],
   "source": [
    "(target, interactions, _, _, _), y = interpreter._get_np_data(image_keys=img_keys, nodes_idx=nodes_idx)\n",
    "x_design = np.concatenate([target, interactions], axis=1)\n",
    "x_design"
   ]
  },
  {
   "cell_type": "code",
   "execution_count": null,
   "id": "e75cfe31-e171-4290-ba3c-cf3e8b804a50",
   "metadata": {},
   "outputs": [],
   "source": [
    "def ols_fit(x_, y_):\n",
    "    \"\"\"beta = (XT * X)^-1 XT y\"\"\"\n",
    "    X = np.matmul(\n",
    "        np.linalg.pinv(np.matmul(x_.T, x_)),\n",
    "        x_.T\n",
    "    )\n",
    "    return np.array([\n",
    "        np.matmul(\n",
    "            X, y_[:, [i]]\n",
    "        )\n",
    "        for i in range(y_.shape[1])\n",
    "    ])\n",
    "\n",
    "ols = ols_fit(x_=x_design, y_=y)\n",
    "params = ols.squeeze()\n",
    "\n",
    "params.shape"
   ]
  },
  {
   "cell_type": "code",
   "execution_count": null,
   "id": "bc3ce8de-2960-4c03-bce7-8f2571bf5f2d",
   "metadata": {},
   "outputs": [],
   "source": [
    "reconst = np.matmul(x_design, params.T)\n",
    "reconst"
   ]
  },
  {
   "cell_type": "code",
   "execution_count": null,
   "id": "ee529f23-5679-43fd-b5fe-1508019ffef0",
   "metadata": {},
   "outputs": [],
   "source": [
    "reconst_df = pd.DataFrame(reconst, index=mouse_brain_ncem.obs_names, columns=target_genes)"
   ]
  },
  {
   "cell_type": "code",
   "execution_count": null,
   "id": "1fdba972-6a9c-466f-abe3-b293b081b09a",
   "metadata": {},
   "outputs": [],
   "source": [
    "# Change to an appropriate location on the local system\n",
    "save_path = f\"/mnt/d/SCAnalysis/Spateo_MERFISH_benchmark/NCEM_predictions_fov{fov_number}.csv\"\n",
    "reconst_df.to_csv(save_path)"
   ]
  },
  {
   "cell_type": "markdown",
   "id": "71a9b491-c583-4087-a5a3-894172df6833",
   "metadata": {},
   "source": [
    "### Figure S5m- barplots comparing performance of Spateo vs. NCEM"
   ]
  },
  {
   "cell_type": "code",
   "execution_count": null,
   "id": "2f07a686-061a-4129-a4dd-57e64c15bbca",
   "metadata": {},
   "outputs": [],
   "source": [
    "# Change to the location on the local system where the NCEM predictions were saved\n",
    "ncem_save_path = f\"/mnt/d/SCAnalysis/Spateo_MERFISH_benchmark/NCEM_predictions_fov{fov_number}.csv\"\n",
    "ncem_reconst_df = pd.read_csv(ncem_save_path, index_col=0)"
   ]
  },
  {
   "cell_type": "code",
   "execution_count": null,
   "id": "0052b782-8569-49fe-b203-5d5b2c47e487",
   "metadata": {},
   "outputs": [],
   "source": [
    "spateo_save_path = os.path.join(cci_output_directory, \"predictions.csv\")\n",
    "spateo_reconst_df = pd.read_csv(spateo_save_path, index_col=0)"
   ]
  },
  {
   "cell_type": "code",
   "execution_count": null,
   "id": "e8bd9dbd-49a4-477e-a93f-edaa55cc2c32",
   "metadata": {},
   "outputs": [],
   "source": [
    "# In case the previous section was skipped over\n",
    "if sample_id == 153:\n",
    "    target_genes = [\"Flt1\", \"Aqp4\", \"Parm1\", \"Rorb\", \"Syt6\", \"Calb1\", \"Prdm8\", \"Rspo1\", \"Lypd1\", \"Adamts4\", \"Vtn\", \"Lamp5\"]\n",
    "else:\n",
    "    target_genes = [\"Flt1\", \"Aqp4\", \"Parm1\", \"Rorb\", \"Syt6\", \"Calb1\", \"Prdm8\", \"Rspo1\", \"Ptpru\", \"Adamts4\", \"Vtn\", \"Lamp5\"]\n",
    "\n",
    "# 6779 is prime, need to randomly drop 1 cell for NCEM- this is saved as a separate file in the MERFISH dropbox\n",
    "# Replace the file path with wherever this file is stored locally\n",
    "mouse_brain_ncem = anndata.read_h5ad(f\"/mnt/d/SCData/Spateo_data/MERFISH_mouse_cortex/MERFISH_mouse_brain_mouse1_fov{fov_number}_NCEM_processed.h5ad\")"
   ]
  },
  {
   "cell_type": "markdown",
   "id": "8caf8cb1-d724-48bc-b72d-5619ea9f3892",
   "metadata": {},
   "source": [
    "#### Bootstrap resampling- can skip over this section as well if these files have already been generated or the result files were downloaded from the resource folder"
   ]
  },
  {
   "cell_type": "code",
   "execution_count": null,
   "id": "53c00b60-0e36-4e68-9ab6-b140af10383a",
   "metadata": {},
   "outputs": [],
   "source": [
    "# Note that for the figure, only the R-squared comparison is included, but this computes additional metrics that can also be compared w/ modifications to code below:\n",
    "def compute_metrics(y_true, y_pred):\n",
    "    metrics = {}\n",
    "    \n",
    "    rp, _ = pearsonr(y_true, y_pred)\n",
    "    r, _ = spearmanr(y_true, y_pred)\n",
    "    r2 = r2_score(y_true, y_pred)\n",
    "    mse = mean_squared_error(y_true, y_pred)\n",
    "    rmse = np.sqrt(mse)\n",
    "\n",
    "    binary_y_true = (y_true != 0).astype(int)\n",
    "    binary_y_pred = (y_pred != 0).astype(int)\n",
    "    intersection = np.sum(binary_y_true * binary_y_pred)\n",
    "    union = np.sum(np.maximum(binary_y_true, binary_y_pred))\n",
    "    ji = intersection / union if union != 0 else 1.0\n",
    "\n",
    "    metrics['Pearson r'] = rp\n",
    "    metrics['Spearman r'] = r\n",
    "    metrics['R-squared'] = r2\n",
    "    metrics['RMSE'] = rmse\n",
    "    metrics['Jaccard index'] = ji\n",
    "\n",
    "    return metrics"
   ]
  },
  {
   "cell_type": "code",
   "execution_count": null,
   "id": "5aeb119f-1005-4a6f-9d33-436940e8b049",
   "metadata": {},
   "outputs": [],
   "source": [
    "np.random.seed(888)"
   ]
  },
  {
   "cell_type": "code",
   "execution_count": null,
   "id": "36ebce31-ab3b-4464-aa8c-dce7b41f1907",
   "metadata": {},
   "outputs": [],
   "source": [
    "# Define the number of bootstrap samples\n",
    "n_bootstrap_samples = 1000\n",
    "n_samples_to_pick = 200\n",
    "confidence_level = 0.95\n",
    "\n",
    "# Initialize empty DataFrames\n",
    "total_rs_df = pd.DataFrame()\n",
    "bootstrap_df = pd.DataFrame()  # To store all bootstrap results"
   ]
  },
  {
   "cell_type": "code",
   "execution_count": null,
   "id": "2b30d6bb-6951-4f1a-84ba-19f861cdbfdb",
   "metadata": {},
   "outputs": [],
   "source": [
    "# Bootstrap for the Spateo results\n",
    "for i, gene in tqdm(enumerate(all_genes), desc=\"Computing metrics for all genes...\"):\n",
    "    y = merfish_fov[:, gene].X.toarray().reshape(-1)\n",
    "    spateo_results_target = spateo_reconst_df[gene].values.reshape(-1)\n",
    "\n",
    "    non_zero_indices = np.nonzero(y)[0]\n",
    "    y_non_zero = y[non_zero_indices]\n",
    "    spateo_results_target_non_zero = spateo_results_target[non_zero_indices]\n",
    "    \n",
    "    if np.isnan(y).any() or np.isnan(spateo_results_target).any():\n",
    "        print(f\"Array contains NaN values for gene {gene}\")\n",
    "        continue\n",
    "    \n",
    "    # Bootstrap resampling\n",
    "    bootstrap_metrics = []\n",
    "    for _ in range(n_bootstrap_samples):\n",
    "        indices = np.random.choice(len(y_non_zero), size=n_samples_to_pick, replace=False)\n",
    "        y_resampled = y_non_zero[indices]\n",
    "        spateo_results_resampled = spateo_results_target_non_zero[indices]\n",
    "        metrics = compute_metrics(y_resampled, spateo_results_resampled)\n",
    "        bootstrap_metrics.append(metrics)\n",
    "    \n",
    "    # Convert bootstrap metrics to DataFrame\n",
    "    spateo_bootstrap_df = pd.DataFrame(bootstrap_metrics)\n",
    "    spateo_bootstrap_df.columns = [f\"Spateo {col} {gene}\" for col in spateo_bootstrap_df.columns]\n",
    "    bootstrap_df = pd.concat([bootstrap_df, spateo_bootstrap_df], axis=1)\n",
    "    \n",
    "    # Compute confidence intervals\n",
    "    ci_lower = spateo_bootstrap_df.quantile((1 - confidence_level) / 2)\n",
    "    ci_upper = spateo_bootstrap_df.quantile(1 - (1 - confidence_level) / 2)\n",
    "\n",
    "    # Original metrics for the gene\n",
    "    original_metrics = compute_metrics(y_non_zero, spateo_results_target_non_zero)\n",
    "    \n",
    "    # Append metric and confidence intervals to DataFrame\n",
    "    new_rs = pd.DataFrame([{'Gene names': gene, 'Model type': \"Spateo\", 'R-squared': original_metrics['R-squared'],\n",
    "                            'CI Lower': ci_lower[f'Spateo R-squared {gene}'], 'CI Upper': ci_upper[f'Spateo R-squared {gene}']}])\n",
    "    total_rs_df = pd.concat([total_rs_df, new_rs])"
   ]
  },
  {
   "cell_type": "code",
   "execution_count": null,
   "id": "7ada3a2d-c2c9-4cdd-8661-7bff895fc2d1",
   "metadata": {},
   "outputs": [],
   "source": [
    "# Bootstrap for the NCEM results\n",
    "for i, gene in tqdm(enumerate(all_genes), desc=\"Computing NCEM metrics for all genes...\"):\n",
    "    y = mouse_brain_ncem[:, gene].X.toarray().reshape(-1)\n",
    "    NCEM_results_target = ncem_reconst_df[gene].values.reshape(-1)\n",
    "\n",
    "    non_zero_indices = np.nonzero(y)[0]\n",
    "    y_non_zero = y[non_zero_indices]\n",
    "    NCEM_results_target_non_zero = NCEM_results_target[non_zero_indices]\n",
    "    \n",
    "    if np.isnan(y).any() or np.isnan(NCEM_results_target).any():\n",
    "        print(f\"Array contains NaN values for gene {gene}\")\n",
    "        continue\n",
    "    \n",
    "    # Bootstrap resampling\n",
    "    bootstrap_metrics = []\n",
    "    for _ in range(n_bootstrap_samples):\n",
    "        indices = np.random.choice(len(y_non_zero), size=n_samples_to_pick, replace=False)\n",
    "        y_resampled = y_non_zero[indices]\n",
    "        NCEM_resampled = NCEM_results_target_non_zero[indices]\n",
    "        metrics = compute_metrics(y_resampled, NCEM_resampled)\n",
    "        bootstrap_metrics.append(metrics)\n",
    "    \n",
    "    # Convert bootstrap metrics to DataFrame\n",
    "    ncem_bootstrap_df = pd.DataFrame(bootstrap_metrics)\n",
    "    ncem_bootstrap_df.columns = [f\"NCEM {col} {gene}\" for col in ncem_bootstrap_df.columns]\n",
    "    bootstrap_df = pd.concat([bootstrap_df, ncem_bootstrap_df], axis=1)\n",
    "    \n",
    "    # Compute confidence intervals\n",
    "    ci_lower = ncem_bootstrap_df.quantile((1 - confidence_level) / 2)\n",
    "    ci_upper = ncem_bootstrap_df.quantile(1 - (1 - confidence_level) / 2)\n",
    "\n",
    "    # Original metrics for the gene\n",
    "    original_metrics = compute_metrics(y_non_zero, NCEM_results_target_non_zero)\n",
    "    \n",
    "    # Append metrics and confidence intervals to DataFrames\n",
    "    new_rs = pd.DataFrame([{'Gene names': gene, 'Model type': \"NCEM\", 'R-squared': original_metrics['R-squared'],\n",
    "                            'CI Lower': ci_lower[f'NCEM R-squared {gene}'], 'CI Upper': ci_upper[f'NCEM R-squared {gene}']}])\n",
    "    total_rs_df = pd.concat([total_rs_df, new_rs])"
   ]
  },
  {
   "cell_type": "code",
   "execution_count": null,
   "id": "842ff13b-af1b-47ae-9877-c11009c8f216",
   "metadata": {},
   "outputs": [],
   "source": [
    "# Change the path to an appropriate local directory\n",
    "save_folder = f\"/mnt/d/SCAnalysis/Spateo_MERFISH_benchmark\"\n",
    "total_rs_df.index = np.arange(len(total_rs_df))\n",
    "total_rs_df.to_csv(os.path.join(save_folder, f\"fov{fov_number}_benchmark_R-sq_results.csv\"))"
   ]
  },
  {
   "cell_type": "markdown",
   "id": "fbf303cc-80bd-4f7e-b394-be2c56ccabf4",
   "metadata": {},
   "source": [
    "#### Barplot"
   ]
  },
  {
   "cell_type": "code",
   "execution_count": null,
   "id": "12b765ae-2ee0-4a0b-9483-d9d84e08bb34",
   "metadata": {},
   "outputs": [],
   "source": [
    "def fisher_z_test_with_ci(r1, ci_lower1, ci_upper1, r2, ci_lower2, ci_upper2):\n",
    "    z1 = 0.5 * np.log((1 + r1) / (1 - r1))\n",
    "    z2 = 0.5 * np.log((1 + r2) / (1 - r2))\n",
    "    var_z1 = ((ci_upper1 - ci_lower1) / (2 * 1.96)) ** 2\n",
    "    var_z2 = ((ci_upper2 - ci_lower2) / (2 * 1.96)) ** 2\n",
    "    z_diff = (z1 - z2) / np.sqrt(var_z1 + var_z2)\n",
    "    p_value = 2 * (1 - norm.cdf(abs(z_diff)))\n",
    "    return p_value"
   ]
  },
  {
   "cell_type": "code",
   "execution_count": null,
   "id": "1b3ffdda-d7ac-4aea-bbb1-01b3d549f3fb",
   "metadata": {},
   "outputs": [],
   "source": [
    "# Change the path to the directory these were saved to\n",
    "save_folder = f\"/mnt/d/SCAnalysis/Spateo_MERFISH_benchmark\"\n",
    "metric_results = pd.read_csv(os.path.join(save_folder, f\"fov{fov_number}_benchmark_R-sq_results.csv\"), index_col=0)"
   ]
  },
  {
   "cell_type": "code",
   "execution_count": null,
   "id": "994fb8e1-7aa4-4135-89ef-974c6bdbda1d",
   "metadata": {},
   "outputs": [],
   "source": [
    "from scipy.stats import ttest_ind\n",
    "from statsmodels.stats.multitest import multipletests"
   ]
  },
  {
   "cell_type": "code",
   "execution_count": null,
   "id": "56670b6d-5ed1-46c6-891f-482260d25899",
   "metadata": {},
   "outputs": [],
   "source": [
    "results = []\n",
    "\n",
    "# Perform the test for each gene\n",
    "for gene in metric_results[\"Gene names\"].unique():\n",
    "    spateo_row = metric_results[(metric_results[\"Gene names\"] == gene) & (metric_results[\"Model type\"] == \"Spateo\")].iloc[0]\n",
    "    spateo_r = spateo_row[\"R-squared\"]\n",
    "    spateo_ci_lower = spateo_row[\"CI Lower\"]\n",
    "    spateo_ci_upper = spateo_row[\"CI Upper\"]\n",
    "    \n",
    "    for index, row in metric_results[(metric_results[\"Gene names\"] == gene) & (metric_results[\"Model type\"] != \"Spateo\")].iterrows():\n",
    "        model = row[\"Model type\"]\n",
    "        other_r = row[\"R-squared\"]\n",
    "        other_ci_lower = row[\"CI Lower\"]\n",
    "        other_ci_upper = row[\"CI Upper\"]\n",
    "        p_value = fisher_z_test_with_ci(spateo_r, spateo_ci_lower, spateo_ci_upper, other_r, other_ci_lower, other_ci_upper)\n",
    "        results.append([gene, model, p_value])\n",
    "\n",
    "# Convert results to a dataframe\n",
    "results_df = pd.DataFrame(results, columns=[\"Gene\", \"Model\", \"p-value\"])\n",
    "\n",
    "# Adjust p-values for multiple comparisons using Benjamini-Hochberg correction\n",
    "results_df[\"q-value\"] = results_df[\"p-value\"] * len(results_df) / (np.arange(1, len(results_df) + 1))\n",
    "results_df"
   ]
  },
  {
   "cell_type": "code",
   "execution_count": null,
   "id": "85e603a7-aee5-4c76-af61-d3127b2e7137",
   "metadata": {},
   "outputs": [],
   "source": [
    "pastel_colors = sns.color_palette(\"pastel\")\n",
    "# Convert the colors to hex codes\n",
    "colors_hex = [sns.color_palette(\"pastel\").as_hex() for color in pastel_colors][0]\n",
    "colors_hex[0], colors_hex[1] = colors_hex[1], colors_hex[0]\n",
    "colors_hex"
   ]
  },
  {
   "cell_type": "code",
   "execution_count": null,
   "id": "ef18b037-7bd3-4a8d-aefe-2af0ecadd566",
   "metadata": {},
   "outputs": [],
   "source": [
    "plt.figure(figsize=(12, 5))\n",
    "\n",
    "# Use seaborn's barplot function with hue parameter for condition\n",
    "ax = sns.barplot(data=metric_results, x=\"Gene names\", y=col, hue=\"Model type\", palette=colors_hex, edgecolor='black', dodge=True, ci=None)\n",
    "\n",
    "# Add error bars\n",
    "bar_width = 0.8 / len(metric_results[\"Model type\"].unique())  # Adjusting for the number of hue categories\n",
    "for i, (gene, model) in enumerate(zip(metric_results[\"Gene names\"], metric_results[\"Model type\"])):\n",
    "    y = metric_results[(metric_results[\"Gene names\"] == gene) & (metric_results[\"Model type\"] == model)][col].values[0]\n",
    "    ci_lower = metric_results[(metric_results[\"Gene names\"] == gene) & (metric_results[\"Model type\"] == model)][\"CI Lower\"].values[0]\n",
    "    ci_upper = metric_results[(metric_results[\"Gene names\"] == gene) & (metric_results[\"Model type\"] == model)][\"CI Upper\"].values[0]\n",
    "    \n",
    "    # Calculate x position for each bar\n",
    "    x = np.where(metric_results[\"Gene names\"].unique() == gene)[0][0]\n",
    "    x = x - bar_width / 2 * (len(metric_results[\"Model type\"].unique()) - 1) + bar_width * list(metric_results[\"Model type\"].unique()).index(model)\n",
    "    \n",
    "    # Plot the error bar\n",
    "    ax.errorbar(x, y, yerr=[[y - ci_lower], [ci_upper - y]], fmt='none', c='black', elinewidth=3, capsize=4.0, capthick=2.5)\n",
    "\n",
    "# Add significance annotations\n",
    "# Initialize a dictionary to track the number of annotations for each gene\n",
    "annotation_count = {gene: 0 for gene in metric_results[\"Gene names\"].unique()}\n",
    "\n",
    "for _, row in results_df.iterrows():\n",
    "    gene = row[\"Gene\"]\n",
    "    model = row[\"Model\"]\n",
    "    p_value = row[\"p-value\"]\n",
    "    q_value = row[\"q-value\"]\n",
    "\n",
    "    # Determine the asterisk symbol based on q-value\n",
    "    if q_value < 0.00005:\n",
    "        symbol = \"****\"\n",
    "    elif q_value < 0.0005:\n",
    "        symbol = \"***\"\n",
    "    elif q_value < 0.005:\n",
    "        symbol = \"**\"\n",
    "    elif q_value < 0.05:\n",
    "        symbol = \"*\"\n",
    "    else:\n",
    "        continue  # Skip if not significant\n",
    "    \n",
    "    # Find the y-value for the annotation\n",
    "    y = metric_results[(metric_results[\"Gene names\"] == gene) & (metric_results[\"Model type\"] == model)][col].values[0]\n",
    "    \n",
    "    # Calculate x position for each bar\n",
    "    x = np.where(metric_results[\"Gene names\"].unique() == gene)[0][0]\n",
    "    x = x - bar_width / 2 * (len(metric_results[\"Model type\"].unique()) - 1) + bar_width * list(metric_results[\"Model type\"].unique()).index(model)\n",
    "    \n",
    "    # Find the y-value for the Spateo model\n",
    "    y_spateo = metric_results[(metric_results[\"Gene names\"] == gene) & (metric_results[\"Model type\"] == \"Spateo\")][col].values[0]\n",
    "    x_spateo = np.where(metric_results[\"Gene names\"].unique() == gene)[0][0]\n",
    "    x_spateo = x_spateo - bar_width / 2 * (len(metric_results[\"Model type\"].unique()) - 1) + bar_width * list(metric_results[\"Model type\"].unique()).index(\"Spateo\")\n",
    "    \n",
    "    # Calculate the vertical position for the annotation\n",
    "    annotation_offset = annotation_count[gene] * 0.15 + 0.1\n",
    "    y_max = max(y, y_spateo) + annotation_offset\n",
    "    \n",
    "    # Plot the line between the Spateo bar and the other model bar\n",
    "    ax.plot([x, x, x_spateo, x_spateo], [y_max, y_max + 0.02, y_max + 0.02, y_max], lw=1.5, c='black')\n",
    "    \n",
    "    # Add the asterisk annotation above the line\n",
    "    ax.text((x + x_spateo) / 2, y_max + 0.02, symbol, ha='center', va='bottom', color='black', fontsize=18)\n",
    "    \n",
    "    # Update the annotation count for the gene\n",
    "    annotation_count[gene] += 1\n",
    "\n",
    "# For better readability, place the legend outside of the plot\n",
    "plt.legend(bbox_to_anchor=(1.01, 1), loc='upper left', fontsize=28)\n",
    "\n",
    "plt.ylabel(r'Variance explained ($R^2$)', fontsize=24)\n",
    "plt.xlabel('Target gene', fontsize=36)\n",
    "plt.xticks(fontsize=30, rotation=90)\n",
    "plt.yticks(fontsize=28)\n",
    "plt.ylim(0.1, 1.2)\n",
    "\n",
    "plt.show()"
   ]
  },
  {
   "cell_type": "markdown",
   "id": "a829d56b-75f3-414e-9c3e-3e5cf4dcf1d4",
   "metadata": {},
   "source": [
    "## Load FOV 4 of the CosMx lung cancer sample"
   ]
  },
  {
   "cell_type": "code",
   "execution_count": null,
   "id": "c42c9514-286e-49a0-bbad-d941676e8f63",
   "metadata": {},
   "outputs": [],
   "source": [
    "# Replace with wherever this file is stored locally\n",
    "path_to_cosmx = \"/mnt/d/SCData/Spateo_data/CosMx/fov_4.h5ad\"\n",
    "# Replace with wherever the L:R database is stored locally\n",
    "lr_db = pd.read_csv(\"/mnt/c/Users/danie/Desktop/Github/Github/spateo-release-main/spateo/tools/database/lr_db_mouse.csv\", index_col=0)"
   ]
  },
  {
   "cell_type": "code",
   "execution_count": null,
   "id": "8a152d27-e66e-4178-846b-8436ca632d94",
   "metadata": {},
   "outputs": [],
   "source": [
    "lung_fov4 = anndata.read_h5ad(path_to_cosmx)\n",
    "lung_fov4.uns[\"__type\"] = \"UMI\""
   ]
  },
  {
   "cell_type": "markdown",
   "id": "c1ee16f8-19bd-4eec-b996-5b33a76fa735",
   "metadata": {},
   "source": [
    "### Figure S5o- spatially-resolved cell types plot"
   ]
  },
  {
   "cell_type": "code",
   "execution_count": null,
   "id": "d6388395-2929-4188-b3da-897d9e0c6b15",
   "metadata": {},
   "outputs": [],
   "source": [
    "st.pl.geo(\n",
    "    lung_fov4, \n",
    "    color=[\"predicted_celltypes\"], \n",
    "    show_legend='upper left', \n",
    "    save_show_or_return='show', \n",
    "    figsize=(5, 3), \n",
    "    color_key=lung_fov4.uns[\"celltype_colors\"]\n",
    ")"
   ]
  },
  {
   "cell_type": "markdown",
   "id": "e432bfb3-058a-41c2-a855-0a9d41a60ef4",
   "metadata": {},
   "source": [
    "### Benchmark w/ the COMMOT CCI array"
   ]
  },
  {
   "cell_type": "code",
   "execution_count": null,
   "id": "71ef3855-b77d-4f87-b2e7-627327c64228",
   "metadata": {},
   "outputs": [],
   "source": [
    "lb = 120.0\n",
    "ub = 336.1"
   ]
  },
  {
   "cell_type": "markdown",
   "id": "289dc22d-f01b-49ce-bb83-d9ca5efa5235",
   "metadata": {},
   "source": [
    "#### Run Spateo CCI model (can skip if predictions .csv file was created locally or downloaded from the folder)"
   ]
  },
  {
   "cell_type": "code",
   "execution_count": null,
   "id": "b9a7e858-6727-470e-a9f3-ff4b7ac7b3f5",
   "metadata": {},
   "outputs": [],
   "source": [
    "# Set to the folders that the inputs (ligands list, receptors list, targets list) are contained in and that the outputs (model results) will save to:\n",
    "cci_input_directory = \"/mnt/d/SCAnalysis/Spateo_CosMx_benchmark/CCI_inputs\"\n",
    "cci_output_directory = \"/mnt/d/SCAnalysis/Spateo_CosMx_benchmark/CCI_outputs\"\n",
    "cci_output_id = os.path.join(cci_output_directory, \"lung_fov4_target_genes.csv\")\n",
    "cci_ligands_file = os.path.join(cci_input_directory, \"ligands.txt\")\n",
    "cci_receptors_file = os.path.join(cci_input_directory, \"receptors.txt\")\n",
    "cci_targets_file = os.path.join(cci_input_directory, \"targets.txt\")"
   ]
  },
  {
   "cell_type": "code",
   "execution_count": null,
   "id": "18c8e7b8-78fd-4fcf-81ea-441febf662d2",
   "metadata": {},
   "outputs": [],
   "source": [
    "# For clarity, this is how the distance bounds are determined\n",
    "lb = st.tl.find_neighbors.find_bw_for_n_neighbors(\n",
    "    lung_fov4,\n",
    "    coords_key=\"spatial\",\n",
    "    target_n_neighbors=9,\n",
    "    initial_bw=100,\n",
    "    exclude_self=True\n",
    ")"
   ]
  },
  {
   "cell_type": "code",
   "execution_count": null,
   "id": "14b8bdda-e0bd-4b85-8ddb-4a8348f6fce8",
   "metadata": {},
   "outputs": [],
   "source": [
    "ub = st.tl.find_neighbors.find_bw_for_n_neighbors(\n",
    "    lung_fov4,\n",
    "    coords_key=\"spatial\",\n",
    "    target_n_neighbors=70,\n",
    "    initial_bw=100,\n",
    "    exclude_self=True\n",
    ")"
   ]
  },
  {
   "cell_type": "code",
   "execution_count": null,
   "id": "d67ef04b-7ce6-4d5e-a23e-c13cb39ff3ba",
   "metadata": {},
   "outputs": [],
   "source": [
    "# Define inputs:\n",
    "adata_path = path_to_cosmx\n",
    "output_path = cci_output_directory\n",
    "# Use the ligand/receptor paths from the model fitting:\n",
    "ligand_path = cci_ligands_file\n",
    "receptor_path = cci_receptors_file\n",
    "target_path = cci_targets_file\n",
    "cci_dir_path = database_dir\n",
    "mod_type = \"lr\"\n",
    "species = \"human\"\n",
    "distr = \"poisson\"\n",
    "\n",
    "# Key storing cell type information\n",
    "group_key = \"predicted_celltypes\"\n",
    "\n",
    "# Key storing your spatial coordinates\n",
    "coords_key = \"spatial\"\n",
    "distance_membrane_bound = lb\n",
    "distance_secreted = ub\n",
    "minbw = lb * 1.5\n",
    "maxbw = ub\n",
    "\n",
    "if not os.path.exists(os.path.dirname(output_path)):\n",
    "    os.makedirs(os.path.dirname(output_path))"
   ]
  },
  {
   "cell_type": "code",
   "execution_count": null,
   "id": "3aea38ed-6f78-4e21-a847-54578cda830c",
   "metadata": {},
   "outputs": [],
   "source": [
    "parser, args_list = st.tl.define_spateo_argparse(\n",
    "    adata_path=adata_path,\n",
    "    custom_lig_path=ligand_path,\n",
    "    custom_rec_path=receptor_path,\n",
    "    targets_path=target_path,\n",
    "    cci_dir=cci_dir_path,\n",
    "    mod_type=mod_type,\n",
    "    distr=distr,\n",
    "    species=species,\n",
    "    group_key=group_key,\n",
    "    coords_key=coords_key,\n",
    "    distance_membrane_bound=distance_membrane_bound,\n",
    "    distance_secreted=distance_secreted,\n",
    "    minbw=minbw,\n",
    "    maxbw=maxbw,\n",
    "    output_path=output_path,\n",
    ")"
   ]
  },
  {
   "cell_type": "code",
   "execution_count": null,
   "id": "10bcfc16-cecc-46f3-8a22-f0d0b037341e",
   "metadata": {},
   "outputs": [],
   "source": [
    "import time\n",
    "\n",
    "t1 = time.time()\n",
    "\n",
    "swr_model = st.tl.MuSIC(parser, args_list)\n",
    "swr_model._set_up_model()\n",
    "swr_model.fit()\n",
    "swr_model.predict_and_save()\n",
    "\n",
    "t_last = time.time()\n",
    "\n",
    "print(\"Total Time Elapsed:\", np.round(t_last - t1, 2), \"seconds\")\n",
    "print(\"-\" * 60)"
   ]
  },
  {
   "cell_type": "code",
   "execution_count": null,
   "id": "47062ff1-d70f-44c3-a5dc-d36e7b8eefed",
   "metadata": {},
   "outputs": [],
   "source": [
    "# Note that the predictions.csv file is also provided in the Dropbox"
   ]
  },
  {
   "cell_type": "markdown",
   "id": "3df9f6ca-701d-4375-bae2-2c9f9a785c61",
   "metadata": {},
   "source": [
    "#### Run COMMOT for the comparison (can skip if the AnnData object was already created locally or downloaded from the folder)"
   ]
  },
  {
   "cell_type": "code",
   "execution_count": null,
   "id": "5949cfdc-acd9-42d9-a7fb-958e94568d90",
   "metadata": {},
   "outputs": [],
   "source": [
    "np.random.seed(42)"
   ]
  },
  {
   "cell_type": "code",
   "execution_count": null,
   "id": "fd41fce1-4d33-4d0a-ad17-858a68db7f8b",
   "metadata": {},
   "outputs": [],
   "source": [
    "# Processing for secreted signaling (will add fields to the AnnData object)\n",
    "df_cellchat = ct.pp.ligand_receptor_database(species='human', signaling_type='Secreted Signaling', database='CellChat')\n",
    "df_cellchat_filtered = ct.pp.filter_lr_database(df_cellchat, lung_fov4, min_cell_pct=0.05)\n",
    "\n",
    "ct.tl.spatial_communication(\n",
    "    lung_fov4,\n",
    "    database_name='cellchat', \n",
    "    df_ligrec=df_cellchat_filtered, \n",
    "    dis_thr=ub, \n",
    "    heteromeric=True, \n",
    "    pathway_sum=True\n",
    ")"
   ]
  },
  {
   "cell_type": "code",
   "execution_count": null,
   "id": "b274d416-8f9c-4357-95ac-20f567bb4893",
   "metadata": {},
   "outputs": [],
   "source": [
    "# Processing for ECM signaling\n",
    "df_cellchat = ct.pp.ligand_receptor_database(species='human', signaling_type='ECM-Receptor', database='CellChat')\n",
    "df_cellchat_filtered = ct.pp.filter_lr_database(df_cellchat, lung_fov4, min_cell_pct=0.05)\n",
    "\n",
    "# Both models operate w/ the assumption that ECM components diffuse about as far as other extracellular factors\n",
    "ct.tl.spatial_communication(\n",
    "    lung_fov4,\n",
    "    database_name='cellchat', \n",
    "    df_ligrec=df_cellchat_filtered, \n",
    "    dis_thr=ub, \n",
    "    heteromeric=True, \n",
    "    pathway_sum=True\n",
    ")"
   ]
  },
  {
   "cell_type": "code",
   "execution_count": null,
   "id": "bfc50513-756c-4cdc-ac6f-cb683af82c6b",
   "metadata": {},
   "outputs": [],
   "source": [
    "# Processing for membrane-bound signaling\n",
    "df_cellchat = ct.pp.ligand_receptor_database(species='human', signaling_type='Cell-Cell Contact', database='CellChat')\n",
    "df_cellchat_filtered = ct.pp.filter_lr_database(df_cellchat, lung_fov4, min_cell_pct=0.05)\n",
    "\n",
    "ct.tl.spatial_communication(\n",
    "    lung_fov4,\n",
    "    database_name='cellchat', \n",
    "    df_ligrec=df_cellchat_filtered, \n",
    "    dis_thr=lb, \n",
    "    heteromeric=True, \n",
    "    pathway_sum=True\n",
    ")"
   ]
  },
  {
   "cell_type": "code",
   "execution_count": null,
   "id": "f27199ea-5dec-4756-9f8a-0aecde69b4dd",
   "metadata": {},
   "outputs": [],
   "source": [
    "# Save AnnData object with COMMOT info- this will also be uploaded to the Dropbox\n",
    "path_to_cosmx_commot = \"/mnt/d/SCData/Spateo_data/CosMx/fov_4_COMMOT.h5ad\"\n",
    "lung_fov4.write_h5ad(path_to_cosmx_commot)"
   ]
  },
  {
   "cell_type": "code",
   "execution_count": null,
   "id": "563178db-f277-48aa-bb96-997d26472479",
   "metadata": {},
   "outputs": [],
   "source": [
    "# Compute signal received for each cell predicted by COMMOT:\n",
    "commot_signal_received = pd.DataFrame(0, columns=lung_fov4.obsp.keys(), index=lung_fov4.obs_names)\n",
    "for key in lung_fov4.obsp.keys():\n",
    "    sig_array = lung_fov4.obsp[key]\n",
    "    test = np.array(sig_array.sum(axis=0)).reshape(-1)\n",
    "    commot_signal_received.loc[:, key] = test"
   ]
  },
  {
   "cell_type": "code",
   "execution_count": null,
   "id": "9f05d5ac-a0d4-4721-b52f-30f197a9d47e",
   "metadata": {},
   "outputs": [],
   "source": [
    "save_path = \"/mnt/d/SCData/Spateo_data/CosMx/fov_4_COMMOT_signal_received.csv\"\n",
    "commot_signal_received.to_csv(save_path)"
   ]
  },
  {
   "cell_type": "markdown",
   "id": "6fb52eff-e195-4142-8618-4f01503bfac1",
   "metadata": {},
   "source": [
    "### Figure S5p- comparison of COMMOT signal to Spateo signal"
   ]
  },
  {
   "cell_type": "code",
   "execution_count": null,
   "id": "dcae82a4-ad19-4e80-bb4c-2c7463865aae",
   "metadata": {},
   "outputs": [],
   "source": [
    "path_to_commot_signal_received = \"/mnt/d/SCData/Spateo_data/CosMx/fov_4_COMMOT_signal_received.csv\"\n",
    "commot_signal_received = pd.read_csv(path_to_commot_signal_received, index_col=0)\n",
    "lung_fov4_spateo = anndata.read_h5ad(path_to_cosmx)"
   ]
  },
  {
   "cell_type": "code",
   "execution_count": null,
   "id": "faa2f837-7175-4d69-8362-50ca94f5c3d5",
   "metadata": {},
   "outputs": [],
   "source": [
    "# Path to Spateo model design matrix\n",
    "spateo_dm_path = \"/mnt/d/SCData/Spateo_data/CosMx/design_matrix_full.csv\"\n",
    "spateo_dm = pd.read_csv(spateo_dm_path, index_col=0)"
   ]
  },
  {
   "cell_type": "code",
   "execution_count": null,
   "id": "42bf065e-4892-43ae-8c1f-fe3aaa002fb8",
   "metadata": {},
   "outputs": [],
   "source": [
    "# We define the presence or absence of a received signal in each cell using the Jaccard index, applied to both the Spateo signal array and the COMMOT signal array\n",
    "def jaccard(x, y):\n",
    "    \"\"\"Compute the Jaccard index between two binary vectors.\"\"\"\n",
    "    from scipy.spatial.distance import cdist\n",
    "    \n",
    "    # Ensure the input vectors are boolean\n",
    "    x = x.astype(bool)\n",
    "    y = y.astype(bool)\n",
    "    \n",
    "    # Compute the Jaccard distance using cdist function\n",
    "    jaccard_distance = cdist(x.values.reshape(1, -1), y.values.reshape(1, -1), metric='jaccard')\n",
    "    \n",
    "    # Convert Jaccard distance to Jaccard index\n",
    "    jaccard_index = 1 - jaccard_distance[0][0]\n",
    "    \n",
    "    return jaccard_index"
   ]
  },
  {
   "cell_type": "code",
   "execution_count": null,
   "id": "763c1a9a-1e16-49fb-a2c2-9fc8ab6818d4",
   "metadata": {},
   "outputs": [],
   "source": [
    "# This is to match the interactions between the Spateo array and the COMMOT array\n",
    "def match_columns(commot_columns, design_columns):\n",
    "    matched_columns = {}\n",
    "    for col in commot_columns:\n",
    "        # Only consider columns with three dashes\n",
    "        if col.count(\"-\") != 3:\n",
    "            continue\n",
    "\n",
    "        # Extracting the left and right parts of the commot column\n",
    "        _, _, prefix, suffix = col.split(\"-\")\n",
    "        expected_col_name = f\"{prefix}:{suffix}\"\n",
    "        \n",
    "        # Checking if the expected column name exists in the design columns\n",
    "        if expected_col_name in design_columns:\n",
    "            matched_columns[col] = expected_col_name\n",
    "    return matched_columns\n",
    "\n",
    "def compute_jaccard(matched_columns, commot_df, design_df):\n",
    "    output = []\n",
    "    for commot_col, design_col in matched_columns.items():\n",
    "        commot_data = commot_df[commot_col]\n",
    "        design_data = design_df[design_col]\n",
    "        \n",
    "        # Computing the Jaccard index\n",
    "        jaccard_index = jaccard(commot_data > 0, design_data > 0)\n",
    "        output.append((commot_col, design_col, jaccard_index))\n",
    "    \n",
    "    return output"
   ]
  },
  {
   "cell_type": "code",
   "execution_count": null,
   "id": "0a6cbade-304d-4c76-be36-02306ed01918",
   "metadata": {},
   "outputs": [],
   "source": [
    "matched_columns = match_columns(\n",
    "    commot_signal_received.columns,\n",
    "    spateo_dm.columns\n",
    ")"
   ]
  },
  {
   "cell_type": "code",
   "execution_count": null,
   "id": "d1cbdcb8-9477-40c9-af19-3a2e77ccf141",
   "metadata": {},
   "outputs": [],
   "source": [
    "jaccard_indices = compute_jaccard(\n",
    "    matched_columns,\n",
    "    commot_signal_received,\n",
    "    spateo_dm\n",
    ")"
   ]
  },
  {
   "cell_type": "code",
   "execution_count": null,
   "id": "ce92c10f-cc8d-4390-9a02-74cc0755aab6",
   "metadata": {},
   "outputs": [],
   "source": [
    "jaccard_df = pd.DataFrame(\n",
    "    jaccard_indices,\n",
    "    columns=['Commot Column', 'Design Column', 'Jaccard Index']\n",
    ")\n",
    "jaccard_df"
   ]
  },
  {
   "cell_type": "code",
   "execution_count": null,
   "id": "afb29036-fe9d-4c6c-8380-5e657856ff1b",
   "metadata": {},
   "outputs": [],
   "source": [
    "# Number of \"active signals\" for each cell:\n",
    "commot_features = jaccard_df[\"Commot Column\"]\n",
    "spateo_features = jaccard_df[\"Design Column\"]\n",
    "\n",
    "commot_sub = commot_signal_received[commot_features]\n",
    "spateo_dm_sub = spateo_dm[spateo_features]"
   ]
  },
  {
   "cell_type": "code",
   "execution_count": null,
   "id": "a88abba1-f564-4cd8-8e27-ad561fce6ece",
   "metadata": {},
   "outputs": [],
   "source": [
    "# Number of \"active signals\" for each cell:\n",
    "commot_sub_nz = commot_sub.applymap(lambda x: 1 if x != 0 else 0)\n",
    "spateo_dm_sub_nz = spateo_dm_sub.applymap(lambda x: 1 if x != 0 else 0)\n",
    "\n",
    "active_signals_commot = commot_sub_nz.sum(axis=1)\n",
    "active_signals_spateo = spateo_dm_sub_nz.sum(axis=1)"
   ]
  },
  {
   "cell_type": "code",
   "execution_count": null,
   "id": "b525df01-1116-44cd-bd07-14aa07b26615",
   "metadata": {},
   "outputs": [],
   "source": [
    "from scipy.stats import pearsonr, spearmanr\n",
    "rp_nonzero, _ = pearsonr(active_signals_commot, active_signals_spateo)\n",
    "r_nonzero, _ = spearmanr(active_signals_commot, active_signals_spateo)\n",
    "\n",
    "# Plot the scatter plot for nonzero y values\n",
    "plt.scatter(active_signals_commot, active_signals_spateo, s=50, facecolors='darkorange', edgecolors='black', linewidths=0.75)\n",
    "\n",
    "# Set the title and axis labels\n",
    "plt.xticks(fontsize=14)\n",
    "plt.yticks(fontsize=14)\n",
    "plt.title(f\"Active signals for COMMOT and Spateo\\nSpearman r = {r_nonzero:.3f}, Pearson r = {rp_nonzero:.3f}\", fontsize=16)\n",
    "plt.xlabel(\"Predicted signals per cell- COMMOT\", fontsize=16)\n",
    "plt.ylabel(\"Predicted signals per cell- Spateo\", fontsize=16)\n",
    "\n",
    "# Show the plot\n",
    "plt.show()"
   ]
  },
  {
   "cell_type": "markdown",
   "id": "f06757f3-0126-4d70-9eca-59dc7dd8ca69",
   "metadata": {},
   "source": [
    "### Figure S5q- Spearman comparison"
   ]
  },
  {
   "cell_type": "code",
   "execution_count": null,
   "id": "d588d53e-a29f-433e-bf24-d8b9afb477eb",
   "metadata": {},
   "outputs": [],
   "source": [
    "# Find the local path where target genes were expressed\n",
    "cci_input_directory = \"/mnt/d/SCAnalysis/Spateo_CosMx_benchmark/CCI_inputs\"\n",
    "cci_targets_file = os.path.join(cci_input_directory, \"targets.txt\")"
   ]
  },
  {
   "cell_type": "code",
   "execution_count": null,
   "id": "69acd537-a95a-4e5d-9dd9-2a61af900585",
   "metadata": {},
   "outputs": [],
   "source": [
    "with open(cci_targets_file, \"r\") as file:\n",
    "    lines = file.readlines()\n",
    "\n",
    "targets = [line.strip() for line in lines]\n",
    "targets"
   ]
  },
  {
   "cell_type": "markdown",
   "id": "5bf5470e-7f76-4b11-b8b4-b514444c0c5d",
   "metadata": {},
   "source": [
    "#### Use COMMOT signal to predict gene expression (skip to the next section if the Spearman correlations file was already saved)"
   ]
  },
  {
   "cell_type": "code",
   "execution_count": null,
   "id": "5540b6f7-ccdb-4a2d-b80b-1a649e51c3ac",
   "metadata": {},
   "outputs": [],
   "source": [
    "lung_fov4_spateo = anndata.read_h5ad(path_to_cosmx)"
   ]
  },
  {
   "cell_type": "code",
   "execution_count": null,
   "id": "31a2b6e8-4bfe-4711-bd73-272adb169a75",
   "metadata": {},
   "outputs": [],
   "source": [
    "path_to_commot_signal_received = \"/mnt/d/SCData/Spateo_data/CosMx/fov_4_COMMOT_signal_received.csv\"\n",
    "commot_signal_received = pd.read_csv(path_to_commot_signal_received, index_col=0)"
   ]
  },
  {
   "cell_type": "code",
   "execution_count": null,
   "id": "520d9fda-f6c9-4200-ab24-7b805cd3e9f3",
   "metadata": {},
   "outputs": [],
   "source": [
    "adata_targets = lung_fov4_spateo[:, targets].copy()"
   ]
  },
  {
   "cell_type": "code",
   "execution_count": null,
   "id": "383c22e5-3daf-4360-a898-1d2d421f3b9c",
   "metadata": {},
   "outputs": [],
   "source": [
    "targets_df = pd.DataFrame(adata_targets.X.toarray(), columns=targets, index=adata_targets.obs_names)\n",
    "targets_df"
   ]
  },
  {
   "cell_type": "code",
   "execution_count": null,
   "id": "3605c3ff-f75f-47f9-9620-d45767938950",
   "metadata": {},
   "outputs": [],
   "source": [
    "# Iteratively perform Poisson regression on each column of AnnData object\n",
    "models = {}\n",
    "pearson_correlations_COMMOT = {}\n",
    "spearman_correlations_COMMOT = {}\n",
    "pearson_correlations_nz_subset_COMMOT = {}\n",
    "spearman_correlations_nz_subset_COMMOT = {}\n",
    "predictions = pd.DataFrame(0, columns=targets, index=adata_targets.obs_names)\n",
    "not_modeled = []\n",
    "\n",
    "for col in targets_df.columns:\n",
    "    print(f\"Performing Poisson regression on {col}\")\n",
    "    y = targets_df[col].values\n",
    "    nonzero_names = targets_df[col][targets_df[col] != 0].index.tolist()\n",
    "    y_nz = targets_df.loc[nonzero_names, col].values\n",
    "\n",
    "    X = commot_signal_received\n",
    "    try:\n",
    "        model = sm.GLM(y, X, family=sm.families.Poisson()).fit()\n",
    "        models[col] = model\n",
    "        y_pred = model.predict(X).values\n",
    "        predictions[col] = y_pred\n",
    "        y_pred_nz = predictions.loc[nonzero_names, col].values\n",
    "\n",
    "        rp, _ = stats.pearsonr(y, y_pred)\n",
    "        rs, _ = stats.spearmanr(y, y_pred)\n",
    "        pearson_correlations_COMMOT[col] = rp\n",
    "        spearman_correlations_COMMOT[col] = rs\n",
    "    \n",
    "        print(f\"Pearson correlation coefficient for {col}: {rp}\")\n",
    "        print(f\"Spearman correlation coefficient for {col}: {rs}\")\n",
    "\n",
    "        rp, _ = stats.pearsonr(y_nz, y_pred_nz)\n",
    "        rs, _ = stats.spearmanr(y_nz, y_pred_nz)\n",
    "        pearson_correlations_nz_subset_COMMOT[col] = rp\n",
    "        spearman_correlations_nz_subset_COMMOT[col] = rs\n",
    "\n",
    "        print(f\"Pearson correlation coefficient for nonzero {col}: {rp}\")\n",
    "        print(f\"Spearman correlation coefficient for nonzero {col}: {rs}\")\n",
    "    except:\n",
    "        not_modeled.append(col)"
   ]
  },
  {
   "cell_type": "code",
   "execution_count": null,
   "id": "ef0c34f0-33dc-42b7-ab40-49b09faa31b2",
   "metadata": {},
   "outputs": [],
   "source": [
    "# Save results- for the figure panel, only the Spearman correlation is shown, so save this file\n",
    "save_dir = \"/mnt/d/SCData/Spateo_data/CosMx\"\n",
    "pd.DataFrame.from_dict(spearman_correlations_COMMOT, orient='index', columns=['spearman']).to_csv(os.path.join(save_dir, \"spearman_correlations.csv\"))\n",
    "# Save list of not-modeled genes:\n",
    "with open(os.path.join(save_dir, \"COMMOT_not_modeled.txt\"), \"w\") as file:\n",
    "    for g in not_modeled:\n",
    "        file.write(f\"{g}\\n\")"
   ]
  },
  {
   "cell_type": "code",
   "execution_count": null,
   "id": "a59cfe1a-8a3d-41c7-8ca0-a3d51db48e02",
   "metadata": {},
   "outputs": [],
   "source": [
    "# Also save the models\n",
    "model_dir = \"/mnt/d/SCData/Spateo_data/CosMx/COMMOT_models\"\n",
    "if not os.path.exists(model_dir):\n",
    "    os.makedirs(model_dir)\n",
    "\n",
    "for model_name, model in models.items():\n",
    "    with open(os.path.join(model_dir, f\"{model_name}.pkl\"), \"wb\") as file:\n",
    "        pickle.dump(model, file)"
   ]
  },
  {
   "cell_type": "markdown",
   "id": "eb7e058c-625d-4ec9-9a18-d414720e91d8",
   "metadata": {},
   "source": [
    "#### Plot"
   ]
  },
  {
   "cell_type": "code",
   "execution_count": null,
   "id": "706c5b03-119a-4c3b-810b-5178b44738c6",
   "metadata": {},
   "outputs": [],
   "source": [
    "lung_fov4_spateo = anndata.read_h5ad(path_to_cosmx)\n",
    "adata_targets = lung_fov4_spateo[:, targets].copy()"
   ]
  },
  {
   "cell_type": "code",
   "execution_count": null,
   "id": "45f904ac-058b-499d-9f08-960a2b44a520",
   "metadata": {},
   "outputs": [],
   "source": [
    "targets_df = pd.DataFrame(adata_targets.X.toarray(), columns=targets, index=adata_targets.obs_names)\n",
    "targets_df"
   ]
  },
  {
   "cell_type": "code",
   "execution_count": null,
   "id": "55c6a7a9-b886-4316-ad0f-bf3e2a62429e",
   "metadata": {},
   "outputs": [],
   "source": [
    "# Load Spateo predictions to compute metrics for those as well:\n",
    "cci_output_directory = \"/mnt/d/SCAnalysis/Spateo_CosMx_benchmark/CCI_outputs\"\n",
    "spateo_save_path = os.path.join(cci_output_directory, \"predictions.csv\")\n",
    "spateo_reconst_df = pd.read_csv(spateo_save_path, index_col=0)"
   ]
  },
  {
   "cell_type": "code",
   "execution_count": null,
   "id": "f7c9bbbf-6717-4def-8694-4fb8d10076b7",
   "metadata": {},
   "outputs": [],
   "source": [
    "save_dir = \"/mnt/d/SCData/Spateo_data/CosMx\"\n",
    "commot_correlations_path = os.path.join(save_dir, \"spearman_correlations.csv\")\n",
    "spearman_correlations_COMMOT = pd.read_csv(commot_correlations_path, index_col=0)"
   ]
  },
  {
   "cell_type": "code",
   "execution_count": null,
   "id": "5b28577e-ba07-4167-bbaa-e708b76d5051",
   "metadata": {},
   "outputs": [],
   "source": [
    "# Model fitting may have errored for some of these genes for the COMMOT model:\n",
    "with open(os.path.join(save_dir, \"COMMOT_not_modeled.txt\")) as file:\n",
    "    content = file.read()\n",
    "    # Assuming each item is on a separate line\n",
    "    not_modeled = content.splitlines()\n",
    "\n",
    "not_modeled"
   ]
  },
  {
   "cell_type": "code",
   "execution_count": null,
   "id": "4aec8f0d-9bd6-49ec-9863-6b130c311da7",
   "metadata": {},
   "outputs": [],
   "source": [
    "pearson_correlations_spateo = {}\n",
    "spearman_correlations_spateo = {}\n",
    "pearson_correlations_spateo_nz = {}\n",
    "spearman_correlations_spateo_nz = {}\n",
    "\n",
    "for col in spateo_reconst_df.columns:\n",
    "    # Load this prediction separately:\n",
    "    if col not in not_modeled:\n",
    "        y = targets_df[col].values.reshape(-1)\n",
    "        y_pred = spateo_reconst_df[col].values.reshape(-1)\n",
    "\n",
    "        nonzero_names = targets_df[col][targets_df[col] != 0].index.tolist()\n",
    "        y_nz = targets_df.loc[nonzero_names, col].values\n",
    "        y_pred_nz = spateo_reconst_df.loc[nonzero_names, col].values\n",
    "\n",
    "        rp, _ = stats.pearsonr(y, y_pred)\n",
    "        rs, _ = stats.spearmanr(y, y_pred)\n",
    "        pearson_correlations_spateo[col] = rp\n",
    "        spearman_correlations_spateo[col] = rs\n",
    "    \n",
    "        print(f\"Pearson correlation coefficient for {col}: {rp}\")\n",
    "        print(f\"Spearman correlation coefficient for {col}: {rs}\")\n",
    "\n",
    "        rp, _ = stats.pearsonr(y_nz, y_pred_nz)\n",
    "        rs, _ = stats.spearmanr(y_nz, y_pred_nz)\n",
    "        pearson_correlations_spateo_nz[col] = rp\n",
    "        spearman_correlations_spateo_nz[col] = rs\n",
    "    \n",
    "        print(f\"Pearson correlation coefficient for {col}, nonzero subset: {rp}\")\n",
    "        print(f\"Spearman correlation coefficient for {col}, nonzero subset: {rs}\")"
   ]
  },
  {
   "cell_type": "code",
   "execution_count": null,
   "id": "291ba5b8-4bc1-41dd-bbc0-f14714c6b20a",
   "metadata": {},
   "outputs": [],
   "source": [
    "# Comparative barplot:\n",
    "# Create dataframe\n",
    "spearman_df = pd.DataFrame({'Labels': list(spearman_correlations_COMMOT.index), \n",
    "                            'COMMOT-derived': spearman_correlations_COMMOT.values.reshape(-1), \n",
    "                            'Spateo': list(spearman_correlations_spateo.values())}).melt('Labels', var_name='Model', value_name='Correlation')"
   ]
  },
  {
   "cell_type": "code",
   "execution_count": null,
   "id": "999455f6-83dc-4446-a94e-fc7291c11266",
   "metadata": {},
   "outputs": [],
   "source": [
    "pastel_colors = sns.color_palette(\"pastel\")\n",
    "pastel_colors[0]"
   ]
  },
  {
   "cell_type": "code",
   "execution_count": null,
   "id": "5bc7291c-e8cb-4213-9143-edecec7fb315",
   "metadata": {},
   "outputs": [],
   "source": [
    "fig, ax = plt.subplots(1, 1, figsize=(30, 8))\n",
    "sns.barplot(x='Labels', y='Correlation', hue='Model', data=spearman_df, palette=pastel_colors, edgecolor='black')\n",
    "ax.set_title('Spearman correlations for modeled genes', fontsize=48)\n",
    "ax.set_xlabel('Genes', fontsize=36)\n",
    "ax.set_ylabel(r'Spearman ${r}$', fontsize=36)\n",
    "ax.set_xticklabels(ax.get_xticklabels(), rotation=90, fontsize=32)  # Rotate x-axis labels\n",
    "ax.set_ylim(0, 1)\n",
    "# Get current y-tick labels and convert them to string with desired format\n",
    "y_tick_labels = [f'{label:.2f}' for label in ax.get_yticks()]\n",
    "# Set new y-tick labels\n",
    "ax.set_yticklabels(y_tick_labels, fontsize=32)\n",
    "\n",
    "plt.legend(loc='center left', bbox_to_anchor=(1, 0.5), fontsize=30)\n",
    "\n",
    "plt.tight_layout()\n",
    "plt.show()"
   ]
  },
  {
   "cell_type": "markdown",
   "id": "3af8122f-0d75-4f7e-a46b-d95e37de2d9f",
   "metadata": {},
   "source": [
    "### Figure S5r, s- examples of predicted effects for specific \"signaling families\""
   ]
  },
  {
   "cell_type": "code",
   "execution_count": null,
   "id": "c79c70d6-f314-43d1-8c45-29c8fd97b369",
   "metadata": {},
   "outputs": [],
   "source": [
    "lung_fov4_spateo = anndata.read_h5ad(path_to_cosmx)"
   ]
  },
  {
   "cell_type": "code",
   "execution_count": null,
   "id": "0710a844-9052-4f31-8f25-89f926a38c53",
   "metadata": {},
   "outputs": [],
   "source": [
    "model_dir = \"/mnt/d/SCData/Spateo_data/CosMx/COMMOT_models\""
   ]
  },
  {
   "cell_type": "code",
   "execution_count": null,
   "id": "5b56f5ed-4e25-469d-8883-862380e3e579",
   "metadata": {},
   "outputs": [],
   "source": [
    "target_gene = \"KRT19\""
   ]
  },
  {
   "cell_type": "markdown",
   "id": "20189058-de06-4ef7-9662-c778d6738be1",
   "metadata": {},
   "source": [
    "#### Plots for the COMMOT models"
   ]
  },
  {
   "cell_type": "code",
   "execution_count": null,
   "id": "8ddba8eb-e74f-447c-bc64-5b1019bc3ba7",
   "metadata": {},
   "outputs": [],
   "source": [
    "with open(os.path.join(model_dir, f\"{target_gene}.pkl\"), \"rb\") as file:\n",
    "    model = pickle.load(file)"
   ]
  },
  {
   "cell_type": "code",
   "execution_count": null,
   "id": "81f87a67-c9d7-424b-8bde-ba2cf2b5adce",
   "metadata": {},
   "outputs": [],
   "source": [
    "sm_coeffs_data = model.summary().tables[1].data\n",
    "sm_coeffs_df = pd.DataFrame(sm_coeffs_data[1:], columns=sm_coeffs_data[0])\n",
    "sm_coeffs_df = sm_coeffs_df.set_index(sm_coeffs_df.columns[0])\n",
    "sm_coeffs_df = sm_coeffs_df.astype(float)\n",
    "sm_coeffs_df"
   ]
  },
  {
   "cell_type": "code",
   "execution_count": null,
   "id": "ab36d34c-9426-43c5-97f3-5bd35e8e7ff3",
   "metadata": {},
   "outputs": [],
   "source": [
    "if target_gene == \"DDR1\":\n",
    "    interactions = [\"COL6A3-ITGA3_ITGB1\", \"COL4A2-ITGA2_ITGB1\", \"COL4A2-ITGA3_ITGB1\", \"COL6A1-ITGA2_ITGB1\", \"COL6A1-ITGA3_ITGB1\", \"COL9A2-ITGA3_ITGB1\", \"COL9A2-ITGA2_ITGB1\"]\n",
    "elif target_gene == \"KRT19\":\n",
    "    interactions = [col for col in sm_coeffs_df.index if \"WNT5A\" in col and \"FZD\" in col]\n",
    "\n",
    "matching_columns = [col for col in sm_coeffs_df.index if any(interaction in col for interaction in interactions)]\n",
    "filtered_df = sm_coeffs_df.loc[matching_columns]\n",
    "filtered_df"
   ]
  },
  {
   "cell_type": "code",
   "execution_count": null,
   "id": "c896c673-cc50-4e58-9175-c09b5aea5721",
   "metadata": {},
   "outputs": [],
   "source": [
    "filtered_df.index = [label.replace('commot-cellchat-', '') for label in filtered_df.index]\n",
    "filtered_df = filtered_df.sort_values('coef', ascending=False)\n",
    "filtered_df['Interaction'] = filtered_df.index\n",
    "filtered_df"
   ]
  },
  {
   "cell_type": "code",
   "execution_count": null,
   "id": "b57e1f46-16f5-4d5b-a857-a869ec2c5072",
   "metadata": {},
   "outputs": [],
   "source": [
    "filtered_df['coef'] = pd.to_numeric(filtered_df['coef'], errors='coerce')\n",
    "filtered_df = filtered_df.sort_values('coef', ascending=False)"
   ]
  },
  {
   "cell_type": "code",
   "execution_count": null,
   "id": "71334f38-67a3-46ad-9990-239ccd615928",
   "metadata": {},
   "outputs": [],
   "source": [
    "import matplotlib.colors as mcolors\n",
    "# Use the seismic colormap\n",
    "colormap = plt.get_cmap('seismic')\n",
    "\n",
    "# Determine the colors based on the coefficients\n",
    "norm = mcolors.Normalize(vmin=-1, vmax=1)\n",
    "colors = [colormap(norm(value)) for value in filtered_df['coef']]\n",
    "\n",
    "fig, ax = plt.subplots(figsize=(3.5, 2))\n",
    "sns.barplot(x='Interaction', y='coef', data=filtered_df, ax=ax, palette=colors, edgecolor='black')\n",
    "ax.set_title(f'COMMOT-derived model \\n predicted effects on {target_gene}', fontsize=14)\n",
    "ax.set_xlabel('L:R interactions', fontsize=18)\n",
    "ax.set_ylabel('Effect size', fontsize=18)\n",
    "plt.xticks(rotation=90, fontsize=14)\n",
    "plt.yticks(fontsize=10)\n",
    "plt.show()"
   ]
  },
  {
   "cell_type": "markdown",
   "id": "111cdbb5-2815-4dac-8a0e-b554570335ac",
   "metadata": {},
   "source": [
    "#### Plots for the Spateo models"
   ]
  },
  {
   "cell_type": "code",
   "execution_count": null,
   "id": "832d755e-7316-45da-bfc2-17ffc2921e76",
   "metadata": {},
   "outputs": [],
   "source": [
    "target_cells = np.where(lung_fov4_spateo[:, target_gene].X.toarray() > 0)[0]\n",
    "adata_target = lung_fov4_spateo[target_cells].copy()"
   ]
  },
  {
   "cell_type": "code",
   "execution_count": null,
   "id": "3d176503-2cd4-4701-b669-3d088cc7a3a8",
   "metadata": {},
   "outputs": [],
   "source": [
    "cci_output_directory = \"/mnt/d/SCAnalysis/Spateo_CosMx_benchmark/CCI_outputs\"\n",
    "# If this directory/file do not exist (indicating during model training a different path was specified, change this below):\n",
    "cci_output_id = os.path.join(cci_output_directory, f\"lung_fov4_target_genes_{target_gene}.csv\")\n",
    "target_coeffs = pd.read_csv(cci_output_id, index_col=0)\n",
    "target_coeffs = target_coeffs[[c for c in target_coeffs.columns if \"b_\" in c]]\n",
    "target_coeffs"
   ]
  },
  {
   "cell_type": "code",
   "execution_count": null,
   "id": "ebf67de2-8883-4fc9-a939-5fe6ba9d5fa4",
   "metadata": {},
   "outputs": [],
   "source": [
    "target_coeffs = target_coeffs.iloc[target_cells]\n",
    "target_coeffs"
   ]
  },
  {
   "cell_type": "code",
   "execution_count": null,
   "id": "171a3002-b3d5-4681-9b72-188a04705832",
   "metadata": {},
   "outputs": [],
   "source": [
    "if target_gene == \"DDR1\":\n",
    "    target_coeffs_sub = target_coeffs.loc[:, [col for col in target_coeffs.columns if (\"CD44\" in col or \"_IT\" in col) and \"ICAM\" not in col and \"IGF\" not in col and \"MIF\" not in col and \"CD40\" not in col]]\n",
    "    target_coeffs_sub.columns = [replace_col_with_collagens(c) for c in target_coeffs_sub.columns]\n",
    "    means = target_coeffs_sub.apply(lambda x: x[x > 0].mean())\n",
    "    means = pd.DataFrame(means, columns=[\"coeff\"])\n",
    "    means[\"Interaction\"] = [idx.replace(\"b_\", \"\") for idx in means.index]\n",
    "    means = means.sort_values('coeff', ascending=False)\n",
    "    means = means.iloc[1:20]\n",
    "    print(means)\n",
    "    # Final set to plot:\n",
    "    means = means.loc[[\"b_Collagens/FN1/VTN:ITGAV_ITGB8\", \"b_SPP1/VTN:ITGAV_ITGB5\", \"b_Collagens/FN1/THBS1/THBS2:ITGA3_ITGB1\", \"b_Collagens/SPP1:ITGA9_ITGB1\", \"b_CDH1/Collagens:ITGA2_ITGB1\", \"b_ANGPTL1/Collagens:ITGA1_ITGB1\", \"b_FN1/SPP1/VTN:ITGAV_ITGB1\"]]\n",
    "\n",
    "    import matplotlib.colors as mcolors\n",
    "    # Use the seismic colormap\n",
    "    colormap = plt.get_cmap('seismic')\n",
    "    \n",
    "    # Determine the colors based on the coefficients\n",
    "    norm = mcolors.Normalize(vmin=-means['coeff'].max(), vmax=means['coeff'].max())\n",
    "    colors = [colormap(norm(value)) for value in means['coeff']]\n",
    "    \n",
    "    fig, ax = plt.subplots(figsize=(3.5, 2))\n",
    "    sns.barplot(x='Interaction', y='coeff', data=means, ax=ax, palette=colors, edgecolor='black')\n",
    "    ax.set_title(f'Spateo model predicted \\n effects on {target_gene}- ECM', fontsize=18)\n",
    "    ax.set_xlabel('L:R interactions', fontsize=14)\n",
    "    ax.set_ylabel('Normalized \\n mean effect size', fontsize=14)\n",
    "    plt.xticks(rotation=90, fontsize=14)\n",
    "    plt.yticks(fontsize=10)\n",
    "    plt.show()\n",
    "elif target_gene == \"KRT19\":\n",
    "    target_coeffs_sub = target_coeffs.loc[:, [col for col in target_coeffs.columns if \"WNT5A\" in col and \"FZD\" in col]]\n",
    "    means = target_coeffs_sub.apply(lambda x: x[x > 0].mean())\n",
    "    means = pd.DataFrame(means, columns=[\"coeff\"])\n",
    "    means[\"Interaction\"] = [idx.replace(\"b_\", \"\") for idx in means.index]\n",
    "    means = means.sort_values('coeff', ascending=False)\n",
    "\n",
    "    import matplotlib.colors as mcolors\n",
    "    # Use the seismic colormap\n",
    "    colormap = plt.get_cmap('seismic')\n",
    "    \n",
    "    # Determine the colors based on the coefficients\n",
    "    norm = mcolors.Normalize(vmin=-means['coeff'].max(), vmax=means['coeff'].max())\n",
    "    colors = [colormap(norm(value)) for value in means['coeff']]\n",
    "    \n",
    "    fig, ax = plt.subplots(figsize=(3.5, 2))\n",
    "    sns.barplot(x='Interaction', y='coeff', data=means, ax=ax, palette=colors, edgecolor='black')\n",
    "    ax.set_title(f'Spateo model predicted \\n effects on {target_gene}- WNT', fontsize=18)\n",
    "    ax.set_xlabel('L:R interactions', fontsize=14)\n",
    "    ax.set_ylabel('Normalized \\n mean effect size', fontsize=14)\n",
    "    plt.xticks(rotation=90, fontsize=14)\n",
    "    plt.yticks(fontsize=10)\n",
    "    plt.show()"
   ]
  }
 ],
 "metadata": {
  "kernelspec": {
   "display_name": "ncem_env",
   "language": "python",
   "name": "ncem_env"
  },
  "language_info": {
   "codemirror_mode": {
    "name": "ipython",
    "version": 3
   },
   "file_extension": ".py",
   "mimetype": "text/x-python",
   "name": "python",
   "nbconvert_exporter": "python",
   "pygments_lexer": "ipython3",
   "version": "3.8.15"
  }
 },
 "nbformat": 4,
 "nbformat_minor": 5
}
