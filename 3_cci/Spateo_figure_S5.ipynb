{
 "cells": [
  {
   "cell_type": "markdown",
   "id": "4b32c40b-410a-4f99-87ba-746d681434ff",
   "metadata": {},
   "source": [
    "## Notebook containing code used for manuscript supplementary figure 5"
   ]
  },
  {
   "cell_type": "markdown",
   "id": "eb80ee02-b2a8-4987-96b1-0f7af32bc587",
   "metadata": {},
   "source": [
    "### Note that most paths will need to be changed based on where the files were saved to your local folder"
   ]
  },
  {
   "cell_type": "code",
   "execution_count": null,
   "id": "49f469cf-82be-4f9e-a7e6-3323374e3bd5",
   "metadata": {},
   "outputs": [],
   "source": [
    "import anndata\n",
    "import matplotlib.pyplot as plt\n",
    "import numpy as np\n",
    "import pandas as pd\n",
    "\n",
    "import commot as ct\n",
    "import spateo as st\n",
    "import ncem\n",
    "from ncem.data import get_data_custom, customLoader\n",
    "\n",
    "import os\n",
    "import seaborn as sns\n",
    "import sys\n",
    "from tqdm import tqdm\n",
    "\n",
    "from scipy.spatial import KDTree"
   ]
  },
  {
   "cell_type": "code",
   "execution_count": null,
   "id": "9b055825-08ce-4efc-98fb-df2c4f9ad9cc",
   "metadata": {},
   "outputs": [],
   "source": [
    "np.random.seed(888)"
   ]
  },
  {
   "cell_type": "code",
   "execution_count": null,
   "id": "08c910bf-4724-4518-9c77-eb28440365ed",
   "metadata": {},
   "outputs": [],
   "source": [
    "%config InlineBackend.print_figure_kwargs={'dpi': 300.0}"
   ]
  },
  {
   "cell_type": "code",
   "execution_count": null,
   "id": "015065ae-8bde-42ae-8cf1-fabef2c751aa",
   "metadata": {},
   "outputs": [],
   "source": [
    "# For viewability purposes, process all \"COL\" elements to \"Collagens\": \n",
    "def replace_col_with_collagens(string):\n",
    "    # Split the string at the colon (if any)\n",
    "    parts = string.split(':')\n",
    "    \n",
    "    # Split the first part of the string at slashes\n",
    "    elements = parts[0].split('/')\n",
    "    \n",
    "    # Flag to check if we've encountered a \"COL\" element or a \"Collagens\" element\n",
    "    encountered_col = False\n",
    "    \n",
    "    # Process each element\n",
    "    for i, element in enumerate(elements):\n",
    "        # If the element starts with \"COL\" or \"b_COL\", or if it is \"Collagens\" or \"b_Collagens\"\n",
    "        if element.startswith(\"COL\") or element.startswith(\"b_COL\") or element in [\"Collagens\", \"b_Collagens\"]:\n",
    "            # If we've already encountered a \"COL\" or \"Collagens\" element, remove this one\n",
    "            if encountered_col:\n",
    "                elements[i] = None\n",
    "            # Otherwise, replace it with \"Collagens\" or \"b_Collagens\" as appropriate\n",
    "            else:\n",
    "                if element.startswith(\"b_COL\") or element == \"b_Collagens\":\n",
    "                    elements[i] = \"b_Collagens\"\n",
    "                else:\n",
    "                    elements[i] = \"Collagens\"\n",
    "                encountered_col = True\n",
    "                \n",
    "    # Remove None elements and join the rest with slashes\n",
    "    replaced_part = '/'.join([element for element in elements if element is not None])\n",
    "    \n",
    "    # If there's a second part, add it back\n",
    "    if len(parts) > 1:\n",
    "        replaced_string = replaced_part + ':' + parts[1]\n",
    "    else:\n",
    "        replaced_string = replaced_part\n",
    "        \n",
    "    return replaced_string"
   ]
  },
  {
   "cell_type": "markdown",
   "id": "bf2c26e6-05cb-4335-98bb-39a3a0da8ab3",
   "metadata": {},
   "source": [
    "## Resources used for the CosMx sample can be found: https://www.dropbox.com/scl/fo/z3bvppoq96vg442lma0rs/ACIXLqp-FXjuYQ2ZeAeHFEA?rlkey=84h21aoigdxrpfz9yrbsyepwg&st=55ozincu&dl=0\n",
    "## Resources used for the MERFISH sample can be found: https://www.dropbox.com/scl/fo/s7mjpdgbk4f2mj1rndooo/AAkL3b4W3JazjGDn3pSKKrk?rlkey=3acd5da9bcl743x0byrrm8jxp&st=9g9b9o47&dl=0 \n",
    "## Database files used here can be found: https://www.dropbox.com/scl/fo/dcd95so9zhkb8lnjkkxep/ANwmkFeb-sgtS89leHQezlU?rlkey=saiul4j5rr1vt6lwjl4hirmwh&st=brpjqw2c&dl=0\n",
    "\n",
    "### Make sure to change each file path to the relevant local folder"
   ]
  },
  {
   "cell_type": "code",
   "execution_count": null,
   "id": "2ae71def-1325-4903-bf7c-b78fa1898e18",
   "metadata": {},
   "outputs": [],
   "source": [
    "# Set the Spateo database directory here:\n",
    "database_dir = \"/mnt/d/SCData/CCI_database\""
   ]
  },
  {
   "cell_type": "markdown",
   "id": "ff3839c1-7526-4ef8-9ef6-d08c49d32041",
   "metadata": {},
   "source": [
    "## Load MERFISH brain sample FOVs"
   ]
  },
  {
   "cell_type": "code",
   "execution_count": null,
   "id": "2318739b-b176-41ec-902e-1efe044ad08d",
   "metadata": {},
   "outputs": [],
   "source": [
    "# Two FOVs are included- use this to change which is selected (options are 153 or 162)\n",
    "fov_number = 153"
   ]
  },
  {
   "cell_type": "code",
   "execution_count": null,
   "id": "d18ce38b-2d61-4c5d-9ada-ba46acd07c59",
   "metadata": {},
   "outputs": [],
   "source": [
    "# Replace with wherever this file is stored locally\n",
    "path_to_cosmx = f\"/mnt/d/SCData/Spateo_data/MERFISH_mouse_cortex/MERFISH_mouse_brain_mouse1_fov{fov_number}.h5ad\"\n",
    "# Replace with wherever the L:R database is stored locally\n",
    "lr_db = pd.read_csv(\"/mnt/c/Users/danie/Desktop/Github/Github/spateo-release-main/spateo/tools/database/lr_db_mouse.csv\", index_col=0)"
   ]
  },
  {
   "cell_type": "code",
   "execution_count": null,
   "id": "c1e7d12c-e7e8-4c01-9a52-dfeb1d981c3a",
   "metadata": {},
   "outputs": [],
   "source": [
    "merfish_fov = anndata.read_h5ad(path_to_cosmx)\n",
    "merfish_fov.uns[\"__type\"] = \"UMI\""
   ]
  },
  {
   "cell_type": "markdown",
   "id": "9b799ba2-bd0b-4f6c-b017-1cb0b6c1bb23",
   "metadata": {},
   "source": [
    "### Figure S5l- spatially-resolved cell types plot"
   ]
  },
  {
   "cell_type": "code",
   "execution_count": null,
   "id": "e53ed709-e976-4f7b-93c5-e3b3853ec7c6",
   "metadata": {},
   "outputs": [],
   "source": [
    "spatial_coords = merfish_fov.obsm['spatial']\n",
    "x_coords = spatial_coords[:, 0]\n",
    "y_coords = spatial_coords[:, 1]\n",
    "cell_types = merfish_fov.obs['general_cell_type']"
   ]
  },
  {
   "cell_type": "code",
   "execution_count": null,
   "id": "ecb54ca1-6d00-4b08-9f91-59d4a63d1631",
   "metadata": {},
   "outputs": [],
   "source": [
    "unique_cell_types = np.unique(cell_types)\n",
    "color_map = {\n",
    "    'Astro': '#d70000',\n",
    "    'Endo': '#00fdcf',\n",
    "    'L23_IT': '#eeb9b9',\n",
    "    'L45_IT': '#00af8a',\n",
    "    'L56_NP': '#d38c8f',\n",
    "    'L5_ET': '#c59f72',\n",
    "    'L5_IT': '#00d6d5',\n",
    "    'L6_CT': '#a9001f',\n",
    "    'L6_IT': '#bfd57c',\n",
    "    'L45_IT_SSp': '#f46200',\n",
    "    'L6b': '#d2b75b',\n",
    "    'Lamp5': '#ad94ec',\n",
    "    'Micro': '#213400',\n",
    "    'OPC': '#fb7cff',\n",
    "    'Oligo': '#91a2ea',\n",
    "    'PVM': '#ad3b30',\n",
    "    'Peri': '#734abc',\n",
    "    'Pvalb': '#602541',\n",
    "    'SMC': '#e2b392',\n",
    "    'Sncg': '#bc94d2',\n",
    "    'Sst': '#1726ff',\n",
    "    'VLMC': '#8a1323',\n",
    "    'Vip': '#2f3ea8',\n",
    "    'striatum': '#ffa500'\n",
    "}"
   ]
  },
  {
   "cell_type": "code",
   "execution_count": null,
   "id": "7015fe99-5701-464f-8432-30607f2b3158",
   "metadata": {},
   "outputs": [],
   "source": [
    "# Scatter plot\n",
    "plt.rcParams['xtick.labelsize'] = 16\n",
    "plt.rcParams['ytick.labelsize'] = 16\n",
    "\n",
    "fig, axes = plt.subplots(1, 1, figsize=(6, 5))\n",
    "fig.suptitle(f'MERFISH mouse brain- FOV {fov_number}', fontsize=20)\n",
    "    \n",
    "for cell_type in unique_cell_types:\n",
    "    idx = cell_types == cell_type\n",
    "    axes.scatter(x_coords[idx], y_coords[idx], color=color_map[cell_type], label=cell_type, s=5)\n",
    "\n",
    "axes.set_ylim(axes.get_ylim())  # Sync y-limits with the scatter plot\n",
    "# Remove plot borders\n",
    "for spine in axes.spines.values():\n",
    "    spine.set_visible(False)\n",
    "\n",
    "# Remove tick marks and labels\n",
    "axes.tick_params(left=False, bottom=False, labelleft=False, labelbottom=False)\n",
    "axes.legend(title='Cell Type', bbox_to_anchor=(1.15, 1), loc='upper left', title_fontsize='12', fontsize='10')\n",
    "\n",
    "plt.tight_layout(rect=[0, 0, 0.95, 1])  # Adjust the layout to fit everything nicely\n",
    "plt.show()"
   ]
  },
  {
   "cell_type": "code",
   "execution_count": null,
   "id": "16e23864-c3b8-4c31-a3cf-5894c7390b66",
   "metadata": {},
   "outputs": [],
   "source": [
    "# Set to the folders that the inputs (only the targets list for this data) are contained in and that the outputs (model results) will save to:\n",
    "cci_input_directory = \"/mnt/d/SCAnalysis/Spateo_MERFISH_benchmark/CCI_inputs\"\n",
    "cci_output_directory = \"/mnt/d/SCAnalysis/Spateo_MERFISH_benchmark/CCI_outputs\"\n",
    "cci_output_id = os.path.join(cci_output_directory, f\"fov_{fov_number}_target_genes.csv\")\n",
    "cci_targets_file = os.path.join(cci_input_directory, f\"target_genes_slice{fov_number}.txt\")"
   ]
  },
  {
   "cell_type": "markdown",
   "id": "e933bf50-d691-49e6-ad1c-35d66bc139eb",
   "metadata": {},
   "source": [
    "#### Initialize CCI model (can skip if predictions .csv file was created locally or downloaded from the folder)"
   ]
  },
  {
   "cell_type": "code",
   "execution_count": null,
   "id": "4cb8ac37-592f-4636-9734-0412d39035d9",
   "metadata": {},
   "outputs": [],
   "source": [
    "if fov_number == 153:\n",
    "    lb = 50.0\n",
    "    ub = 139.6\n",
    "else:\n",
    "    lb = 48.9\n",
    "    ub = 136.4"
   ]
  },
  {
   "cell_type": "code",
   "execution_count": null,
   "id": "6263f07b-acb9-44f2-a330-814d07c3708d",
   "metadata": {},
   "outputs": [],
   "source": [
    "# For clarity, this is how the distance bounds are determined\n",
    "lb = st.tl.find_neighbors.find_bw_for_n_neighbors(\n",
    "    merfish_fov,\n",
    "    coords_key=\"spatial\",\n",
    "    n_anchors=2000,\n",
    "    target_n_neighbors=9,\n",
    "    initial_bw=200,\n",
    "    exclude_self=True\n",
    ")"
   ]
  },
  {
   "cell_type": "code",
   "execution_count": null,
   "id": "da5bd3ef-181f-41cc-b5ff-0f8c7fcbcf78",
   "metadata": {},
   "outputs": [],
   "source": [
    "ub = st.tl.find_neighbors.find_bw_for_n_neighbors(\n",
    "    merfish_fov,\n",
    "    coords_key=\"spatial\",\n",
    "    n_anchors=2000,\n",
    "    target_n_neighbors=70,\n",
    "    initial_bw=200,\n",
    "    exclude_self=True\n",
    ")"
   ]
  },
  {
   "cell_type": "code",
   "execution_count": null,
   "id": "dd4d8a71-f5a3-460f-a3ac-ad8178d3441b",
   "metadata": {},
   "outputs": [],
   "source": [
    "adata_path = path_to_cosmx\n",
    "#output_path = \"/mnt/d/SCData/Russell_et_al_Slidetags/CCI_modeling_outputs/human_melanoma_multiome_test.csv\"\n",
    "output_path = cci_output_id\n",
    "target_path = cci_targets_file\n",
    "cci_dir_path = database_dir\n",
    "mod_type = \"niche\"\n",
    "distr = \"poisson\"\n",
    "species = \"mouse\"\n",
    "group_key = \"general_cell_type\"\n",
    "coords_key = \"spatial\"\n",
    "distance_membrane_bound = lb\n",
    "distance_secreted = ub\n",
    "minbw = lb\n",
    "maxbw = ub * 1.5\n",
    "\n",
    "if not os.path.exists(os.path.dirname(output_path)):\n",
    "    os.makedirs(os.path.dirname(output_path))"
   ]
  },
  {
   "cell_type": "code",
   "execution_count": null,
   "id": "f86f0632-1178-445b-ba73-db0b140d35bb",
   "metadata": {},
   "outputs": [],
   "source": [
    "parser, args_list = st.tl.define_spateo_argparse(\n",
    "    adata_path=adata_path,\n",
    "    targets_path=target_path,\n",
    "    cci_dir=cci_dir_path,\n",
    "    mod_type=mod_type,\n",
    "    distr=distr,\n",
    "    species=species,\n",
    "    group_key=group_key,\n",
    "    coords_key=coords_key,\n",
    "    distance_membrane_bound=distance_membrane_bound,\n",
    "    distance_secreted=distance_secreted,\n",
    "    minbw=minbw,\n",
    "    maxbw=maxbw,\n",
    "    output_path=output_path,\n",
    ")"
   ]
  },
  {
   "cell_type": "code",
   "execution_count": null,
   "id": "abbb1fed-fc83-4f75-8622-71b414c22ac9",
   "metadata": {},
   "outputs": [],
   "source": [
    "import time\n",
    "\n",
    "t1 = time.time()\n",
    "\n",
    "swr_model = st.tl.MuSIC(parser, args_list)\n",
    "swr_model._set_up_model()\n",
    "swr_model.fit()\n",
    "swr_model.predict_and_save()\n",
    "\n",
    "t_last = time.time()\n",
    "\n",
    "print(\"Total Time Elapsed:\", np.round(t_last - t1, 2), \"seconds\")\n",
    "print(\"-\" * 60)"
   ]
  },
  {
   "cell_type": "code",
   "execution_count": null,
   "id": "99e89eb2-13f8-49c6-b060-d30e0d4cd556",
   "metadata": {},
   "outputs": [],
   "source": [
    "# Note that the predictions.csv file is also provided in the Dropbox"
   ]
  },
  {
   "cell_type": "markdown",
   "id": "84c642f9-e828-4ddf-8c14-8aa14d48d061",
   "metadata": {},
   "source": [
    "#### Run NCEM model for the comparison (can also skip to the next section- the predictions file is included in the Dropbox folder)"
   ]
  },
  {
   "cell_type": "code",
   "execution_count": null,
   "id": "f1f8d606-1313-41ef-a532-656f5f5b0970",
   "metadata": {},
   "outputs": [],
   "source": [
    "# These are the contents of the \"target_genes\" txt files, spelled out in the form of a list\n",
    "if sample_id == 153:\n",
    "    target_genes = [\"Flt1\", \"Aqp4\", \"Parm1\", \"Rorb\", \"Syt6\", \"Calb1\", \"Prdm8\", \"Rspo1\", \"Lypd1\", \"Adamts4\", \"Vtn\", \"Lamp5\"]\n",
    "else:\n",
    "    target_genes = [\"Flt1\", \"Aqp4\", \"Parm1\", \"Rorb\", \"Syt6\", \"Calb1\", \"Prdm8\", \"Rspo1\", \"Ptpru\", \"Adamts4\", \"Vtn\", \"Lamp5\"]"
   ]
  },
  {
   "cell_type": "code",
   "execution_count": null,
   "id": "c3ffbd1b-edb7-4bd6-89cf-9c11865dee34",
   "metadata": {},
   "outputs": [],
   "source": [
    "# 6779 is prime, need to randomly drop 1 cell for NCEM- this is saved as a separate file in the MERFISH dropbox\n",
    "# Replace the file path with wherever this file is stored locally\n",
    "mouse_brain_ncem = anndata.read_h5ad(f\"/mnt/d/SCData/Spateo_data/MERFISH_mouse_cortex/MERFISH_mouse_brain_mouse1_fov{fov_number}_NCEM_processed.h5ad\")"
   ]
  },
  {
   "cell_type": "code",
   "execution_count": null,
   "id": "9e804fa8-7a89-4a7d-8da4-bfee3e595cb1",
   "metadata": {},
   "outputs": [],
   "source": [
    "# Requirement for initializing interpreter\n",
    "mouse_brain_ncem.uns[\"spatial\"] = \"Hello, world\""
   ]
  },
  {
   "cell_type": "code",
   "execution_count": null,
   "id": "22e07257-0809-4fc5-941c-3699973203cd",
   "metadata": {},
   "outputs": [],
   "source": [
    "# Use the upper distance bound as the distance parameter for NCEM\n",
    "dist = ub"
   ]
  },
  {
   "cell_type": "code",
   "execution_count": null,
   "id": "cdea210d-b6d9-44d1-bf0d-ba3b0426c340",
   "metadata": {},
   "outputs": [],
   "source": [
    "interpreter = ncem.interpretation.interpreter.InterpreterInteraction()"
   ]
  },
  {
   "cell_type": "code",
   "execution_count": null,
   "id": "dd5197d7-0c31-4e76-acaa-7fe37ee841b1",
   "metadata": {},
   "outputs": [],
   "source": [
    "interpreter.data = customLoader(\n",
    "    adata=mouse_brain_ncem, cluster='general_cell_type', patient='Batch', library_id='Batch', radius=dist,\n",
    ")\n",
    "get_data_custom(interpreter=interpreter)"
   ]
  },
  {
   "cell_type": "code",
   "execution_count": null,
   "id": "b6c3e144-b836-44ab-aa40-a3d55450957a",
   "metadata": {},
   "outputs": [],
   "source": [
    "interpreter.n_eval_nodes_per_graph = 2"
   ]
  },
  {
   "cell_type": "code",
   "execution_count": null,
   "id": "df03ba26-1e75-4d50-8a39-32b6e70cb35a",
   "metadata": {},
   "outputs": [],
   "source": [
    "interpreter.get_sender_receiver_effects()"
   ]
  },
  {
   "cell_type": "code",
   "execution_count": null,
   "id": "35bd0b69-8d5e-47d9-bdaf-e18e9d2645df",
   "metadata": {},
   "outputs": [],
   "source": [
    "# Backsolve to get the design matrix:\n",
    "img_keys = interpreter.img_keys_all\n",
    "nodes_idx = interpreter.nodes_idx_all"
   ]
  },
  {
   "cell_type": "code",
   "execution_count": null,
   "id": "16029778-d366-45ab-948a-b368c845880a",
   "metadata": {},
   "outputs": [],
   "source": [
    "(target, interactions, _, _, _), y = interpreter._get_np_data(image_keys=img_keys, nodes_idx=nodes_idx)\n",
    "x_design = np.concatenate([target, interactions], axis=1)\n",
    "x_design"
   ]
  },
  {
   "cell_type": "code",
   "execution_count": null,
   "id": "e75cfe31-e171-4290-ba3c-cf3e8b804a50",
   "metadata": {},
   "outputs": [],
   "source": [
    "def ols_fit(x_, y_):\n",
    "    \"\"\"beta = (XT * X)^-1 XT y\"\"\"\n",
    "    X = np.matmul(\n",
    "        np.linalg.pinv(np.matmul(x_.T, x_)),\n",
    "        x_.T\n",
    "    )\n",
    "    return np.array([\n",
    "        np.matmul(\n",
    "            X, y_[:, [i]]\n",
    "        )\n",
    "        for i in range(y_.shape[1])\n",
    "    ])\n",
    "\n",
    "ols = ols_fit(x_=x_design, y_=y)\n",
    "params = ols.squeeze()\n",
    "\n",
    "params.shape"
   ]
  },
  {
   "cell_type": "code",
   "execution_count": null,
   "id": "bc3ce8de-2960-4c03-bce7-8f2571bf5f2d",
   "metadata": {},
   "outputs": [],
   "source": [
    "reconst = np.matmul(x_design, params.T)\n",
    "reconst"
   ]
  },
  {
   "cell_type": "code",
   "execution_count": null,
   "id": "ee529f23-5679-43fd-b5fe-1508019ffef0",
   "metadata": {},
   "outputs": [],
   "source": [
    "reconst_df = pd.DataFrame(reconst, index=mouse_brain_ncem.obs_names, columns=target_genes)"
   ]
  },
  {
   "cell_type": "code",
   "execution_count": null,
   "id": "1fdba972-6a9c-466f-abe3-b293b081b09a",
   "metadata": {},
   "outputs": [],
   "source": [
    "# Change to an appropriate location on the local system\n",
    "save_path = f\"/mnt/d/SCAnalysis/Spateo_MERFISH_benchmark/NCEM_predictions_fov{fov_number}.csv\"\n",
    "reconst_df.to_csv(save_path)"
   ]
  },
  {
   "cell_type": "markdown",
   "id": "71a9b491-c583-4087-a5a3-894172df6833",
   "metadata": {},
   "source": [
    "### Figure S5m- barplots comparing performance of Spateo vs. NCEM"
   ]
  },
  {
   "cell_type": "code",
   "execution_count": null,
   "id": "2f07a686-061a-4129-a4dd-57e64c15bbca",
   "metadata": {},
   "outputs": [],
   "source": [
    "# Change to the location on the local system where the NCEM predictions were saved\n",
    "ncem_save_path = f\"/mnt/d/SCAnalysis/Spateo_MERFISH_benchmark/NCEM_predictions_fov{fov_number}.csv\"\n",
    "ncem_reconst_df = pd.read_csv(ncem_save_path, index_col=0)"
   ]
  },
  {
   "cell_type": "code",
   "execution_count": null,
   "id": "0052b782-8569-49fe-b203-5d5b2c47e487",
   "metadata": {},
   "outputs": [],
   "source": [
    "spateo_save_path = os.path.join(cci_output_directory, \"predictions.csv\")\n",
    "spateo_reconst_df = pd.read_csv(spateo_save_path, index_col=0)"
   ]
  },
  {
   "cell_type": "code",
   "execution_count": null,
   "id": "e8bd9dbd-49a4-477e-a93f-edaa55cc2c32",
   "metadata": {},
   "outputs": [],
   "source": [
    "# In case the previous section was skipped over\n",
    "if sample_id == 153:\n",
    "    target_genes = [\"Flt1\", \"Aqp4\", \"Parm1\", \"Rorb\", \"Syt6\", \"Calb1\", \"Prdm8\", \"Rspo1\", \"Lypd1\", \"Adamts4\", \"Vtn\", \"Lamp5\"]\n",
    "else:\n",
    "    target_genes = [\"Flt1\", \"Aqp4\", \"Parm1\", \"Rorb\", \"Syt6\", \"Calb1\", \"Prdm8\", \"Rspo1\", \"Ptpru\", \"Adamts4\", \"Vtn\", \"Lamp5\"]\n",
    "\n",
    "# 6779 is prime, need to randomly drop 1 cell for NCEM- this is saved as a separate file in the MERFISH dropbox\n",
    "# Replace the file path with wherever this file is stored locally\n",
    "mouse_brain_ncem = anndata.read_h5ad(f\"/mnt/d/SCData/Spateo_data/MERFISH_mouse_cortex/MERFISH_mouse_brain_mouse1_fov{fov_number}_NCEM_processed.h5ad\")"
   ]
  },
  {
   "cell_type": "markdown",
   "id": "8caf8cb1-d724-48bc-b72d-5619ea9f3892",
   "metadata": {},
   "source": [
    "#### Bootstrap resampling- can skip over this section as well if these files have already been generated or the result files were downloaded from the resource folder"
   ]
  },
  {
   "cell_type": "code",
   "execution_count": null,
   "id": "53c00b60-0e36-4e68-9ab6-b140af10383a",
   "metadata": {},
   "outputs": [],
   "source": [
    "# Note that for the figure, only the R-squared comparison is included, but this computes additional metrics that can also be compared w/ modifications to code below:\n",
    "def compute_metrics(y_true, y_pred):\n",
    "    metrics = {}\n",
    "    \n",
    "    rp, _ = pearsonr(y_true, y_pred)\n",
    "    r, _ = spearmanr(y_true, y_pred)\n",
    "    r2 = r2_score(y_true, y_pred)\n",
    "    mse = mean_squared_error(y_true, y_pred)\n",
    "    rmse = np.sqrt(mse)\n",
    "\n",
    "    binary_y_true = (y_true != 0).astype(int)\n",
    "    binary_y_pred = (y_pred != 0).astype(int)\n",
    "    intersection = np.sum(binary_y_true * binary_y_pred)\n",
    "    union = np.sum(np.maximum(binary_y_true, binary_y_pred))\n",
    "    ji = intersection / union if union != 0 else 1.0\n",
    "\n",
    "    metrics['Pearson r'] = rp\n",
    "    metrics['Spearman r'] = r\n",
    "    metrics['R-squared'] = r2\n",
    "    metrics['RMSE'] = rmse\n",
    "    metrics['Jaccard index'] = ji\n",
    "\n",
    "    return metrics"
   ]
  },
  {
   "cell_type": "code",
   "execution_count": null,
   "id": "5aeb119f-1005-4a6f-9d33-436940e8b049",
   "metadata": {},
   "outputs": [],
   "source": [
    "np.random.seed(888)"
   ]
  },
  {
   "cell_type": "code",
   "execution_count": null,
   "id": "36ebce31-ab3b-4464-aa8c-dce7b41f1907",
   "metadata": {},
   "outputs": [],
   "source": [
    "# Define the number of bootstrap samples\n",
    "n_bootstrap_samples = 1000\n",
    "n_samples_to_pick = 200\n",
    "confidence_level = 0.95\n",
    "\n",
    "# Initialize empty DataFrames\n",
    "total_rs_df = pd.DataFrame()\n",
    "bootstrap_df = pd.DataFrame()  # To store all bootstrap results"
   ]
  },
  {
   "cell_type": "code",
   "execution_count": null,
   "id": "2b30d6bb-6951-4f1a-84ba-19f861cdbfdb",
   "metadata": {},
   "outputs": [],
   "source": [
    "# Bootstrap for the Spateo results\n",
    "for i, gene in tqdm(enumerate(all_genes), desc=\"Computing metrics for all genes...\"):\n",
    "    y = merfish_fov[:, gene].X.toarray().reshape(-1)\n",
    "    spateo_results_target = spateo_reconst_df[gene].values.reshape(-1)\n",
    "\n",
    "    non_zero_indices = np.nonzero(y)[0]\n",
    "    y_non_zero = y[non_zero_indices]\n",
    "    spateo_results_target_non_zero = spateo_results_target[non_zero_indices]\n",
    "    \n",
    "    if np.isnan(y).any() or np.isnan(spateo_results_target).any():\n",
    "        print(f\"Array contains NaN values for gene {gene}\")\n",
    "        continue\n",
    "    \n",
    "    # Bootstrap resampling\n",
    "    bootstrap_metrics = []\n",
    "    for _ in range(n_bootstrap_samples):\n",
    "        indices = np.random.choice(len(y_non_zero), size=n_samples_to_pick, replace=False)\n",
    "        y_resampled = y_non_zero[indices]\n",
    "        spateo_results_resampled = spateo_results_target_non_zero[indices]\n",
    "        metrics = compute_metrics(y_resampled, spateo_results_resampled)\n",
    "        bootstrap_metrics.append(metrics)\n",
    "    \n",
    "    # Convert bootstrap metrics to DataFrame\n",
    "    spateo_bootstrap_df = pd.DataFrame(bootstrap_metrics)\n",
    "    spateo_bootstrap_df.columns = [f\"Spateo {col} {gene}\" for col in spateo_bootstrap_df.columns]\n",
    "    bootstrap_df = pd.concat([bootstrap_df, spateo_bootstrap_df], axis=1)\n",
    "    \n",
    "    # Compute confidence intervals\n",
    "    ci_lower = spateo_bootstrap_df.quantile((1 - confidence_level) / 2)\n",
    "    ci_upper = spateo_bootstrap_df.quantile(1 - (1 - confidence_level) / 2)\n",
    "\n",
    "    # Original metrics for the gene\n",
    "    original_metrics = compute_metrics(y_non_zero, spateo_results_target_non_zero)\n",
    "    \n",
    "    # Append metric and confidence intervals to DataFrame\n",
    "    new_rs = pd.DataFrame([{'Gene names': gene, 'Model type': \"Spateo\", 'R-squared': original_metrics['R-squared'],\n",
    "                            'CI Lower': ci_lower[f'Spateo R-squared {gene}'], 'CI Upper': ci_upper[f'Spateo R-squared {gene}']}])\n",
    "    total_rs_df = pd.concat([total_rs_df, new_rs])"
   ]
  },
  {
   "cell_type": "code",
   "execution_count": null,
   "id": "7ada3a2d-c2c9-4cdd-8661-7bff895fc2d1",
   "metadata": {},
   "outputs": [],
   "source": [
    "# Bootstrap for the NCEM results\n",
    "for i, gene in tqdm(enumerate(all_genes), desc=\"Computing NCEM metrics for all genes...\"):\n",
    "    y = mouse_brain_ncem[:, gene].X.toarray().reshape(-1)\n",
    "    NCEM_results_target = ncem_reconst_df[gene].values.reshape(-1)\n",
    "\n",
    "    non_zero_indices = np.nonzero(y)[0]\n",
    "    y_non_zero = y[non_zero_indices]\n",
    "    NCEM_results_target_non_zero = NCEM_results_target[non_zero_indices]\n",
    "    \n",
    "    if np.isnan(y).any() or np.isnan(NCEM_results_target).any():\n",
    "        print(f\"Array contains NaN values for gene {gene}\")\n",
    "        continue\n",
    "    \n",
    "    # Bootstrap resampling\n",
    "    bootstrap_metrics = []\n",
    "    for _ in range(n_bootstrap_samples):\n",
    "        indices = np.random.choice(len(y_non_zero), size=n_samples_to_pick, replace=False)\n",
    "        y_resampled = y_non_zero[indices]\n",
    "        NCEM_resampled = NCEM_results_target_non_zero[indices]\n",
    "        metrics = compute_metrics(y_resampled, NCEM_resampled)\n",
    "        bootstrap_metrics.append(metrics)\n",
    "    \n",
    "    # Convert bootstrap metrics to DataFrame\n",
    "    ncem_bootstrap_df = pd.DataFrame(bootstrap_metrics)\n",
    "    ncem_bootstrap_df.columns = [f\"NCEM {col} {gene}\" for col in ncem_bootstrap_df.columns]\n",
    "    bootstrap_df = pd.concat([bootstrap_df, ncem_bootstrap_df], axis=1)\n",
    "    \n",
    "    # Compute confidence intervals\n",
    "    ci_lower = ncem_bootstrap_df.quantile((1 - confidence_level) / 2)\n",
    "    ci_upper = ncem_bootstrap_df.quantile(1 - (1 - confidence_level) / 2)\n",
    "\n",
    "    # Original metrics for the gene\n",
    "    original_metrics = compute_metrics(y_non_zero, NCEM_results_target_non_zero)\n",
    "    \n",
    "    # Append metrics and confidence intervals to DataFrames\n",
    "    new_rs = pd.DataFrame([{'Gene names': gene, 'Model type': \"NCEM\", 'R-squared': original_metrics['R-squared'],\n",
    "                            'CI Lower': ci_lower[f'NCEM R-squared {gene}'], 'CI Upper': ci_upper[f'NCEM R-squared {gene}']}])\n",
    "    total_rs_df = pd.concat([total_rs_df, new_rs])"
   ]
  },
  {
   "cell_type": "code",
   "execution_count": null,
   "id": "842ff13b-af1b-47ae-9877-c11009c8f216",
   "metadata": {},
   "outputs": [],
   "source": [
    "# Change the path to an appropriate local directory\n",
    "save_folder = f\"/mnt/d/SCAnalysis/Spateo_MERFISH_benchmark\"\n",
    "total_rs_df.index = np.arange(len(total_rs_df))\n",
    "total_rs_df.to_csv(os.path.join(save_folder, f\"fov{fov_number}_benchmark_R-sq_results.csv\"))"
   ]
  },
  {
   "cell_type": "markdown",
   "id": "fbf303cc-80bd-4f7e-b394-be2c56ccabf4",
   "metadata": {},
   "source": [
    "#### Barplot"
   ]
  },
  {
   "cell_type": "code",
   "execution_count": null,
   "id": "12b765ae-2ee0-4a0b-9483-d9d84e08bb34",
   "metadata": {},
   "outputs": [],
   "source": [
    "def fisher_z_test_with_ci(r1, ci_lower1, ci_upper1, r2, ci_lower2, ci_upper2):\n",
    "    z1 = 0.5 * np.log((1 + r1) / (1 - r1))\n",
    "    z2 = 0.5 * np.log((1 + r2) / (1 - r2))\n",
    "    var_z1 = ((ci_upper1 - ci_lower1) / (2 * 1.96)) ** 2\n",
    "    var_z2 = ((ci_upper2 - ci_lower2) / (2 * 1.96)) ** 2\n",
    "    z_diff = (z1 - z2) / np.sqrt(var_z1 + var_z2)\n",
    "    p_value = 2 * (1 - norm.cdf(abs(z_diff)))\n",
    "    return p_value"
   ]
  },
  {
   "cell_type": "code",
   "execution_count": null,
   "id": "1b3ffdda-d7ac-4aea-bbb1-01b3d549f3fb",
   "metadata": {},
   "outputs": [],
   "source": [
    "# Change the path to the directory these were saved to\n",
    "save_folder = f\"/mnt/d/SCAnalysis/Spateo_MERFISH_benchmark\"\n",
    "metric_results = pd.read_csv(os.path.join(save_folder, f\"fov{fov_number}_benchmark_R-sq_results.csv\"), index_col=0)"
   ]
  },
  {
   "cell_type": "code",
   "execution_count": null,
   "id": "994fb8e1-7aa4-4135-89ef-974c6bdbda1d",
   "metadata": {},
   "outputs": [],
   "source": [
    "from scipy.stats import ttest_ind\n",
    "from statsmodels.stats.multitest import multipletests"
   ]
  },
  {
   "cell_type": "code",
   "execution_count": null,
   "id": "56670b6d-5ed1-46c6-891f-482260d25899",
   "metadata": {},
   "outputs": [],
   "source": [
    "results = []\n",
    "\n",
    "# Perform the test for each gene\n",
    "for gene in metric_results[\"Gene names\"].unique():\n",
    "    spateo_row = metric_results[(metric_results[\"Gene names\"] == gene) & (metric_results[\"Model type\"] == \"Spateo\")].iloc[0]\n",
    "    spateo_r = spateo_row[\"R-squared\"]\n",
    "    spateo_ci_lower = spateo_row[\"CI Lower\"]\n",
    "    spateo_ci_upper = spateo_row[\"CI Upper\"]\n",
    "    \n",
    "    for index, row in metric_results[(metric_results[\"Gene names\"] == gene) & (metric_results[\"Model type\"] != \"Spateo\")].iterrows():\n",
    "        model = row[\"Model type\"]\n",
    "        other_r = row[\"R-squared\"]\n",
    "        other_ci_lower = row[\"CI Lower\"]\n",
    "        other_ci_upper = row[\"CI Upper\"]\n",
    "        p_value = fisher_z_test_with_ci(spateo_r, spateo_ci_lower, spateo_ci_upper, other_r, other_ci_lower, other_ci_upper)\n",
    "        results.append([gene, model, p_value])\n",
    "\n",
    "# Convert results to a dataframe\n",
    "results_df = pd.DataFrame(results, columns=[\"Gene\", \"Model\", \"p-value\"])\n",
    "\n",
    "# Adjust p-values for multiple comparisons using Benjamini-Hochberg correction\n",
    "results_df[\"q-value\"] = results_df[\"p-value\"] * len(results_df) / (np.arange(1, len(results_df) + 1))\n",
    "results_df"
   ]
  },
  {
   "cell_type": "code",
   "execution_count": null,
   "id": "85e603a7-aee5-4c76-af61-d3127b2e7137",
   "metadata": {},
   "outputs": [],
   "source": [
    "pastel_colors = sns.color_palette(\"pastel\")\n",
    "# Convert the colors to hex codes\n",
    "colors_hex = [sns.color_palette(\"pastel\").as_hex() for color in pastel_colors][0]\n",
    "colors_hex[0], colors_hex[1] = colors_hex[1], colors_hex[0]\n",
    "colors_hex"
   ]
  },
  {
   "cell_type": "code",
   "execution_count": null,
   "id": "ef18b037-7bd3-4a8d-aefe-2af0ecadd566",
   "metadata": {},
   "outputs": [],
   "source": [
    "plt.figure(figsize=(12, 5))\n",
    "\n",
    "# Use seaborn's barplot function with hue parameter for condition\n",
    "ax = sns.barplot(data=metric_results, x=\"Gene names\", y=col, hue=\"Model type\", palette=colors_hex, edgecolor='black', dodge=True, ci=None)\n",
    "\n",
    "# Add error bars\n",
    "bar_width = 0.8 / len(metric_results[\"Model type\"].unique())  # Adjusting for the number of hue categories\n",
    "for i, (gene, model) in enumerate(zip(metric_results[\"Gene names\"], metric_results[\"Model type\"])):\n",
    "    y = metric_results[(metric_results[\"Gene names\"] == gene) & (metric_results[\"Model type\"] == model)][col].values[0]\n",
    "    ci_lower = metric_results[(metric_results[\"Gene names\"] == gene) & (metric_results[\"Model type\"] == model)][\"CI Lower\"].values[0]\n",
    "    ci_upper = metric_results[(metric_results[\"Gene names\"] == gene) & (metric_results[\"Model type\"] == model)][\"CI Upper\"].values[0]\n",
    "    \n",
    "    # Calculate x position for each bar\n",
    "    x = np.where(metric_results[\"Gene names\"].unique() == gene)[0][0]\n",
    "    x = x - bar_width / 2 * (len(metric_results[\"Model type\"].unique()) - 1) + bar_width * list(metric_results[\"Model type\"].unique()).index(model)\n",
    "    \n",
    "    # Plot the error bar\n",
    "    ax.errorbar(x, y, yerr=[[y - ci_lower], [ci_upper - y]], fmt='none', c='black', elinewidth=3, capsize=4.0, capthick=2.5)\n",
    "\n",
    "# Add significance annotations\n",
    "# Initialize a dictionary to track the number of annotations for each gene\n",
    "annotation_count = {gene: 0 for gene in metric_results[\"Gene names\"].unique()}\n",
    "\n",
    "for _, row in results_df.iterrows():\n",
    "    gene = row[\"Gene\"]\n",
    "    model = row[\"Model\"]\n",
    "    p_value = row[\"p-value\"]\n",
    "    q_value = row[\"q-value\"]\n",
    "\n",
    "    # Determine the asterisk symbol based on q-value\n",
    "    if q_value < 0.00005:\n",
    "        symbol = \"****\"\n",
    "    elif q_value < 0.0005:\n",
    "        symbol = \"***\"\n",
    "    elif q_value < 0.005:\n",
    "        symbol = \"**\"\n",
    "    elif q_value < 0.05:\n",
    "        symbol = \"*\"\n",
    "    else:\n",
    "        continue  # Skip if not significant\n",
    "    \n",
    "    # Find the y-value for the annotation\n",
    "    y = metric_results[(metric_results[\"Gene names\"] == gene) & (metric_results[\"Model type\"] == model)][col].values[0]\n",
    "    \n",
    "    # Calculate x position for each bar\n",
    "    x = np.where(metric_results[\"Gene names\"].unique() == gene)[0][0]\n",
    "    x = x - bar_width / 2 * (len(metric_results[\"Model type\"].unique()) - 1) + bar_width * list(metric_results[\"Model type\"].unique()).index(model)\n",
    "    \n",
    "    # Find the y-value for the Spateo model\n",
    "    y_spateo = metric_results[(metric_results[\"Gene names\"] == gene) & (metric_results[\"Model type\"] == \"Spateo\")][col].values[0]\n",
    "    x_spateo = np.where(metric_results[\"Gene names\"].unique() == gene)[0][0]\n",
    "    x_spateo = x_spateo - bar_width / 2 * (len(metric_results[\"Model type\"].unique()) - 1) + bar_width * list(metric_results[\"Model type\"].unique()).index(\"Spateo\")\n",
    "    \n",
    "    # Calculate the vertical position for the annotation\n",
    "    annotation_offset = annotation_count[gene] * 0.15 + 0.1\n",
    "    y_max = max(y, y_spateo) + annotation_offset\n",
    "    \n",
    "    # Plot the line between the Spateo bar and the other model bar\n",
    "    ax.plot([x, x, x_spateo, x_spateo], [y_max, y_max + 0.02, y_max + 0.02, y_max], lw=1.5, c='black')\n",
    "    \n",
    "    # Add the asterisk annotation above the line\n",
    "    ax.text((x + x_spateo) / 2, y_max + 0.02, symbol, ha='center', va='bottom', color='black', fontsize=18)\n",
    "    \n",
    "    # Update the annotation count for the gene\n",
    "    annotation_count[gene] += 1\n",
    "\n",
    "# For better readability, place the legend outside of the plot\n",
    "plt.legend(bbox_to_anchor=(1.01, 1), loc='upper left', fontsize=28)\n",
    "\n",
    "plt.ylabel(r'Variance explained ($R^2$)', fontsize=24)\n",
    "plt.xlabel('Target gene', fontsize=36)\n",
    "plt.xticks(fontsize=30, rotation=90)\n",
    "plt.yticks(fontsize=28)\n",
    "plt.ylim(0.1, 1.2)\n",
    "\n",
    "plt.show()"
   ]
  },
  {
   "cell_type": "markdown",
   "id": "a829d56b-75f3-414e-9c3e-3e5cf4dcf1d4",
   "metadata": {},
   "source": [
    "## Load FOV 4 of the CosMx lung cancer sample"
   ]
  },
  {
   "cell_type": "code",
   "execution_count": null,
   "id": "c42c9514-286e-49a0-bbad-d941676e8f63",
   "metadata": {},
   "outputs": [],
   "source": [
    "# Replace with wherever this file is stored locally\n",
    "path_to_cosmx = \"/mnt/d/SCData/Spateo_data/CosMx/fov_4.h5ad\"\n",
    "# Replace with wherever the L:R database is stored locally\n",
    "lr_db = pd.read_csv(\"/mnt/c/Users/danie/Desktop/Github/Github/spateo-release-main/spateo/tools/database/lr_db_mouse.csv\", index_col=0)"
   ]
  },
  {
   "cell_type": "code",
   "execution_count": null,
   "id": "8a152d27-e66e-4178-846b-8436ca632d94",
   "metadata": {},
   "outputs": [],
   "source": [
    "lung_fov4 = anndata.read_h5ad(path_to_cosmx)\n",
    "lung_fov4.uns[\"__type\"] = \"UMI\""
   ]
  },
  {
   "cell_type": "markdown",
   "id": "c1ee16f8-19bd-4eec-b996-5b33a76fa735",
   "metadata": {},
   "source": [
    "### Figure S5o- spatially-resolved cell types plot"
   ]
  },
  {
   "cell_type": "code",
   "execution_count": null,
   "id": "d6388395-2929-4188-b3da-897d9e0c6b15",
   "metadata": {},
   "outputs": [],
   "source": [
    "st.pl.geo(\n",
    "    lung_fov4, \n",
    "    color=[\"predicted_celltypes\"], \n",
    "    show_legend='upper left', \n",
    "    save_show_or_return='show', \n",
    "    figsize=(5, 3), \n",
    "    color_key=lung_fov4.uns[\"celltype_colors\"]\n",
    ")"
   ]
  },
  {
   "cell_type": "markdown",
   "id": "e432bfb3-058a-41c2-a855-0a9d41a60ef4",
   "metadata": {},
   "source": [
    "### Benchmark w/ the COMMOT CCI array"
   ]
  },
  {
   "cell_type": "code",
   "execution_count": null,
   "id": "71ef3855-b77d-4f87-b2e7-627327c64228",
   "metadata": {},
   "outputs": [],
   "source": [
    "lb = 120.0\n",
    "ub = 336.1"
   ]
  },
  {
   "cell_type": "markdown",
   "id": "289dc22d-f01b-49ce-bb83-d9ca5efa5235",
   "metadata": {},
   "source": [
    "#### Run Spateo CCI model (can skip if predictions .csv file was created locally or downloaded from the folder)"
   ]
  },
  {
   "cell_type": "code",
   "execution_count": null,
   "id": "b9a7e858-6727-470e-a9f3-ff4b7ac7b3f5",
   "metadata": {},
   "outputs": [],
   "source": [
    "# Set to the folders that the inputs (ligands list, receptors list, targets list) are contained in and that the outputs (model results) will save to:\n",
    "cci_input_directory = \"/mnt/d/SCAnalysis/Spateo_CosMx_benchmark/CCI_inputs\"\n",
    "cci_output_directory = \"/mnt/d/SCAnalysis/Spateo_CosMx_benchmark/CCI_outputs\"\n",
    "cci_output_id = os.path.join(cci_output_directory, \"lung_fov4_target_genes.csv\")\n",
    "cci_ligands_file = os.path.join(cci_input_directory, \"ligands.txt\")\n",
    "cci_receptors_file = os.path.join(cci_input_directory, \"receptors.txt\")\n",
    "cci_targets_file = os.path.join(cci_input_directory, \"targets.txt\")"
   ]
  },
  {
   "cell_type": "code",
   "execution_count": null,
   "id": "18c8e7b8-78fd-4fcf-81ea-441febf662d2",
   "metadata": {},
   "outputs": [],
   "source": [
    "# For clarity, this is how the distance bounds are determined\n",
    "lb = st.tl.find_neighbors.find_bw_for_n_neighbors(\n",
    "    lung_fov4,\n",
    "    coords_key=\"spatial\",\n",
    "    target_n_neighbors=9,\n",
    "    initial_bw=100,\n",
    "    exclude_self=True\n",
    ")"
   ]
  },
  {
   "cell_type": "code",
   "execution_count": null,
   "id": "14b8bdda-e0bd-4b85-8ddb-4a8348f6fce8",
   "metadata": {},
   "outputs": [],
   "source": [
    "ub = st.tl.find_neighbors.find_bw_for_n_neighbors(\n",
    "    lung_fov4,\n",
    "    coords_key=\"spatial\",\n",
    "    target_n_neighbors=70,\n",
    "    initial_bw=100,\n",
    "    exclude_self=True\n",
    ")"
   ]
  },
  {
   "cell_type": "code",
   "execution_count": null,
   "id": "d67ef04b-7ce6-4d5e-a23e-c13cb39ff3ba",
   "metadata": {},
   "outputs": [],
   "source": [
    "# Define inputs:\n",
    "adata_path = path_to_cosmx\n",
    "output_path = cci_output_directory\n",
    "# Use the ligand/receptor paths from the model fitting:\n",
    "ligand_path = cci_ligands_file\n",
    "receptor_path = cci_receptors_file\n",
    "target_path = cci_targets_file\n",
    "cci_dir_path = database_dir\n",
    "mod_type = \"lr\"\n",
    "species = \"human\"\n",
    "distr = \"poisson\"\n",
    "\n",
    "# Key storing cell type information\n",
    "group_key = \"predicted_celltypes\"\n",
    "\n",
    "# Key storing your spatial coordinates\n",
    "coords_key = \"spatial\"\n",
    "distance_membrane_bound = lb\n",
    "distance_secreted = ub\n",
    "minbw = lb * 1.5\n",
    "maxbw = ub\n",
    "\n",
    "if not os.path.exists(os.path.dirname(output_path)):\n",
    "    os.makedirs(os.path.dirname(output_path))"
   ]
  },
  {
   "cell_type": "code",
   "execution_count": null,
   "id": "3aea38ed-6f78-4e21-a847-54578cda830c",
   "metadata": {},
   "outputs": [],
   "source": [
    "parser, args_list = st.tl.define_spateo_argparse(\n",
    "    adata_path=adata_path,\n",
    "    custom_lig_path=ligand_path,\n",
    "    custom_rec_path=receptor_path,\n",
    "    targets_path=target_path,\n",
    "    cci_dir=cci_dir_path,\n",
    "    mod_type=mod_type,\n",
    "    distr=distr,\n",
    "    species=species,\n",
    "    group_key=group_key,\n",
    "    coords_key=coords_key,\n",
    "    distance_membrane_bound=distance_membrane_bound,\n",
    "    distance_secreted=distance_secreted,\n",
    "    minbw=minbw,\n",
    "    maxbw=maxbw,\n",
    "    output_path=output_path,\n",
    ")"
   ]
  },
  {
   "cell_type": "code",
   "execution_count": null,
   "id": "10bcfc16-cecc-46f3-8a22-f0d0b037341e",
   "metadata": {},
   "outputs": [],
   "source": [
    "import time\n",
    "\n",
    "t1 = time.time()\n",
    "\n",
    "swr_model = st.tl.MuSIC(parser, args_list)\n",
    "swr_model._set_up_model()\n",
    "swr_model.fit()\n",
    "swr_model.predict_and_save()\n",
    "\n",
    "t_last = time.time()\n",
    "\n",
    "print(\"Total Time Elapsed:\", np.round(t_last - t1, 2), \"seconds\")\n",
    "print(\"-\" * 60)"
   ]
  },
  {
   "cell_type": "code",
   "execution_count": null,
   "id": "47062ff1-d70f-44c3-a5dc-d36e7b8eefed",
   "metadata": {},
   "outputs": [],
   "source": [
    "# Note that the predictions.csv file is also provided in the Dropbox"
   ]
  },
  {
   "cell_type": "markdown",
   "id": "3df9f6ca-701d-4375-bae2-2c9f9a785c61",
   "metadata": {},
   "source": [
    "#### Run COMMOT for the comparison (can skip if the AnnData object was already created locally or downloaded from the folder)"
   ]
  },
  {
   "cell_type": "code",
   "execution_count": null,
   "id": "5949cfdc-acd9-42d9-a7fb-958e94568d90",
   "metadata": {},
   "outputs": [],
   "source": [
    "np.random.seed(42)"
   ]
  },
  {
   "cell_type": "code",
   "execution_count": null,
   "id": "fd41fce1-4d33-4d0a-ad17-858a68db7f8b",
   "metadata": {},
   "outputs": [],
   "source": [
    "# Processing for secreted signaling (will add fields to the AnnData object)\n",
    "df_cellchat = ct.pp.ligand_receptor_database(species='human', signaling_type='Secreted Signaling', database='CellChat')\n",
    "df_cellchat_filtered = ct.pp.filter_lr_database(df_cellchat, lung_fov4, min_cell_pct=0.05)\n",
    "\n",
    "ct.tl.spatial_communication(\n",
    "    lung_fov4,\n",
    "    database_name='cellchat', \n",
    "    df_ligrec=df_cellchat_filtered, \n",
    "    dis_thr=ub, \n",
    "    heteromeric=True, \n",
    "    pathway_sum=True\n",
    ")"
   ]
  },
  {
   "cell_type": "code",
   "execution_count": null,
   "id": "b274d416-8f9c-4357-95ac-20f567bb4893",
   "metadata": {},
   "outputs": [],
   "source": [
    "# Processing for ECM signaling\n",
    "df_cellchat = ct.pp.ligand_receptor_database(species='human', signaling_type='ECM-Receptor', database='CellChat')\n",
    "df_cellchat_filtered = ct.pp.filter_lr_database(df_cellchat, lung_fov4, min_cell_pct=0.05)\n",
    "\n",
    "# Both models operate w/ the assumption that ECM components diffuse about as far as other extracellular factors\n",
    "ct.tl.spatial_communication(\n",
    "    lung_fov4,\n",
    "    database_name='cellchat', \n",
    "    df_ligrec=df_cellchat_filtered, \n",
    "    dis_thr=ub, \n",
    "    heteromeric=True, \n",
    "    pathway_sum=True\n",
    ")"
   ]
  },
  {
   "cell_type": "code",
   "execution_count": null,
   "id": "bfc50513-756c-4cdc-ac6f-cb683af82c6b",
   "metadata": {},
   "outputs": [],
   "source": [
    "# Processing for membrane-bound signaling\n",
    "df_cellchat = ct.pp.ligand_receptor_database(species='human', signaling_type='Cell-Cell Contact', database='CellChat')\n",
    "df_cellchat_filtered = ct.pp.filter_lr_database(df_cellchat, lung_fov4, min_cell_pct=0.05)\n",
    "\n",
    "ct.tl.spatial_communication(\n",
    "    lung5_fov4,\n",
    "    database_name='cellchat', \n",
    "    df_ligrec=df_cellchat_filtered, \n",
    "    dis_thr=lb, \n",
    "    heteromeric=True, \n",
    "    pathway_sum=True\n",
    ")"
   ]
  },
  {
   "cell_type": "code",
   "execution_count": null,
   "id": "f27199ea-5dec-4756-9f8a-0aecde69b4dd",
   "metadata": {},
   "outputs": [],
   "source": [
    "# Save AnnData object with COMMOT info- this will also be uploaded to the Dropbox\n",
    "path_to_cosmx_commot = \"/mnt/d/SCData/Spateo_data/CosMx/fov_4_COMMOT.h5ad\"\n",
    "lung5_fov4.write_h5ad(path_to_cosmx_commot)"
   ]
  },
  {
   "cell_type": "code",
   "execution_count": null,
   "id": "563178db-f277-48aa-bb96-997d26472479",
   "metadata": {},
   "outputs": [],
   "source": [
    "# Compute signal received for each cell predicted by COMMOT:\n",
    "commot_signal_received = pd.DataFrame(0, columns=lung5_fov4.obsp.keys(), index=lung5_fov4.obs_names)\n",
    "for key in lung5_fov4.obsp.keys():\n",
    "    sig_array = lung5_fov4.obsp[key]\n",
    "    test = np.array(sig_array.sum(axis=0)).reshape(-1)\n",
    "    commot_signal_received.loc[:, key] = test"
   ]
  },
  {
   "cell_type": "code",
   "execution_count": null,
   "id": "9f05d5ac-a0d4-4721-b52f-30f197a9d47e",
   "metadata": {},
   "outputs": [],
   "source": [
    "save_path = \"/mnt/d/SCData/Spateo_data/CosMx/fov_4_COMMOT_signal_received.csv\"\n",
    "commot_signal_received.to_csv(save_path)"
   ]
  },
  {
   "cell_type": "markdown",
   "id": "6fb52eff-e195-4142-8618-4f01503bfac1",
   "metadata": {},
   "source": [
    "### Figure S5p- comparison of COMMOT signal to Spateo signal"
   ]
  },
  {
   "cell_type": "code",
   "execution_count": null,
   "id": "dcae82a4-ad19-4e80-bb4c-2c7463865aae",
   "metadata": {},
   "outputs": [],
   "source": [
    "path_to_commot_signal_received = \"/mnt/d/SCData/Spateo_data/CosMx/fov_4_COMMOT_signal_received.csv\"\n",
    "commot_signal_received = pd.read_csv(path_to_commot_signal_received, index_col=0)\n",
    "lung5_fov4_spateo = anndata.read_h5ad(path_to_cosmx)"
   ]
  },
  {
   "cell_type": "code",
   "execution_count": null,
   "id": "faa2f837-7175-4d69-8362-50ca94f5c3d5",
   "metadata": {},
   "outputs": [],
   "source": [
    "# Path to Spateo model design matrix\n",
    "spateo_dm_path = \"/mnt/d/SCData/Spateo_data/CosMx/design_matrix_full.csv\"\n",
    "spateo_dm = pd.read_csv(spateo_dm_path, index_col=0)"
   ]
  },
  {
   "cell_type": "code",
   "execution_count": null,
   "id": "42bf065e-4892-43ae-8c1f-fe3aaa002fb8",
   "metadata": {},
   "outputs": [],
   "source": [
    "# We define the presence or absence of a received signal in each cell using the Jaccard index, applied to both the Spateo signal array and the COMMOT signal array\n",
    "def jaccard(x, y):\n",
    "    \"\"\"Compute the Jaccard index between two binary vectors.\"\"\"\n",
    "    from scipy.spatial.distance import cdist\n",
    "    \n",
    "    # Ensure the input vectors are boolean\n",
    "    x = x.astype(bool)\n",
    "    y = y.astype(bool)\n",
    "    \n",
    "    # Compute the Jaccard distance using cdist function\n",
    "    jaccard_distance = cdist(x.values.reshape(1, -1), y.values.reshape(1, -1), metric='jaccard')\n",
    "    \n",
    "    # Convert Jaccard distance to Jaccard index\n",
    "    jaccard_index = 1 - jaccard_distance[0][0]\n",
    "    \n",
    "    return jaccard_index"
   ]
  },
  {
   "cell_type": "code",
   "execution_count": null,
   "id": "763c1a9a-1e16-49fb-a2c2-9fc8ab6818d4",
   "metadata": {},
   "outputs": [],
   "source": [
    "# This is to match the interactions between the Spateo array and the COMMOT array\n",
    "def match_columns(commot_columns, design_columns):\n",
    "    matched_columns = {}\n",
    "    for col in commot_columns:\n",
    "        # Only consider columns with three dashes\n",
    "        if col.count(\"-\") != 3:\n",
    "            continue\n",
    "\n",
    "        # Extracting the left and right parts of the commot column\n",
    "        _, _, prefix, suffix = col.split(\"-\")\n",
    "        expected_col_name = f\"{prefix}:{suffix}\"\n",
    "        \n",
    "        # Checking if the expected column name exists in the design columns\n",
    "        if expected_col_name in design_columns:\n",
    "            matched_columns[col] = expected_col_name\n",
    "    return matched_columns\n",
    "\n",
    "def compute_jaccard(matched_columns, commot_df, design_df):\n",
    "    output = []\n",
    "    for commot_col, design_col in matched_columns.items():\n",
    "        commot_data = commot_df[commot_col]\n",
    "        design_data = design_df[design_col]\n",
    "        \n",
    "        # Computing the Jaccard index\n",
    "        jaccard_index = jaccard(commot_data > 0, design_data > 0)\n",
    "        output.append((commot_col, design_col, jaccard_index))\n",
    "    \n",
    "    return output"
   ]
  },
  {
   "cell_type": "code",
   "execution_count": null,
   "id": "0a6cbade-304d-4c76-be36-02306ed01918",
   "metadata": {},
   "outputs": [],
   "source": [
    "matched_columns = match_columns(\n",
    "    commot_signal_received.columns,\n",
    "    spateo_dm.columns\n",
    ")"
   ]
  },
  {
   "cell_type": "code",
   "execution_count": null,
   "id": "d1cbdcb8-9477-40c9-af19-3a2e77ccf141",
   "metadata": {},
   "outputs": [],
   "source": [
    "jaccard_indices = compute_jaccard(\n",
    "    matched_columns,\n",
    "    commot_signal_received,\n",
    "    spateo_dm\n",
    ")"
   ]
  },
  {
   "cell_type": "code",
   "execution_count": null,
   "id": "ce92c10f-cc8d-4390-9a02-74cc0755aab6",
   "metadata": {},
   "outputs": [],
   "source": [
    "jaccard_df = pd.DataFrame(\n",
    "    jaccard_indices,\n",
    "    columns=['Commot Column', 'Design Column', 'Jaccard Index']\n",
    ")\n",
    "jaccard_df"
   ]
  },
  {
   "cell_type": "code",
   "execution_count": null,
   "id": "afb29036-fe9d-4c6c-8380-5e657856ff1b",
   "metadata": {},
   "outputs": [],
   "source": [
    "# Number of \"active signals\" for each cell:\n",
    "commot_features = jaccard_df[\"Commot Column\"]\n",
    "spateo_features = jaccard_df[\"Design Column\"]\n",
    "\n",
    "commot_sub = commot_signal_received[commot_features]\n",
    "spateo_dm_sub = spateo_dm[spateo_features]"
   ]
  },
  {
   "cell_type": "code",
   "execution_count": null,
   "id": "a88abba1-f564-4cd8-8e27-ad561fce6ece",
   "metadata": {},
   "outputs": [],
   "source": [
    "# Number of \"active signals\" for each cell:\n",
    "commot_sub_nz = commot_sub.applymap(lambda x: 1 if x != 0 else 0)\n",
    "spateo_dm_sub_nz = spateo_dm_sub.applymap(lambda x: 1 if x != 0 else 0)\n",
    "\n",
    "active_signals_commot = commot_sub_nz.sum(axis=1)\n",
    "active_signals_spateo = spateo_dm_sub_nz.sum(axis=1)"
   ]
  },
  {
   "cell_type": "code",
   "execution_count": null,
   "id": "b525df01-1116-44cd-bd07-14aa07b26615",
   "metadata": {},
   "outputs": [],
   "source": [
    "from scipy.stats import pearsonr, spearmanr\n",
    "rp_nonzero, _ = pearsonr(active_signals_commot, active_signals_spateo)\n",
    "r_nonzero, _ = spearmanr(active_signals_commot, active_signals_spateo)\n",
    "\n",
    "# Plot the scatter plot for nonzero y values\n",
    "plt.scatter(active_signals_commot, active_signals_spateo, s=50, facecolors='darkorange', edgecolors='black', linewidths=0.75)\n",
    "\n",
    "# Set the title and axis labels\n",
    "plt.xticks(fontsize=14)\n",
    "plt.yticks(fontsize=14)\n",
    "plt.title(f\"Active signals for COMMOT and Spateo\\nSpearman r = {r_nonzero:.3f}, Pearson r = {rp_nonzero:.3f}\", fontsize=16)\n",
    "plt.xlabel(\"Predicted signals per cell- COMMOT\", fontsize=16)\n",
    "plt.ylabel(\"Predicted signals per cell- Spateo\", fontsize=16)\n",
    "\n",
    "# Show the plot\n",
    "plt.show()"
   ]
  },
  {
   "cell_type": "markdown",
   "id": "f06757f3-0126-4d70-9eca-59dc7dd8ca69",
   "metadata": {},
   "source": [
    "### Figure S5q- Spearman comparison"
   ]
  },
  {
   "cell_type": "code",
   "execution_count": null,
   "id": "d588d53e-a29f-433e-bf24-d8b9afb477eb",
   "metadata": {},
   "outputs": [],
   "source": [
    "# Find the local path where target genes were expressed\n",
    "cci_input_directory = \"/mnt/d/SCAnalysis/Spateo_CosMx_benchmark/CCI_inputs\"\n",
    "cci_targets_file = os.path.join(cci_input_directory, \"targets.txt\")"
   ]
  },
  {
   "cell_type": "code",
   "execution_count": null,
   "id": "69acd537-a95a-4e5d-9dd9-2a61af900585",
   "metadata": {},
   "outputs": [],
   "source": [
    "with open(cci_targets_file, \"r\") as file:\n",
    "    lines = file.readlines()\n",
    "\n",
    "targets = [line.strip() for line in lines]\n",
    "targets"
   ]
  },
  {
   "cell_type": "markdown",
   "id": "5bf5470e-7f76-4b11-b8b4-b514444c0c5d",
   "metadata": {},
   "source": [
    "#### Use COMMOT signal to predict gene expression (skip to the next section if the Spearman correlations file was already saved)"
   ]
  },
  {
   "cell_type": "code",
   "execution_count": null,
   "id": "5540b6f7-ccdb-4a2d-b80b-1a649e51c3ac",
   "metadata": {},
   "outputs": [],
   "source": [
    "lung5_fov4_spateo = anndata.read_h5ad(path_to_cosmx)"
   ]
  },
  {
   "cell_type": "code",
   "execution_count": null,
   "id": "31a2b6e8-4bfe-4711-bd73-272adb169a75",
   "metadata": {},
   "outputs": [],
   "source": [
    "path_to_commot_signal_received = \"/mnt/d/SCData/Spateo_data/CosMx/fov_4_COMMOT_signal_received.csv\"\n",
    "commot_signal_received = pd.read_csv(path_to_commot_signal_received, index_col=0)"
   ]
  },
  {
   "cell_type": "code",
   "execution_count": null,
   "id": "520d9fda-f6c9-4200-ab24-7b805cd3e9f3",
   "metadata": {},
   "outputs": [],
   "source": [
    "adata_targets = lung5_fov4_spateo[:, targets].copy()"
   ]
  },
  {
   "cell_type": "code",
   "execution_count": null,
   "id": "383c22e5-3daf-4360-a898-1d2d421f3b9c",
   "metadata": {},
   "outputs": [],
   "source": [
    "targets_df = pd.DataFrame(adata_targets.X.toarray(), columns=targets, index=adata_targets.obs_names)\n",
    "targets_df"
   ]
  },
  {
   "cell_type": "code",
   "execution_count": null,
   "id": "3605c3ff-f75f-47f9-9620-d45767938950",
   "metadata": {},
   "outputs": [],
   "source": [
    "# Iteratively perform Poisson regression on each column of AnnData object\n",
    "models = {}\n",
    "pearson_correlations_COMMOT = {}\n",
    "spearman_correlations_COMMOT = {}\n",
    "pearson_correlations_nz_subset_COMMOT = {}\n",
    "spearman_correlations_nz_subset_COMMOT = {}\n",
    "predictions = pd.DataFrame(0, columns=targets, index=adata_targets.obs_names)\n",
    "not_modeled = []\n",
    "\n",
    "for col in targets_df.columns:\n",
    "    print(f\"Performing Poisson regression on {col}\")\n",
    "    y = targets_df[col].values\n",
    "    nonzero_names = targets_df[col][targets_df[col] != 0].index.tolist()\n",
    "    y_nz = targets_df.loc[nonzero_names, col].values\n",
    "\n",
    "    X = commot_signal_received\n",
    "    try:\n",
    "        model = sm.GLM(y, X, family=sm.families.Poisson()).fit()\n",
    "        models[col] = model\n",
    "        y_pred = model.predict(X).values\n",
    "        predictions[col] = y_pred\n",
    "        y_pred_nz = predictions.loc[nonzero_names, col].values\n",
    "\n",
    "        rp, _ = stats.pearsonr(y, y_pred)\n",
    "        rs, _ = stats.spearmanr(y, y_pred)\n",
    "        pearson_correlations_COMMOT[col] = rp\n",
    "        spearman_correlations_COMMOT[col] = rs\n",
    "    \n",
    "        print(f\"Pearson correlation coefficient for {col}: {rp}\")\n",
    "        print(f\"Spearman correlation coefficient for {col}: {rs}\")\n",
    "\n",
    "        rp, _ = stats.pearsonr(y_nz, y_pred_nz)\n",
    "        rs, _ = stats.spearmanr(y_nz, y_pred_nz)\n",
    "        pearson_correlations_nz_subset_COMMOT[col] = rp\n",
    "        spearman_correlations_nz_subset_COMMOT[col] = rs\n",
    "\n",
    "        print(f\"Pearson correlation coefficient for nonzero {col}: {rp}\")\n",
    "        print(f\"Spearman correlation coefficient for nonzero {col}: {rs}\")\n",
    "    except:\n",
    "        not_modeled.append(col)"
   ]
  },
  {
   "cell_type": "code",
   "execution_count": null,
   "id": "ef0c34f0-33dc-42b7-ab40-49b09faa31b2",
   "metadata": {},
   "outputs": [],
   "source": [
    "# Save results- for the figure panel, only the Spearman correlation is shown, so save this file\n",
    "save_dir = \"/mnt/d/SCData/Spateo_data/CosMx\"\n",
    "pd.DataFrame.from_dict(spearman_correlations_COMMOT, orient='index', columns=['spearman']).to_csv(os.path.join(save_dir, \"spearman_correlations.csv\"))\n",
    "# Save list of not-modeled genes:\n",
    "with open(os.path.join(save_dir, \"COMMOT_not_modeled.txt\"), \"w\") as file:\n",
    "    for g in not_modeled:\n",
    "        file.write(f\"{g}\\n\")"
   ]
  },
  {
   "cell_type": "code",
   "execution_count": null,
   "id": "df165e8a-8829-414f-935c-1654687e1f40",
   "metadata": {},
   "outputs": [],
   "source": [
    "# Also save the models\n",
    "model_dir = \"/mnt/d/SCData/Spateo_data/CosMx/COMMOT_models\"\n",
    "if not os.path.exists(save_dir):\n",
    "    os.makedirs(save_dir)\n",
    "\n",
    "for model_name, model in models.items():\n",
    "    with open(os.path.join(save_path, \"models\", f\"{model_name}.pkl\"), \"wb\") as file:\n",
    "        pickle.dump(model, file)"
   ]
  },
  {
   "cell_type": "markdown",
   "id": "eb7e058c-625d-4ec9-9a18-d414720e91d8",
   "metadata": {},
   "source": [
    "#### Plot"
   ]
  },
  {
   "cell_type": "code",
   "execution_count": null,
   "id": "706c5b03-119a-4c3b-810b-5178b44738c6",
   "metadata": {},
   "outputs": [],
   "source": [
    "lung5_fov4_spateo = anndata.read_h5ad(path_to_cosmx)\n",
    "adata_targets = lung5_fov4_spateo[:, targets].copy()"
   ]
  },
  {
   "cell_type": "code",
   "execution_count": null,
   "id": "45f904ac-058b-499d-9f08-960a2b44a520",
   "metadata": {},
   "outputs": [],
   "source": [
    "targets_df = pd.DataFrame(adata_targets.X.toarray(), columns=targets, index=adata_targets.obs_names)\n",
    "targets_df"
   ]
  },
  {
   "cell_type": "code",
   "execution_count": null,
   "id": "55c6a7a9-b886-4316-ad0f-bf3e2a62429e",
   "metadata": {},
   "outputs": [],
   "source": [
    "# Load Spateo predictions to compute metrics for those as well:\n",
    "cci_output_directory = \"/mnt/d/SCAnalysis/Spateo_CosMx_benchmark/CCI_outputs\"\n",
    "spateo_save_path = os.path.join(cci_output_directory, \"predictions.csv\")\n",
    "spateo_reconst_df = pd.read_csv(spateo_save_path, index_col=0)"
   ]
  },
  {
   "cell_type": "code",
   "execution_count": null,
   "id": "f7c9bbbf-6717-4def-8694-4fb8d10076b7",
   "metadata": {},
   "outputs": [],
   "source": [
    "save_dir = \"/mnt/d/SCData/Spateo_data/CosMx\"\n",
    "commot_correlations_path = os.path.join(save_dir, \"spearman_correlations.csv\")\n",
    "spearman_correlations_COMMOT = pd.read_csv(commot_correlations_path, index_col=0)"
   ]
  },
  {
   "cell_type": "code",
   "execution_count": null,
   "id": "5b28577e-ba07-4167-bbaa-e708b76d5051",
   "metadata": {},
   "outputs": [],
   "source": [
    "# Model fitting may have errored for some of these genes for the COMMOT model:\n",
    "save_path = \"/mnt/d/SCData/Spateo_data/CosMx/fov_4_COMMOT_fit_results.csv\"\n",
    "\n",
    "with open(save_dir, \"COMMOT_not_modeled.txt\")) as file:\n",
    "    content = file.read()\n",
    "    # Assuming each item is on a separate line\n",
    "    not_modeled = content.splitlines()\n",
    "\n",
    "not_modeled"
   ]
  },
  {
   "cell_type": "code",
   "execution_count": null,
   "id": "4aec8f0d-9bd6-49ec-9863-6b130c311da7",
   "metadata": {},
   "outputs": [],
   "source": [
    "pearson_correlations_spateo = {}\n",
    "spearman_correlations_spateo = {}\n",
    "pearson_correlations_spateo_nz = {}\n",
    "spearman_correlations_spateo_nz = {}\n",
    "\n",
    "for col in spateo_reconst_df.columns:\n",
    "    # Load this prediction separately:\n",
    "    if col not in not_modeled:\n",
    "        y = targets_df[col].values.reshape(-1)\n",
    "        y_pred = spateo_reconst_df[col].values.reshape(-1)\n",
    "\n",
    "        nonzero_names = targets_df[col][targets_df[col] != 0].index.tolist()\n",
    "        y_nz = targets_df.loc[nonzero_names, col].values\n",
    "        y_pred_nz = spateo_reconst_df.loc[nonzero_names, col].values\n",
    "\n",
    "        rp, _ = stats.pearsonr(y, y_pred)\n",
    "        rs, _ = stats.spearmanr(y, y_pred)\n",
    "        pearson_correlations_spateo[col] = rp\n",
    "        spearman_correlations_spateo[col] = rs\n",
    "    \n",
    "        print(f\"Pearson correlation coefficient for {col}: {rp}\")\n",
    "        print(f\"Spearman correlation coefficient for {col}: {rs}\")\n",
    "\n",
    "        rp, _ = stats.pearsonr(y_nz, y_pred_nz)\n",
    "        rs, _ = stats.spearmanr(y_nz, y_pred_nz)\n",
    "        pearson_correlations_spateo_nz[col] = rp\n",
    "        spearman_correlations_spateo_nz[col] = rs\n",
    "    \n",
    "        print(f\"Pearson correlation coefficient for {col}, nonzero subset: {rp}\")\n",
    "        print(f\"Spearman correlation coefficient for {col}, nonzero subset: {rs}\")"
   ]
  },
  {
   "cell_type": "code",
   "execution_count": null,
   "id": "291ba5b8-4bc1-41dd-bbc0-f14714c6b20a",
   "metadata": {},
   "outputs": [],
   "source": [
    "# Comparative barplot:\n",
    "# Create dataframe\n",
    "spearman_df = pd.DataFrame({'Labels': list(spearman_correlations_COMMOT.index), \n",
    "                            'COMMOT-derived': spearman_correlations_COMMOT.values.reshape(-1), \n",
    "                            'Spateo': list(spearman_correlations_spateo.values())}).melt('Labels', var_name='Model', value_name='Correlation')"
   ]
  },
  {
   "cell_type": "code",
   "execution_count": null,
   "id": "999455f6-83dc-4446-a94e-fc7291c11266",
   "metadata": {},
   "outputs": [],
   "source": [
    "pastel_colors = sns.color_palette(\"pastel\")\n",
    "pastel_colors[0]"
   ]
  },
  {
   "cell_type": "code",
   "execution_count": null,
   "id": "5bc7291c-e8cb-4213-9143-edecec7fb315",
   "metadata": {},
   "outputs": [],
   "source": [
    "fig, ax = plt.subplots(1, 1, figsize=(30, 8))\n",
    "sns.barplot(x='Labels', y='Correlation', hue='Model', data=spearman_df, palette=colors, edgecolor='black')\n",
    "ax.set_title('Spearman correlations for modeled genes', fontsize=48)\n",
    "ax.set_xlabel('Genes', fontsize=36)\n",
    "ax.set_ylabel(r'Spearman ${r}$', fontsize=36)\n",
    "ax.set_xticklabels(ax.get_xticklabels(), rotation=90, fontsize=32)  # Rotate x-axis labels\n",
    "ax.set_ylim(0, 1)\n",
    "# Get current y-tick labels and convert them to string with desired format\n",
    "y_tick_labels = [f'{label:.2f}' for label in ax.get_yticks()]\n",
    "# Set new y-tick labels\n",
    "ax.set_yticklabels(y_tick_labels, fontsize=32)\n",
    "\n",
    "plt.legend(loc='center left', bbox_to_anchor=(1, 0.5), fontsize=30)\n",
    "\n",
    "plt.tight_layout()\n",
    "plt.show()"
   ]
  },
  {
   "cell_type": "markdown",
   "id": "3af8122f-0d75-4f7e-a46b-d95e37de2d9f",
   "metadata": {},
   "source": [
    "### Figure S5r, s- examples of predicted effects for specific \"signaling families\""
   ]
  },
  {
   "cell_type": "code",
   "execution_count": null,
   "id": "c79c70d6-f314-43d1-8c45-29c8fd97b369",
   "metadata": {},
   "outputs": [],
   "source": [
    "lung5_fov4_spateo = anndata.read_h5ad(path_to_cosmx)"
   ]
  },
  {
   "cell_type": "code",
   "execution_count": null,
   "id": "0710a844-9052-4f31-8f25-89f926a38c53",
   "metadata": {},
   "outputs": [],
   "source": [
    "model_dir = \"/mnt/d/SCData/Spateo_data/CosMx/COMMOT_models\""
   ]
  },
  {
   "cell_type": "code",
   "execution_count": null,
   "id": "5b56f5ed-4e25-469d-8883-862380e3e579",
   "metadata": {},
   "outputs": [],
   "source": [
    "target_gene = \"KRT19\""
   ]
  },
  {
   "cell_type": "markdown",
   "id": "20189058-de06-4ef7-9662-c778d6738be1",
   "metadata": {},
   "source": [
    "#### Plots for the COMMOT models"
   ]
  },
  {
   "cell_type": "code",
   "execution_count": null,
   "id": "8ddba8eb-e74f-447c-bc64-5b1019bc3ba7",
   "metadata": {},
   "outputs": [],
   "source": [
    "with open(os.path.join(model_dir, f\"{target_gene}.pkl\"), \"rb\") as file:\n",
    "    model = pickle.load(file)"
   ]
  },
  {
   "cell_type": "code",
   "execution_count": null,
   "id": "81f87a67-c9d7-424b-8bde-ba2cf2b5adce",
   "metadata": {},
   "outputs": [],
   "source": [
    "sm_coeffs_data = model.summary().tables[1].data\n",
    "sm_coeffs_df = pd.DataFrame(sm_coeffs_data[1:], columns=sm_coeffs_data[0])\n",
    "sm_coeffs_df = sm_coeffs_df.set_index(sm_coeffs_df.columns[0])\n",
    "sm_coeffs_df = sm_coeffs_df.astype(float)\n",
    "sm_coeffs_df"
   ]
  },
  {
   "cell_type": "code",
   "execution_count": null,
   "id": "ab36d34c-9426-43c5-97f3-5bd35e8e7ff3",
   "metadata": {},
   "outputs": [],
   "source": [
    "if target_gene == \"KRT19\":\n",
    "    interactions = [\"COL6A3-ITGA3_ITGB1\", \"COL4A2-ITGA2_ITGB1\", \"COL4A2-ITGA3_ITGB1\", \"COL6A1-ITGA2_ITGB1\", \"COL6A1-ITGA3_ITGB1\", \"COL9A2-ITGA3_ITGB1\", \"COL9A2-ITGA2_ITGB1\"]\n",
    "elif target_gene == \"DDR1\":\n",
    "    interactions = [col for col in sm_coeffs_df.index if \"WNT5A\" in col and \"FZD\" in col]\n",
    "\n",
    "matching_columns = [col for col in sm_coeffs_df.index if any(interaction in col for interaction in interactions)]\n",
    "filtered_df = sm_coeffs_df.loc[matching_columns]\n",
    "filtered_df"
   ]
  },
  {
   "cell_type": "code",
   "execution_count": null,
   "id": "c896c673-cc50-4e58-9175-c09b5aea5721",
   "metadata": {},
   "outputs": [],
   "source": [
    "filtered_df.index = [label.replace('commot-cellchat-', '') for label in filtered_df.index]\n",
    "filtered_df = filtered_df.sort_values('coef', ascending=False)\n",
    "filtered_df['Interaction'] = filtered_df.index\n",
    "filtered_df"
   ]
  },
  {
   "cell_type": "code",
   "execution_count": null,
   "id": "b57e1f46-16f5-4d5b-a857-a869ec2c5072",
   "metadata": {},
   "outputs": [],
   "source": [
    "filtered_df['coef'] = pd.to_numeric(filtered_df['coef'], errors='coerce')\n",
    "filtered_df = filtered_df.sort_values('coef', ascending=False)"
   ]
  },
  {
   "cell_type": "code",
   "execution_count": null,
   "id": "71334f38-67a3-46ad-9990-239ccd615928",
   "metadata": {},
   "outputs": [],
   "source": [
    "import matplotlib.colors as mcolors\n",
    "# Use the seismic colormap\n",
    "colormap = plt.get_cmap('seismic')\n",
    "\n",
    "# Determine the colors based on the coefficients\n",
    "norm = mcolors.Normalize(vmin=-1, vmax=1)\n",
    "colors = [colormap(norm(value)) for value in filtered_df['coef']]\n",
    "\n",
    "fig, ax = plt.subplots(figsize=(3.5, 2))\n",
    "sns.barplot(x='Interaction', y='coef', data=filtered_df, ax=ax, palette=colors, edgecolor='black')\n",
    "ax.set_title(f'COMMOT-derived model \\n predicted effects on {target_gene}', fontsize=14)\n",
    "ax.set_xlabel('L:R interactions', fontsize=18)\n",
    "ax.set_ylabel('Effect size', fontsize=18)\n",
    "plt.xticks(rotation=90, fontsize=14)\n",
    "plt.yticks(fontsize=10)\n",
    "plt.show()"
   ]
  },
  {
   "cell_type": "markdown",
   "id": "111cdbb5-2815-4dac-8a0e-b554570335ac",
   "metadata": {},
   "source": [
    "#### Plots for the Spateo models"
   ]
  },
  {
   "cell_type": "code",
   "execution_count": null,
   "id": "832d755e-7316-45da-bfc2-17ffc2921e76",
   "metadata": {},
   "outputs": [],
   "source": [
    "target_cells = np.where(lung5_fov4_spateo[:, target_gene].X.toarray() > 0)[0]\n",
    "adata_target = lung5_fov4_spateo[target_cells].copy()"
   ]
  },
  {
   "cell_type": "code",
   "execution_count": null,
   "id": "3d176503-2cd4-4701-b669-3d088cc7a3a8",
   "metadata": {},
   "outputs": [],
   "source": [
    "cci_output_directory = \"/mnt/d/SCAnalysis/Spateo_CosMx_benchmark/CCI_outputs\"\n",
    "# If this directory/file do not exist (indicating during model training a different path was specified, change this below):\n",
    "cci_output_id = os.path.join(cci_output_directory, f\"lung_fov4_target_genes_{target_gene}.csv\")\n",
    "target_coeffs = pd.read_csv(cci_output_id, index_col=0)\n",
    "target_coeffs = target_coeffs[[c for c in target_coeffs.columns if \"b_\" in c]]\n",
    "target_coeffs"
   ]
  },
  {
   "cell_type": "code",
   "execution_count": null,
   "id": "ebf67de2-8883-4fc9-a939-5fe6ba9d5fa4",
   "metadata": {},
   "outputs": [],
   "source": [
    "target_coeffs = target_coeffs.loc[target_cells]\n",
    "target_coeffs"
   ]
  },
  {
   "cell_type": "code",
   "execution_count": null,
   "id": "171a3002-b3d5-4681-9b72-188a04705832",
   "metadata": {},
   "outputs": [],
   "source": [
    "if target_gene == \"DDR1\":\n",
    "    target_coeffs_sub = target_coeffs.loc[:, [col for col in target_coeffs.columns if (((\"ITGB\" in col) and (\"COL\" in col)) or ((\"ITGB\" in col) and (\"FN1\" in col)) or ((\"CD44\" in col) and (\"COL\" in col)) or ((\"CD44\" in col) and (\"FN1\" in col)))]]\n",
    "    target_coeffs_sub.columns = [replace_col_with_collagens(c) for c in target_coeffs_sub.columns]\n",
    "    means = target_coeffs_sub.apply(lambda x: x[x > 0].mean())\n",
    "    means = pd.DataFrame(means, columns=[\"coeff\"])\n",
    "    means[\"Interaction\"] = [idx.replace(\"b_\", \"\") for idx in means.index]\n",
    "    means = means.sort_values('coeff', ascending=False)\n",
    "\n",
    "    import matplotlib.colors as mcolors\n",
    "    # Use the seismic colormap\n",
    "    colormap = plt.get_cmap('seismic')\n",
    "    \n",
    "    # Determine the colors based on the coefficients\n",
    "    norm = mcolors.Normalize(vmin=-means['coeff'].max(), vmax=means['coeff'].max())\n",
    "    colors = [colormap(norm(value)) for value in means['coeff']]\n",
    "    \n",
    "    fig, ax = plt.subplots(figsize=(3.5, 2))\n",
    "    sns.barplot(x='Interaction', y='coeff', data=means, ax=ax, palette=colors, edgecolor='black')\n",
    "    ax.set_title(f'Spateo model predicted \\n effects on {target_gene}- ECM', fontsize=18)\n",
    "    ax.set_xlabel('L:R interactions', fontsize=14)\n",
    "    ax.set_ylabel('Normalized \\n mean effect size', fontsize=14)\n",
    "    plt.xticks(rotation=90, fontsize=14)\n",
    "    plt.yticks(fontsize=10)\n",
    "    plt.show()\n",
    "elif target_gene == \"KRT19\":\n",
    "    target_coeffs_sub = target_coeffs.loc[:, [col for col in target_coeffs.columns if \"WNT5A\" in col and \"FZD\" in col]]\n",
    "    means = target_coeffs_sub.apply(lambda x: x[x > 0].mean())\n",
    "    means = pd.DataFrame(means, columns=[\"coeff\"])\n",
    "    means[\"Interaction\"] = [idx.replace(\"b_\", \"\") for idx in means.index]\n",
    "    means = means.sort_values('coeff', ascending=False)\n",
    "\n",
    "    import matplotlib.colors as mcolors\n",
    "    # Use the seismic colormap\n",
    "    colormap = plt.get_cmap('seismic')\n",
    "    \n",
    "    # Determine the colors based on the coefficients\n",
    "    norm = mcolors.Normalize(vmin=-means['coeff'].max(), vmax=means['coeff'].max())\n",
    "    colors = [colormap(norm(value)) for value in means['coeff']]\n",
    "    \n",
    "    fig, ax = plt.subplots(figsize=(3.5, 2))\n",
    "    sns.barplot(x='Interaction', y='coeff', data=means, ax=ax, palette=colors, edgecolor='black')\n",
    "    ax.set_title(f'Spateo model predicted \\n effects on {target_gene}- WNT', fontsize=18)\n",
    "    ax.set_xlabel('L:R interactions', fontsize=14)\n",
    "    ax.set_ylabel('Normalized \\n mean effect size', fontsize=14)\n",
    "    plt.xticks(rotation=90, fontsize=14)\n",
    "    plt.yticks(fontsize=10)\n",
    "    plt.show()"
   ]
  }
 ],
 "metadata": {
  "kernelspec": {
   "display_name": "ncem_env",
   "language": "python",
   "name": "ncem_env"
  },
  "language_info": {
   "codemirror_mode": {
    "name": "ipython",
    "version": 3
   },
   "file_extension": ".py",
   "mimetype": "text/x-python",
   "name": "python",
   "nbconvert_exporter": "python",
   "pygments_lexer": "ipython3",
   "version": "3.8.15"
  }
 },
 "nbformat": 4,
 "nbformat_minor": 5
}
