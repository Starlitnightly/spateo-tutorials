{
 "cells": [
  {
   "cell_type": "markdown",
   "id": "4ea201be-22cc-4b75-9f08-c92c62c2decb",
   "metadata": {},
   "source": [
    "# Title\n",
    "\n",
    "[Brief (~1 paragraph) introduction.]"
   ]
  },
  {
   "cell_type": "code",
   "execution_count": 1,
   "id": "f5f8f396-f3f9-4fcc-89f7-3a51df02c0fb",
   "metadata": {},
   "outputs": [],
   "source": [
    "import spateo as st\n",
    "# Other imports\n",
    "\n",
    "# Always include these for tutorial notebooks.\n",
    "%config InlineBackend.print_figure_kwargs={'facecolor' : \"w\"}\n",
    "%config InlineBackend.figure_format='retina'"
   ]
  },
  {
   "cell_type": "markdown",
   "id": "a5efb516-ef61-481e-a784-c53f798182cb",
   "metadata": {},
   "source": [
    "## 1. Load the data\n",
    "\n",
    "[Brief description of the data, like what paper it's from, organism, tissue, etc.]"
   ]
  },
  {
   "cell_type": "code",
   "execution_count": 2,
   "id": "de4d3ad4-afbb-4a47-abec-3a5e3a8875cb",
   "metadata": {},
   "outputs": [],
   "source": [
    "# All data should be downloaded from a public URL,\n",
    "# so that the notebook can be run in Google Colab."
   ]
  },
  {
   "cell_type": "markdown",
   "id": "ab8e9a69-b495-4503-b699-b1452e699b74",
   "metadata": {},
   "source": [
    "## 2. Do stuff"
   ]
  },
  {
   "cell_type": "code",
   "execution_count": 6,
   "id": "7f9d9a80-9a27-4f80-b210-2494c4da1799",
   "metadata": {},
   "outputs": [],
   "source": [
    "# Do whatever the tutorial is about, adding subsections as appropriate"
   ]
  },
  {
   "cell_type": "markdown",
   "id": "e21e6e5f-bafd-4e5f-824d-99d9f3471f21",
   "metadata": {},
   "source": [
    "<div class=\"alert alert-info\">\n",
    "Important\n",
    "    \n",
    "Use this to highlight important information.\n",
    "    \n",
    "</div>"
   ]
  },
  {
   "cell_type": "markdown",
   "id": "6dcf4d58-d12f-4258-bf45-ba807fd29f28",
   "metadata": {},
   "source": [
    "<div class=\"alert alert-warning\">\n",
    "Warning\n",
    "    \n",
    "Use this to warn the reader about something.\n",
    "    \n",
    "</div>"
   ]
  },
  {
   "cell_type": "code",
   "execution_count": null,
   "id": "d4c5b589-9153-4d6c-8c5b-b3e91ad32f3c",
   "metadata": {},
   "outputs": [],
   "source": []
  }
 ],
 "metadata": {
  "kernelspec": {
   "display_name": "Python 3",
   "language": "python",
   "name": "python3"
  },
  "language_info": {
   "codemirror_mode": {
    "name": "ipython",
    "version": 3
   },
   "file_extension": ".py",
   "mimetype": "text/x-python",
   "name": "python",
   "nbconvert_exporter": "python",
   "pygments_lexer": "ipython3",
   "version": "3.9.5"
  }
 },
 "nbformat": 4,
 "nbformat_minor": 5
}
